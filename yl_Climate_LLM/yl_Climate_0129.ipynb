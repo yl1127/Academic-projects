{
 "cells": [
  {
   "cell_type": "markdown",
   "id": "5a516e51-795a-4598-843f-36d8fd7f3221",
   "metadata": {},
   "source": [
    "## Summary\n",
    "\n",
    "**New model**: [Bard(Original)](https://bard.google.com/chat)\n",
    "\n",
    "For 13 questions from paper, [13 answers](https://g.co/bard/share/117570e457af)\n",
    "\n",
    "For 7 new questions, [7 answers](https://g.co/bard/share/644ebd6a4f50)\n",
    "\n",
    "API [Join Waitlist](https://cloud.google.com/ai/earlyaccess/join?hl=en)\n",
    "\n",
    "(1.22) View the all [answers](yl_Appendix.ipynb).\n",
    "\n",
    "(1.16) 7 questions:\n",
    "\n",
    "1. What is the best estimate of the equilibrium climate sensitivity?\n",
    "2. Is it possible the Arctic will become ice free at some points before 2050?\n",
    "3. How likely will the world see runaway ice loss from the Antarctic  ice sheets by 2100?\n",
    "4. To what extent has climate change impacted ice sheets in both polar regions?\n",
    "5. Will coastal New York see the impact of Greenland ice sheet melting by 2100?\n",
    "6. What will be the likely changes to weather and climate extremes in coastal New York around 2050 if the world take no action to reduce greenhouse gas emissions?\n",
    "7. What are the primary evidence and how robust is it that human activities caused the observed global warming since the pre-industrial period?\n",
    "\n",
    "The 13 original questions are from [chatClimate: Grounding Conversational AI in Climate Science](https://arxiv.org/abs/2304.05510)\n",
    "\n",
    "\n",
    "\n",
    "The Climate report is from [IPCC_AR6_WGIII_FullReport](https://sdgs.un.org/sites/default/files/2023-01/IPCC_AR6_WGIII_FullReport.pdf)\n",
    "\n",
    "(1.2)The Llama2(Original), ChatGPT-4(Original), Llama2+(Climate report) and Llama2 hybird code parts are available [here](https://github.com/yl1127/Academic-projects/blob/main/yl_Climate_LLM/yl_Climate_0102.ipynb).\n",
    "\n",
    "\n",
    "(12.18)The Llama2(Original) and Llama2+(Climate report) code parts are available [here](https://github.com/yl1127/Academic-projects/blob/main/yl_Climate_LLM/yl_LlamaCloud_Climate.ipynb).\n"
   ]
  },
  {
   "cell_type": "markdown",
   "id": "e14baf22-8c82-499d-8371-fa991679d3a6",
   "metadata": {},
   "source": [
    "<!-- | Rate | Llama2(Original) | GPT-4(Original) | Llama2 +(Climate report)|Llama2 hybird|\n",
    "| ----------- | ----------- |------------------|-------------------------|-----------------------|\n",
    "|Q1: What is the best estimate of the equilibrium climate sensitivity?| -- | -- | -- |  --|\n",
    "|Q2: Is it possible the Arctic will become ice free at some points before 2050?| -- | -- | -- |  --|\n",
    "|Q3: How likely will the world see runaway ice loss from the Antarctic  ice sheets by 2100?| -- | -- | -- |  --|\n",
    "|Q4: To what extent has climate change impacted ice sheets in both polar regions?| -- | -- | -- |  --|\n",
    "|Q5: Will coastal New York see the impact of Greenland ice sheet melting by 2100?| -- | -- | -- |  --|\n",
    "|Q6: What will be the likely changes to weather and climate extremes in coastal New York around 2050 if the world take no action to reduce greenhouse gas emissions?| -- | -- | -- |  --|\n",
    "|Q7: What are the primary evidence and how robust is it that human activities caused the observed global warming since the pre-industrial period?| -- | -- | -- |  --| -->"
   ]
  },
  {
   "cell_type": "markdown",
   "id": "1c1ea03a-cc69-45b0-80d3-664e48ca6831",
   "metadata": {},
   "source": [
    "## This demo app shows:\n",
    "* How to run Llama2 in the cloud hosted on Replicate\n",
    "* How to use LangChain to ask Llama general questions and follow up questions\n",
    "* How to use LangChain to load a recent PDF doc - This is the well known RAG (Retrieval Augmented Generation) method to let LLM such as Llama2 be able to answer questions about the data not publicly available when Llama2 was trained, or about your own data. RAG is one way to prevent LLM's hallucination\n",
    "* How to use LangChain to load a directory which includes multiple PDF docs.\n",
    "* You should also review the [HelloLlamaLocal](HelloLlamaLocal.ipynb) notebook for more information on RAG\n",
    "\n",
    "**Note** We will be using Replicate to run the examples here. You will need to first sign in with Replicate with your github account, then create a free API token [here](https://replicate.com/account/api-tokens) that you can use for a while. \n",
    "After the free trial ends, you will need to enter billing info to continue to use Llama2 hosted on Replicate."
   ]
  },
  {
   "cell_type": "markdown",
   "id": "61dde626",
   "metadata": {},
   "source": [
    "Let's start by installing the necessary packages:\n",
    "- sentence-transformers for text embeddings\n",
    "- chromadb gives us database capabilities \n",
    "- langchain provides necessary RAG tools for this demo\n",
    "\n",
    "And setting up the Replicate token."
   ]
  },
  {
   "cell_type": "markdown",
   "id": "c5cd8508-c8b8-4cd2-be26-01b97e664ff9",
   "metadata": {},
   "source": [
    "### How to run original Llama2?"
   ]
  },
  {
   "cell_type": "code",
   "execution_count": 1,
   "id": "2c608df5",
   "metadata": {},
   "outputs": [],
   "source": [
    "# !pip install langchain replicate sentence-transformers chromadb pypdf"
   ]
  },
  {
   "cell_type": "code",
   "execution_count": 2,
   "id": "b9c5546a",
   "metadata": {},
   "outputs": [
    {
     "name": "stdin",
     "output_type": "stream",
     "text": [
      " ········\n"
     ]
    }
   ],
   "source": [
    "from getpass import getpass\n",
    "import os\n",
    "\n",
    "REPLICATE_API_TOKEN = getpass()\n",
    "os.environ[\"REPLICATE_API_TOKEN\"] = REPLICATE_API_TOKEN\n"
   ]
  },
  {
   "cell_type": "markdown",
   "id": "3e8870c1",
   "metadata": {},
   "source": [
    "Next we call the Llama 2 model from replicate. In this example we will use the llama 2 13b chat model. You can find more Llama 2 models by searching for them on the [Replicate model explore page](https://replicate.com/explore?query=llama).\n",
    "\n",
    "You can add them here in the format: model_name/version\n"
   ]
  },
  {
   "cell_type": "code",
   "execution_count": 21,
   "id": "ad536adb",
   "metadata": {},
   "outputs": [],
   "source": [
    "from langchain.llms import Replicate\n",
    "from IPython.display import display, Markdown\n",
    "\n",
    "llama2_13b = \"meta/llama-2-13b-chat:f4e2de70d66816a838a89eeeb621910adffb0dd0baba3976c96980970978018d\"\n",
    "llama2_70b = \"meta/llama-2-70b-chat:02e509c789964a7ea8736978a43525956ef40397be9033abf9fd2badfe68c9e3\"\n",
    "# llm = Replicate(\n",
    "#     model=llama2_13b,\n",
    "#     model_kwargs={'prompt': f\"{string_dialogue} {question} Assistant: \", \"temperature\": 0.01, \"top_p\": 1, \"max_new_tokens\":5000},\n",
    "#     # max_tokens = 2000,\n",
    "#     # n_ctx=4000,\n",
    "# )"
   ]
  },
  {
   "cell_type": "code",
   "execution_count": 61,
   "id": "94bb2186-71ba-4c52-9efd-bdae1f00e26f",
   "metadata": {},
   "outputs": [],
   "source": [
    "import langchain\n",
    "langchain.debug = False\n",
    "\n",
    "def get_llm(question):\n",
    "    input_prompt = {\n",
    "    \"system\": {\n",
    "        \"content\": \"You are Q&A bot. A highly intelligent system that answers user questions\"\n",
    "    },\n",
    "    \"role\": \"user\",\n",
    "    \"content\": question\n",
    "    }\n",
    "\n",
    "    llm = Replicate(\n",
    "        model=llama2_13b,\n",
    "        # model = llama2_70b,\n",
    "        model_kwargs={'prompts': f\"{input_prompt}\", \"temperature\": 0.01, \"top_p\": 1, \"max_new_tokens\":5000},\n",
    "        # max_tokens = 2000,\n",
    "        # n_ctx=4000,\n",
    "    )\n",
    "    return llm(question)"
   ]
  },
  {
   "cell_type": "markdown",
   "id": "fd207c80",
   "metadata": {},
   "source": [
    "With the model set up, you are now ready to ask some questions. Here is an example of the simplest way to ask the model some general questions."
   ]
  },
  {
   "cell_type": "markdown",
   "id": "ced5de48-87d6-4b14-9091-c5ea256cb682",
   "metadata": {},
   "source": [
    "#### Q&A: New questions"
   ]
  },
  {
   "cell_type": "code",
   "execution_count": 70,
   "id": "2e078957-b820-4808-8e6d-813b639bb202",
   "metadata": {},
   "outputs": [
    {
     "name": "stdout",
     "output_type": "stream",
     "text": [
      " As a helpful assistant, I can provide you with the most up-to-date and comprehensive information on the topic of equilibrium climate sensitivity. The equilibrium climate sensitivity (ECS) is a measure of how much the Earth's average surface temperature will increase in response to a doubling of atmospheric carbon dioxide (CO2) concentrations.\n",
      "\n",
      "The ECS is an important parameter for understanding the potential impacts of human activities on the climate system, and it has been the subject of extensive research and debate in the scientific community. Based on the latest assessment reports from the Intergovernmental Panel on Climate Change (IPCC), the best estimate of the ECS is likely to be in the range of 1.5°C to 4.5°C (2.7°F to 8.1°F) per doubling of CO2 concentrations.\n",
      "\n",
      "This range represents the expected warming over the long term, after the climate has reached a new equilibrium state in response to increased greenhouse gas emissions. However, it's important to note that the actual warming could be higher or lower than this range, depending on various factors such as changes in ocean currents, clouds, and other feedback processes.\n",
      "\n",
      "It's also worth noting that there is still some uncertainty around the exact value of the ECS, and different models and experiments have produced a range of estimates. Some studies have suggested that the ECS may be higher or lower than the IPCC's best estimate range. For example, some studies have estimated an ECS of up to 6°C (10.8°F) or more, while others have estimated a lower ECS of around 1°C (1.8°F).\n",
      "\n",
      "Overall, while there is still some uncertainty around the exact value of the ECS, the best available evidence suggests that the Earth's average surface temperature is likely to increase by between 1.5°C and 4.5°C (2.7°F to 8.1°F) per doubling of atmospheric CO2 concentrations. This information can help inform decision-making and policy development related to climate change mitigation and adaptation efforts.\n"
     ]
    }
   ],
   "source": [
    "question = \"What is the best estimate of the equilibrium climate sensitivity?\" #Q1\n",
    "# [Another Cell](#another_cell)\n",
    "answer = get_llm(question)\n",
    "print(answer)"
   ]
  },
  {
   "cell_type": "code",
   "execution_count": 63,
   "id": "e212ac2c-e59f-4aca-ac75-efd9c5dcaae9",
   "metadata": {},
   "outputs": [
    {
     "name": "stdout",
     "output_type": "stream",
     "text": [
      " As a helpful assistant, I can provide you with information on the current state of knowledge on this topic. However, please note that predicting exact timelines for future events is inherently uncertain and subject to change based on various factors. With that said, here's what we currently know about the potential for an ice-free Arctic:\n",
      "\n",
      "The Arctic region has been warming at a rate that is twice as fast as the global average over the past few decades. This rapid warming has led to significant changes in the extent and thickness of sea ice cover in the Arctic. In recent years, the minimum extent of sea ice in the Arctic has been declining at a rate of around 13% per decade.\n",
      "\n",
      "While it is difficult to predict exactly when the Arctic will become ice-free, scientists have provided several projections based on different scenarios. According to the Intergovernmental Panel on Climate Change (IPCC), if greenhouse gas emissions continue to rise at their current rate, the Arctic could experience ice-free summers within the next few decades. Specifically, the IPCC projects that the Arctic could be ice-free during the summer months by:\n",
      "\n",
      "* 2040-2050 under a high-emission scenario (RCP8.5)\n",
      "* 2060-2070 under a medium-emission scenario (RCP4.5)\n",
      "\n",
      "However, it's important to note that these projections are based on averages and there may still be some ice coverage in the Arctic even during ice-free summers. Additionally, the melting of sea ice does not necessarily mean that the entire Arctic will become ice-free; land-based ice sheets and glaciers may still persist.\n",
      "\n",
      "It's worth mentioning that there is some debate among scientists about the accuracy of these projections and the exact timeline for an ice-free Arctic. Some research suggests that the melting of sea ice may be happening more quickly than previously thought, while other studies suggest that the process may be slower. Ultimately, the timing of an ice-free Arctic will depend on a variety of factors, including future greenhouse gas emissions and the response of the Earth's climate system.\n"
     ]
    }
   ],
   "source": [
    "question = \"Is it possible the Arctic will become ice free at some points before 2050?\" #Q2\n",
    "\n",
    "answer = get_llm(question)\n",
    "print(answer)"
   ]
  },
  {
   "cell_type": "code",
   "execution_count": 64,
   "id": "892cce42-e88e-490f-bd14-283d41f6a5f1",
   "metadata": {},
   "outputs": [
    {
     "name": "stdout",
     "output_type": "stream",
     "text": [
      " As a helpful assistant, I can provide you with the most up-to-date information available on the likelihood of runaway ice loss from the Antarctic ice sheets by 2100.\n",
      "\n",
      "According to the Intergovernmental Panel on Climate Change (IPCC), the Antarctic ice sheet is one of the most vulnerable regions to climate change due to its low latitude and high elevation. The IPCC has projected that under a business-as-usual scenario, the Antarctic ice sheet could lose up to 70% of its mass by 2100, with a best estimate of around 40%. However, this projection is based on the assumption that greenhouse gas emissions will continue to rise at current rates, which is not a certainty.\n",
      "\n",
      "More recent studies have suggested that the Antarctic ice sheet may be more resilient to warming than previously thought, but it is still highly sensitive to changes in temperature and sea level. For example, a study published in the journal Nature in 2020 found that the Antarctic ice sheet could potentially lose up to 30% of its mass by 2100 if global temperatures rise by 2°C above pre-industrial levels.\n",
      "\n",
      "It's important to note that the timing and magnitude of ice loss from the Antarctic ice sheet are subject to significant uncertainties and depend on a range of factors, including the rate of global warming, changes in ocean currents, and the response of other parts of the Earth's climate system. Additionally, there is evidence that some Antarctic glaciers are already experiencing increased melting due to rising air temperatures and changes in precipitation patterns.\n",
      "\n",
      "In summary, while the exact likelihood of runaway ice loss from the Antarctic ice sheets by 2100 is difficult to predict with certainty, it is clear that the region is highly vulnerable to climate change and that urgent action is needed to mitigate its impacts.\n"
     ]
    }
   ],
   "source": [
    "question = \"How likely will the world see runaway ice loss from the Antarctic  ice sheets by 2100?\" #Q3\n",
    "\n",
    "answer = get_llm(question)\n",
    "print(answer)"
   ]
  },
  {
   "cell_type": "code",
   "execution_count": 65,
   "id": "4f5182c5-bc4e-4ce7-a1b1-91ea334f4bf3",
   "metadata": {},
   "outputs": [
    {
     "name": "stdout",
     "output_type": "stream",
     "text": [
      " As a helpful assistant, I'd be happy to provide information on the impact of climate change on ice sheets in both polar regions!\n",
      "\n",
      "Climate change has had a profound effect on the ice sheets in both the Arctic and Antarctic regions. Here are some key points about the impact of climate change on these ice sheets:\n",
      "\n",
      "Arctic Ice Sheet:\n",
      "\n",
      "1. Thickness loss: The thickness of the Arctic ice sheet has decreased by about 40% over the past few decades.\n",
      "2. Area coverage: The area covered by Arctic sea ice has declined by about 75% over the same period.\n",
      "3. Volume loss: A study published in 2019 found that the volume of Arctic sea ice had declined by about 75% between 1980 and 2018.\n",
      "4. Melt season: The melting season for Arctic sea ice has lengthened by about 20-30 days since the 1980s.\n",
      "\n",
      "Antarctic Ice Sheet:\n",
      "\n",
      "1. Thickness increase: Counterintuitively, the thickness of the Antarctic ice sheet has increased slightly over the past few decades due to an increase in snowfall.\n",
      "2. Area coverage: The area covered by Antarctic sea ice has remained relatively stable over the past few decades.\n",
      "3. Volume trend: While the volume of Antarctic ice has not changed significantly over the short term, there is evidence that the ice sheet is losing mass at a rate of about 0.5 meters (1.6 feet) per year.\n",
      "4. Glacier retreat: Many glaciers in West Antarctica have been retreating rapidly, with some losing up to 10% of their length over just a few years.\n",
      "\n",
      "It's important to note that while the Arctic ice sheet is losing mass at a much faster rate than the Antarctic ice sheet, both regions are experiencing significant changes as a result of climate change. These changes can have far-reaching impacts on global sea levels, ocean currents, and ecosystems.\n"
     ]
    }
   ],
   "source": [
    "question = \"To what extent has climate change impacted ice sheets in both polar regions?\" #Q4\n",
    "\n",
    "answer = get_llm(question)\n",
    "print(answer)"
   ]
  },
  {
   "cell_type": "code",
   "execution_count": 66,
   "id": "a5587695-bfd3-45e5-9384-9b193c984ed2",
   "metadata": {},
   "outputs": [
    {
     "name": "stdout",
     "output_type": "stream",
     "text": [
      " As a helpful assistant, I'll do my best to provide you with accurate and up-to-date information on the potential impacts of climate change in coastal New York by 2100.\n",
      "\n",
      "It is important to note that predicting the exact effects of climate change can be challenging due to the complexity of the Earth's systems and the uncertainty of future human activities. However, based on current scientific research and trends, here are some possible implications of Greenland ice sheet melting for coastal New York:\n",
      "\n",
      "1. Sea level rise: The melting of the Greenland ice sheet contributes to sea level rise, which could lead to increased flooding and erosion along the coastline. By 2100, sea levels are projected to rise by at least 0.5 meters (1.6 feet) compared to 1980 levels, with higher projections if emissions continue unchecked. This could result in more frequent and severe coastal floods, especially during storms and high tides.\n",
      "2. Coastal erosion: As sea levels rise, the shoreline will retreat inland, leading to loss of coastal land and infrastructure. Beaches, dunes, and other natural barriers may erode faster than they can recover, causing damage to coastal ecosystems and human settlements.\n",
      "3. Saltwater intrusion: As seas rise, saltwater may penetrate further inland, potentially contaminating freshwater sources and affecting agriculture, industry, and human consumption. This could lead to water scarcity issues and increased costs for desalination or alternative water sources.\n",
      "4. Increased storm surges: Warmer ocean temperatures and rising sea levels can intensify hurricanes and nor'easters, leading to more frequent and intense storm surges. These surges can cause extensive damage to coastal infrastructure, including homes, businesses, and critical transportation networks like airports and seaports.\n",
      "5. Loss of biodiversity: Rising sea levels and changing ocean conditions can disrupt the delicate balance of coastal ecosystems, leading to a decline in biodiversity and potential extinctions. This could have cascading effects on the entire food chain and ecological systems, impacting both wildlife and human communities that rely on these resources.\n",
      "6. Economic consequences: The impacts of Greenland ice sheet melting on coastal New York could result in significant economic losses, particularly for areas heavily reliant on tourism, fishing, and real estate. Property values may decrease, and local governments may face increased costs for flood protection, infrastructure maintenance, and social services.\n",
      "7. Human displacement: As coastal areas become less habitable due to rising sea levels and more frequent flooding, some residents may be forced to relocate inland, potentially leading to population shifts and social challenges.\n",
      "\n",
      "It is important to note that these projections are based on current trends and do not take into account unforeseen events or future changes in climate policies. However, by understanding the potential implications of Greenland ice sheet melting, we can better prepare for the challenges ahead and work towards mitigating the worst effects of climate change.\n"
     ]
    }
   ],
   "source": [
    "question = \"Will coastal New York see the impact of Greenland ice sheet melting by 2100?\" #Q5\n",
    "\n",
    "answer = get_llm(question)\n",
    "print(answer)"
   ]
  },
  {
   "cell_type": "code",
   "execution_count": 67,
   "id": "50606526-3487-415b-bc67-90196029bc00",
   "metadata": {},
   "outputs": [
    {
     "name": "stdout",
     "output_type": "stream",
     "text": [
      " As a helpful assistant, I can provide you with information on the potential changes to weather and climate extremes in coastal New York around 2050 if the world takes no action to reduce greenhouse gas emissions.\n",
      "\n",
      "According to projections from the Intergovernmental Panel on Climate Change (IPCC), if greenhouse gas emissions continue to rise at current rates, coastal areas like New York City can expect significant changes to their weather and climate by mid-century. Here are some of the likely changes:\n",
      "\n",
      "1. Sea level rise: The IPCC projects that sea levels will rise by 0.52-0.98 meters (1.7-3.2 feet) by 2050, relative to 1986-2005 levels. This will lead to more frequent and severe coastal flooding, especially during storms and high tides.\n",
      "2. Increased frequency and intensity of extreme weather events: Coastal New York can expect an increase in the frequency and intensity of extreme weather events such as hurricanes, nor'easters, and heatwaves. These events will become more severe and potentially devastating, leading to loss of life and property damage.\n",
      "3. Warmer temperatures: Coastal New York can expect warmer temperatures year-round, with average temperature increases ranging from 2-4°F (1.1-2.2°C) by 2050. This will lead to more hot days and fewer cold days, which can have significant impacts on human health, infrastructure, and ecosystems.\n",
      "4. Changes in precipitation patterns: There is evidence that precipitation patterns will change in coastal New York, with more intense and frequent heavy rainfall events, and less frequent but more prolonged droughts. This can lead to more frequent flash flooding and soil moisture deficits.\n",
      "5. Increased risk of water scarcity: With warmer temperatures and changes in precipitation patterns, coastal New York may experience more frequent and prolonged droughts, leading to increased risk of water scarcity and competition for limited water resources.\n",
      "6. Loss of coastal ecosystems: Rising sea levels and increased storm activity will likely result in the loss of coastal ecosystems, including wetlands, beaches, and dunes. These ecosystems provide important habitat for wildlife and help protect against storm surges and erosion.\n",
      "7. Increased risk of coastal erosion: As sea levels rise, coastal erosion will become more pronounced, especially during storms. This can lead to loss of property and infrastructure, as well as habitat destruction for plants and animals.\n",
      "8. More frequent and severe heatwaves: Coastal New York can expect more frequent and severe heatwaves, which can have significant impacts on human health, energy consumption, and agricultural productivity.\n",
      "9. Increased risk of vector-borne diseases: Warmer temperatures and more frequent extreme weather events can increase the spread of vector-borne diseases such as West Nile virus and Lyme disease.\n",
      "10. Economic impacts: The changes described above can have significant economic impacts, including damage to infrastructure, increased costs for healthcare and emergency response, and loss of productivity in various industries.\n",
      "\n",
      "It's important to note that these projections are based on current trends and do not take into account any efforts to reduce greenhouse gas emissions or adapt to the changing climate. If strong action is taken to reduce emissions and adapt to the changing climate, the severity of these impacts can be reduced.\n"
     ]
    }
   ],
   "source": [
    "question = \"What will be the likely changes to weather and climate extremes in coastal New York around 2050 if the world take no action to reduce greenhouse gas emissions?\" #Q6\n",
    "\n",
    "answer = get_llm(question)\n",
    "print(answer)"
   ]
  },
  {
   "cell_type": "code",
   "execution_count": 68,
   "id": "b71a001f-750a-41ef-98d6-0dcdb6963bd5",
   "metadata": {},
   "outputs": [
    {
     "name": "stdout",
     "output_type": "stream",
     "text": [
      " As a helpful assistant, I'd be happy to provide information on the primary evidence and the robustness of the evidence that human activities have caused the observed global warming since the pre-industrial period.\n",
      "\n",
      "The overwhelming consensus of climate scientists is that human activities, particularly the burning of fossil fuels and deforestation, have significantly contributed to the increase in global temperatures since the pre-industrial era. The evidence for this can be found in multiple lines of research and data from various fields of study. Here are some of the primary pieces of evidence:\n",
      "\n",
      "1. Increase in atmospheric CO2 concentration: Human activities such as burning fossil fuels and land use changes like deforestation have led to an increase in the concentration of carbon dioxide (CO2) in the atmosphere. This increase is well documented through direct measurements at ground-based stations and remote sensing techniques. The observed increase in CO2 concentrations is consistent with the expected fingerprint of human activities.\n",
      "\n",
      "Robustness: Strong (9 out of 10). The measurement of increasing CO2 concentrations is based on multiple lines of evidence, including direct measurements, atmospheric transport models, and satellite observations. These independent lines of evidence all point to the same conclusion: human activities are causing the increase in atmospheric CO2 concentrations.\n",
      "\n",
      "2. Temperature records: Global temperature records show a steady increase in temperatures over the past century, with the last decade being the warmest on record. This warming is evident in both surface and satellite-based temperature measurements. The observed warming is consistent with the expected response of the climate system to increased greenhouse gases.\n",
      "\n",
      "Robustness: Moderate (6 out of 10). While there may be some variability in global temperatures due to natural factors, the overall trend is clear: the planet is warming, and the trend is consistent with the expected impact of human activities. However, uncertainties remain in the precise magnitude and timing of the warming, particularly when considering regional or local scales.\n",
      "\n",
      "3. Attribution studies: Attribution studies use computer models to simulate the climate with and without human influences like greenhouse gas emissions and aerosol particles. These studies consistently find that the observed warming can only be explained when including human activities.\n",
      "\n",
      "Robustness: Strong (9 out of 10). Attribution studies have been conducted using multiple models and different approaches, all of which point to the same conclusion: human activities are the dominant cause of the observed warming since the pre-industrial era.\n",
      "\n",
      "4. Climate sensitivity: Climate sensitivity refers to how much the Earth's average surface temperature will change in response to a given amount of greenhouse gas emissions. Observations and modeling studies suggest that the climate is more sensitive to greenhouse gases than previously thought, indicating that even small increases in emissions could lead to significant warming.\n",
      "\n",
      "Robustness: Moderate (7 out of 10). While there is still some uncertainty in the exact value of climate sensitivity, the evidence suggests that the climate is likely to be more sensitive to greenhouse gases than previously believed. This implies that even modest reductions in emissions could have a significant impact on mitigating global warming.\n",
      "\n",
      "5. Consistency of multiple lines of evidence: The evidence for human-caused global warming is not based on any single piece of data or study but rather the consistent convergence of multiple lines of evidence from various fields of research. This consistency provides strong support for the conclusion that human activities are causing the observed warming.\n",
      "\n",
      "Robustness: Strong (9 out of 10). The strength of the evidence for human-caused global warming lies in the consistency of multiple lines of evidence from diverse fields of research, including atmospheric physics, oceanography, glaciology, and more. This consistency makes it highly unlikely that the observed warming is due to natural factors alone.\n",
      "\n",
      "In summary, the primary evidence for human-caused global warming comes from multiple lines of research, including increasing CO2 concentrations, rising temperatures, attribution studies, climate sensitivity, and the consistency of multiple lines of evidence. These lines of evidence provide a robust foundation for the conclusion that human activities are causing the observed global warming since the pre-industrial period.\n"
     ]
    }
   ],
   "source": [
    "question = \"What are the primary evidence and how robust is it that human activities caused the observed global warming since the pre-industrial period?\" #Q7\n",
    "\n",
    "answer = get_llm(question)\n",
    "print(answer)"
   ]
  },
  {
   "cell_type": "markdown",
   "id": "08366ebd-7ed5-4a88-8b11-0d5c79ed1127",
   "metadata": {},
   "source": [
    "### How to load an external PDF and do embedding?"
   ]
  },
  {
   "cell_type": "code",
   "execution_count": 7,
   "id": "f5303d75",
   "metadata": {},
   "outputs": [],
   "source": [
    "from langchain.document_loaders import PyPDFLoader\n",
    "loader = PyPDFLoader(\"IPCC_AR6_WGIII_FullReport.pdf\")\n",
    "docs = loader.load()"
   ]
  },
  {
   "cell_type": "code",
   "execution_count": 8,
   "id": "678c2b4a",
   "metadata": {},
   "outputs": [
    {
     "name": "stdout",
     "output_type": "stream",
     "text": [
      "page_content='88\\nTSTechnical SummaryBox TS.7 (continued)\\nCBA analysis and CBA integrated assessment models (IAMs) remain limited in their ability to represent all damages from climate \\nchange, including non-monetary damages, and capture the uncertain and heterogeneous nature of damages and the risk of catastrophic \\ndamages, such that other lines of evidence should be considered in decision-making. However, emerging evidence suggests that, even \\nwithout accounting for co-benefits of mitigation on other sustainable development dimensions, the global benefits of pathways \\nlimiting warming to 2°C (>67%) outweigh global mitigation costs over the 21st\\xa0century (medium confidence). Depending on the \\nstudy, the reason for this result lies in assumptions of economic damages from climate change in the higher end of available estimates, \\nin the consideration of risks of tipping points or damages to natural capital and non-market goods, or in the combination of updated \\nrepresentations of carbon cycle and climate modules, updated damage estimates and updated representations of economic and \\nmitigation dynamics. In the studies that perform a\\xa0sensitivity analysis, this result is found to be robust to a\\xa0wide range of assumptions \\non social preferences (in particular on inequality aversion and pure rate of time preference), and holds except if assumptions of \\neconomic damages from climate change are in the lower end of available estimates and the pure rate of time preference is in the \\nhigher range of values usually considered (typically above 1.5%). However, although such pathways bring overall net benefits over time \\n(in terms of aggregate discounted present value), they involve distributional consequences between and within generations.\\xa0{3.6.2}' metadata={'source': 'IPCC_AR6_WGIII_FullReport.pdf', 'page': 100}\n"
     ]
    }
   ],
   "source": [
    "# check docs length and content\n",
    "# print(len(docs), docs[0].page_content[0:300])\n",
    "print(docs[100])"
   ]
  },
  {
   "cell_type": "markdown",
   "id": "73b8268e",
   "metadata": {},
   "source": [
    "We need to store our documents. There are more than 30 vector stores (DBs) supported by LangChain. \n",
    "For this example we will use [Chroma](https://python.langchain.com/docs/integrations/vectorstores/chroma) which is light-weight and in memory so it's easy to get started with.\n",
    "For other vector stores especially if you need to store a large amount of data - see https://python.langchain.com/docs/integrations/vectorstores\n",
    "\n",
    "We will also import the HuggingFaceEmbeddings and RecursiveCharacterTextSplitter to assist in storing the documents."
   ]
  },
  {
   "cell_type": "code",
   "execution_count": 9,
   "id": "eecb6a34",
   "metadata": {},
   "outputs": [],
   "source": [
    "from langchain.vectorstores import Chroma\n",
    "\n",
    "# embeddings are numerical representations of the question and answer text\n",
    "from langchain.embeddings import HuggingFaceEmbeddings\n",
    "\n",
    "# use a common text splitter to split text into chunks\n",
    "from langchain.text_splitter import RecursiveCharacterTextSplitter"
   ]
  },
  {
   "cell_type": "markdown",
   "id": "36d4a17c",
   "metadata": {},
   "source": [
    "To store the documents, we will need to split them into chunks using [`RecursiveCharacterTextSplitter`](https://python.langchain.com/docs/modules/data_connection/document_transformers/text_splitters/recursive_text_splitter) and create vector representations of these chunks using [`HuggingFaceEmbeddings`](https://www.google.com/search?q=langchain+hugging+face+embeddings&sca_esv=572890011&ei=ARUoZaH4LuumptQP48ah2Ac&oq=langchian+hugg&gs_lp=Egxnd3Mtd2l6LXNlcnAiDmxhbmdjaGlhbiBodWdnKgIIADIHEAAYgAQYCjIHEAAYgAQYCjIHEAAYgAQYCjIHEAAYgAQYCjIHEAAYgAQYCjIHEAAYgAQYCjIHEAAYgAQYCjIHEAAYgAQYCjIHEAAYgAQYCjIHEAAYgAQYCkjeHlC5Cli5D3ABeAGQAQCYAV6gAb4CqgEBNLgBAcgBAPgBAcICChAAGEcY1gQYsAPiAwQYACBBiAYBkAYI&sclient=gws-wiz-serp) on them before storing them into our vector database. \n",
    "\n",
    "In general, you should use larger chuck sizes for highly structured text such as code and smaller size for less structured text. You may need to experiment with different chunk sizes and overlap values to find out the best numbers."
   ]
  },
  {
   "cell_type": "code",
   "execution_count": 10,
   "id": "bc65e161",
   "metadata": {
    "editable": true,
    "slideshow": {
     "slide_type": ""
    },
    "tags": []
   },
   "outputs": [],
   "source": [
    "text_splitter = RecursiveCharacterTextSplitter(chunk_size=1000, chunk_overlap=20)\n",
    "all_splits = text_splitter.split_documents(docs)\n",
    "\n",
    "# create the vector db to store all the split chunks as embeddings\n",
    "embeddings = HuggingFaceEmbeddings()\n",
    "vectordb = Chroma.from_documents(\n",
    "    documents=all_splits,\n",
    "    embedding=embeddings,\n",
    ")\n",
    "# This part is not GPU supported \n",
    "# Slow about 30 mins"
   ]
  },
  {
   "cell_type": "markdown",
   "id": "e1f719b9-67ff-4637-8996-133cc1c08724",
   "metadata": {},
   "source": [
    "### How to run Llama2 + pdf (chatClimate)?"
   ]
  },
  {
   "cell_type": "markdown",
   "id": "54ad02d7",
   "metadata": {},
   "source": [
    "We then use `RetrievalQA` to retrieve the documents from the vector database and give the model more context on Llama 2, thereby increasing its knowledge.\n",
    "\n",
    "For each question, LangChain performs a semantic similarity search of it in the vector db, then passes the search results as the context to Llama to answer the question."
   ]
  },
  {
   "cell_type": "code",
   "execution_count": 49,
   "id": "e3eeb61e-9431-4f4c-bf2c-517a90d3878e",
   "metadata": {},
   "outputs": [],
   "source": [
    "# use LangChain's RetrievalQA, to associate Llama with the loaded documents stored in the vector db\n",
    "from langchain.chains import RetrievalQA\n",
    "\n",
    "def get_chatclimate(question, External_knowledge):\n",
    "    input_prompt = {\n",
    "            \"system\": {\n",
    "                \"content\": \"You are a Q&A bot, an intelligent system that answers user questions ONLY based on the information provided by the user. If you use user information, please indicate the Page and Reference, which are provided below each piece of information. If the information cannot be found in the information provided by the user, please say ’I don’t know’\"\n",
    "            },\n",
    "            \"role\": \"user\", \"query\": question\n",
    "        }\n",
    "    llm = Replicate(\n",
    "        # model= llama2_70b,\n",
    "        model= llama2_13b,\n",
    "        model_kwargs={'prompts': f\"{input_prompt}\", \"temperature\": 0.01, \"top_p\": 1, \"max_new_tokens\":5000},\n",
    "        )\n",
    "    qa_chain = RetrievalQA.from_chain_type(\n",
    "        llm,\n",
    "        # chain_type = \"map_reduce\",\n",
    "        retriever=vectordb.as_retriever(),\n",
    "        chain_type_kwargs = {\n",
    "        \"document_separator\": \"<<<<>>>>>\"\n",
    "        }\n",
    "        )\n",
    "    return qa_chain(input_prompt)\n"
   ]
  },
  {
   "cell_type": "code",
   "execution_count": 50,
   "id": "94368852-44d8-4c2a-8208-2c832a972545",
   "metadata": {},
   "outputs": [],
   "source": [
    "question = \"Is it still possible to limit warming to 1.5°C?\" #Q1\n",
    "\n",
    "External_knowledge = vectordb"
   ]
  },
  {
   "cell_type": "code",
   "execution_count": 51,
   "id": "f1a0d4d2-2d89-41b7-a3ff-d731adcd780f",
   "metadata": {},
   "outputs": [],
   "source": [
    "import langchain\n",
    "# use LangChain's RetrievalQA, to associate Llama with the loaded documents stored in the vector db\n",
    "from langchain.chains import RetrievalQA\n",
    "\n",
    "langchain.debug = True"
   ]
  },
  {
   "cell_type": "code",
   "execution_count": 52,
   "id": "00e3f72b",
   "metadata": {},
   "outputs": [
    {
     "name": "stdout",
     "output_type": "stream",
     "text": [
      "\u001b[32;1m\u001b[1;3m[chain/start]\u001b[0m \u001b[1m[1:chain:RetrievalQA] Entering Chain run with input:\n",
      "\u001b[0m{\n",
      "  \"system\": {\n",
      "    \"content\": \"You are a Q&A bot, an intelligent system that answers user questions ONLY based on the information provided by the user. If you use user information, please indicate the Page and Reference, which are provided below each piece of information. If the information cannot be found in the information provided by the user, please say ’I don’t know’\"\n",
      "  },\n",
      "  \"role\": \"user\",\n",
      "  \"query\": \"Is it still possible to limit warming to 1.5°C?\"\n",
      "}\n",
      "\u001b[32;1m\u001b[1;3m[chain/start]\u001b[0m \u001b[1m[1:chain:RetrievalQA > 3:chain:StuffDocumentsChain] Entering Chain run with input:\n",
      "\u001b[0m[inputs]\n",
      "\u001b[32;1m\u001b[1;3m[chain/start]\u001b[0m \u001b[1m[1:chain:RetrievalQA > 3:chain:StuffDocumentsChain > 4:chain:LLMChain] Entering Chain run with input:\n",
      "\u001b[0m{\n",
      "  \"question\": \"Is it still possible to limit warming to 1.5°C?\",\n",
      "  \"context\": \"limit global warming to 1.5°C without overshoot over the course of \\nthe 21st century. {3.3, Annex III.II.3}\\n1 Immediate action in modelled global pathways refers to the adoption between 2020 and at latest before 2025 of climate policies intended to limit global warming to \\na given level. Modelled pathways that limit warming to 2°C (>67%) based on immediate action are summarised in category C3a in Table SPM.2. All assessed modelled \\nglobal pathways that limit warming to 1.5°C (>50%) with no or limited overshoot assume immediate action as defined here (Category C1 in Table SPM.2).\\n2 NDCs announced prior to COP26 refer to the most recent nationally determined contributions submitted to the UNFCCC up to the literature cut-off date of this report, \\n11 October 2021, and revised NDCs announced by China, Japan and the Republic of Korea prior to October 2021 but only submitted thereafter.Cost-effective mitigation pathways assuming immediate<<<<>>>>>with 1.5°C by a large margin and are near the upper end of the range \\nof modelled pathways that limit warming to 2°C (>67%) or below. \\nIn all chapters of this report there is evidence of progress towards \\ndeeper mitigation, but there remain many obstacles to be overcome. \\nTable TS.1 summarises some of the key signs of progress in emission \\ntrends, sectors, policies and investment, as well as the challenges \\nthat persist. Table TS.1 (continued):<<<<>>>>>Rogelj, J. et al., 2016: Paris Agreement climate proposals need a  boost \\nto keep warming well below 2°C.  Nature, 534(7609), 631–639, \\ndoi:10.1038/nature18307.\\nRogelj, J., D.  Shindell, K.  Jiang, S.  Fifita, P .  Forster, V.  Ginzburg, C.  Handa, \\nH.  Kheshgi, S.  Kobayashi, E.  Kriegler, L.  Mundaca, R.  Séférian, and \\nM.V.Vilariño, 2018: Mitigation Pathways Compatible with 1.5°C in the \\nContext of Sustainable Development. In: Global Warming of 1.5°C. An \\nIPCC Special Report on the impacts of global warming of 1.5°C above pre-\\nindustrial levels and related global greenhouse gas emission pathways, \\nin the context of strengthening the global response to the threat of \\nclimate change, sustainable development, and efforts to eradicate \\npoverty [Masson-Delmotte, V., P .  Zhai, H.-O.  P örtner, D.  Roberts, J.  Skea, \\nP .R. Shukla, A. Pirani, W. Moufouma-Okia, C. P éan, R. Pidcock, S. Connors, \\nJ.B.R.  Matthews, Y .  Chen, X.  Zhou, M.I.  Gomis, E.  Lonnoy, T.  Maycock,<<<<>>>>>71TS\\nTechnical SummaryTable TS.2 | Comparison of key characteristics of mitigation pathways with immediate action towards limiting warming to 1.5-2°C vs. pathways following \\nNDCs announced prior to COP26 until 2030.  Key characteristics are reported for five groups of mitigation pathways: (i) immediate action to limit warming to 1.5°C \\n(>50%) with no or limited overshoot (C1 in Table TS.3; 97 scenarios), (ii) near term action following the NDCs until 2030 and returning warming to 1.5°C (> 50%) by 2100 \\nafter a high overshoot (subset of 42 scenarios following the NDCs until 2030 in C2), (iii) immediate action to limit warming to 2°C (>67%), (C3a in Table TS.3; 204 scenarios), \\n(iv) near term action following the NDCs until 2030 followed by post-2030 action to limit warming to 2°C (>67%) (C3b in Table TS.3; 97 scenarios). Also shown are the\"\n",
      "}\n",
      "\u001b[32;1m\u001b[1;3m[llm/start]\u001b[0m \u001b[1m[1:chain:RetrievalQA > 3:chain:StuffDocumentsChain > 4:chain:LLMChain > 5:llm:Replicate] Entering LLM run with input:\n",
      "\u001b[0m{\n",
      "  \"prompts\": [\n",
      "    \"Use the following pieces of context to answer the question at the end. If you don't know the answer, just say that you don't know, don't try to make up an answer.\\n\\nlimit global warming to 1.5°C without overshoot over the course of \\nthe 21st century. {3.3, Annex III.II.3}\\n1 Immediate action in modelled global pathways refers to the adoption between 2020 and at latest before 2025 of climate policies intended to limit global warming to \\na given level. Modelled pathways that limit warming to 2°C (>67%) based on immediate action are summarised in category C3a in Table SPM.2. All assessed modelled \\nglobal pathways that limit warming to 1.5°C (>50%) with no or limited overshoot assume immediate action as defined here (Category C1 in Table SPM.2).\\n2 NDCs announced prior to COP26 refer to the most recent nationally determined contributions submitted to the UNFCCC up to the literature cut-off date of this report, \\n11 October 2021, and revised NDCs announced by China, Japan and the Republic of Korea prior to October 2021 but only submitted thereafter.Cost-effective mitigation pathways assuming immediate<<<<>>>>>with 1.5°C by a large margin and are near the upper end of the range \\nof modelled pathways that limit warming to 2°C (>67%) or below. \\nIn all chapters of this report there is evidence of progress towards \\ndeeper mitigation, but there remain many obstacles to be overcome. \\nTable TS.1 summarises some of the key signs of progress in emission \\ntrends, sectors, policies and investment, as well as the challenges \\nthat persist. Table TS.1 (continued):<<<<>>>>>Rogelj, J. et al., 2016: Paris Agreement climate proposals need a  boost \\nto keep warming well below 2°C.  Nature, 534(7609), 631–639, \\ndoi:10.1038/nature18307.\\nRogelj, J., D.  Shindell, K.  Jiang, S.  Fifita, P .  Forster, V.  Ginzburg, C.  Handa, \\nH.  Kheshgi, S.  Kobayashi, E.  Kriegler, L.  Mundaca, R.  Séférian, and \\nM.V.Vilariño, 2018: Mitigation Pathways Compatible with 1.5°C in the \\nContext of Sustainable Development. In: Global Warming of 1.5°C. An \\nIPCC Special Report on the impacts of global warming of 1.5°C above pre-\\nindustrial levels and related global greenhouse gas emission pathways, \\nin the context of strengthening the global response to the threat of \\nclimate change, sustainable development, and efforts to eradicate \\npoverty [Masson-Delmotte, V., P .  Zhai, H.-O.  P örtner, D.  Roberts, J.  Skea, \\nP .R. Shukla, A. Pirani, W. Moufouma-Okia, C. P éan, R. Pidcock, S. Connors, \\nJ.B.R.  Matthews, Y .  Chen, X.  Zhou, M.I.  Gomis, E.  Lonnoy, T.  Maycock,<<<<>>>>>71TS\\nTechnical SummaryTable TS.2 | Comparison of key characteristics of mitigation pathways with immediate action towards limiting warming to 1.5-2°C vs. pathways following \\nNDCs announced prior to COP26 until 2030.  Key characteristics are reported for five groups of mitigation pathways: (i) immediate action to limit warming to 1.5°C \\n(>50%) with no or limited overshoot (C1 in Table TS.3; 97 scenarios), (ii) near term action following the NDCs until 2030 and returning warming to 1.5°C (> 50%) by 2100 \\nafter a high overshoot (subset of 42 scenarios following the NDCs until 2030 in C2), (iii) immediate action to limit warming to 2°C (>67%), (C3a in Table TS.3; 204 scenarios), \\n(iv) near term action following the NDCs until 2030 followed by post-2030 action to limit warming to 2°C (>67%) (C3b in Table TS.3; 97 scenarios). Also shown are the\\n\\nQuestion: Is it still possible to limit warming to 1.5°C?\\nHelpful Answer:\"\n",
      "  ]\n",
      "}\n",
      "\u001b[36;1m\u001b[1;3m[llm/end]\u001b[0m \u001b[1m[1:chain:RetrievalQA > 3:chain:StuffDocumentsChain > 4:chain:LLMChain > 5:llm:Replicate] [10.10s] Exiting LLM run with output:\n",
      "\u001b[0m{\n",
      "  \"generations\": [\n",
      "    [\n",
      "      {\n",
      "        \"text\": \" Based on the context provided, it is still possible to limit warming to 1.5°C, but it would require immediate and significant action to reduce greenhouse gas emissions. According to the Intergovernmental Panel on Climate Change (IPCC), all assessed modelled global pathways that limit warming to 1.5°C with no or limited overshoot assume immediate action as defined in the report. These pathways are near the upper end of the range of modelled pathways that limit warming to 2°C or below.\\n\\nThe IPCC report also states that there is evidence of progress towards deeper mitigation, but there remain many obstacles to be overcome. The report highlights the need for cost-effective mitigation pathways that can limit warming to 1.5°C by a large margin.\\n\\nIt's important to note that the report emphasizes the importance of immediate action to limit warming to 1.5°C, as delays in taking action will make it more difficult to achieve this goal. The report also notes that achieving the 1.5°C target will require significant reductions in greenhouse gas emissions, particularly carbon dioxide, and will likely involve significant changes in land use, energy production, and transportation.\",\n",
      "        \"generation_info\": null,\n",
      "        \"type\": \"Generation\"\n",
      "      }\n",
      "    ]\n",
      "  ],\n",
      "  \"llm_output\": null,\n",
      "  \"run\": null\n",
      "}\n",
      "\u001b[36;1m\u001b[1;3m[chain/end]\u001b[0m \u001b[1m[1:chain:RetrievalQA > 3:chain:StuffDocumentsChain > 4:chain:LLMChain] [10.10s] Exiting Chain run with output:\n",
      "\u001b[0m{\n",
      "  \"text\": \" Based on the context provided, it is still possible to limit warming to 1.5°C, but it would require immediate and significant action to reduce greenhouse gas emissions. According to the Intergovernmental Panel on Climate Change (IPCC), all assessed modelled global pathways that limit warming to 1.5°C with no or limited overshoot assume immediate action as defined in the report. These pathways are near the upper end of the range of modelled pathways that limit warming to 2°C or below.\\n\\nThe IPCC report also states that there is evidence of progress towards deeper mitigation, but there remain many obstacles to be overcome. The report highlights the need for cost-effective mitigation pathways that can limit warming to 1.5°C by a large margin.\\n\\nIt's important to note that the report emphasizes the importance of immediate action to limit warming to 1.5°C, as delays in taking action will make it more difficult to achieve this goal. The report also notes that achieving the 1.5°C target will require significant reductions in greenhouse gas emissions, particularly carbon dioxide, and will likely involve significant changes in land use, energy production, and transportation.\"\n",
      "}\n",
      "\u001b[36;1m\u001b[1;3m[chain/end]\u001b[0m \u001b[1m[1:chain:RetrievalQA > 3:chain:StuffDocumentsChain] [10.10s] Exiting Chain run with output:\n",
      "\u001b[0m{\n",
      "  \"output_text\": \" Based on the context provided, it is still possible to limit warming to 1.5°C, but it would require immediate and significant action to reduce greenhouse gas emissions. According to the Intergovernmental Panel on Climate Change (IPCC), all assessed modelled global pathways that limit warming to 1.5°C with no or limited overshoot assume immediate action as defined in the report. These pathways are near the upper end of the range of modelled pathways that limit warming to 2°C or below.\\n\\nThe IPCC report also states that there is evidence of progress towards deeper mitigation, but there remain many obstacles to be overcome. The report highlights the need for cost-effective mitigation pathways that can limit warming to 1.5°C by a large margin.\\n\\nIt's important to note that the report emphasizes the importance of immediate action to limit warming to 1.5°C, as delays in taking action will make it more difficult to achieve this goal. The report also notes that achieving the 1.5°C target will require significant reductions in greenhouse gas emissions, particularly carbon dioxide, and will likely involve significant changes in land use, energy production, and transportation.\"\n",
      "}\n",
      "\u001b[36;1m\u001b[1;3m[chain/end]\u001b[0m \u001b[1m[1:chain:RetrievalQA] [10.17s] Exiting Chain run with output:\n",
      "\u001b[0m{\n",
      "  \"result\": \" Based on the context provided, it is still possible to limit warming to 1.5°C, but it would require immediate and significant action to reduce greenhouse gas emissions. According to the Intergovernmental Panel on Climate Change (IPCC), all assessed modelled global pathways that limit warming to 1.5°C with no or limited overshoot assume immediate action as defined in the report. These pathways are near the upper end of the range of modelled pathways that limit warming to 2°C or below.\\n\\nThe IPCC report also states that there is evidence of progress towards deeper mitigation, but there remain many obstacles to be overcome. The report highlights the need for cost-effective mitigation pathways that can limit warming to 1.5°C by a large margin.\\n\\nIt's important to note that the report emphasizes the importance of immediate action to limit warming to 1.5°C, as delays in taking action will make it more difficult to achieve this goal. The report also notes that achieving the 1.5°C target will require significant reductions in greenhouse gas emissions, particularly carbon dioxide, and will likely involve significant changes in land use, energy production, and transportation.\"\n",
      "}\n"
     ]
    }
   ],
   "source": [
    "question = \"Is it still possible to limit warming to 1.5°C?\" #Q1\n",
    "\n",
    "result = get_chatclimate(question, External_knowledge)"
   ]
  },
  {
   "cell_type": "code",
   "execution_count": 53,
   "id": "39086393-4a3f-4852-be4d-11f007dc80c2",
   "metadata": {},
   "outputs": [
    {
     "data": {
      "text/markdown": [
       " Based on the context provided, it is still possible to limit warming to 1.5°C, but it would require immediate and significant action to reduce greenhouse gas emissions. According to the Intergovernmental Panel on Climate Change (IPCC), all assessed modelled global pathways that limit warming to 1.5°C with no or limited overshoot assume immediate action as defined in the report. These pathways are near the upper end of the range of modelled pathways that limit warming to 2°C or below.\n",
       "\n",
       "The IPCC report also states that there is evidence of progress towards deeper mitigation, but there remain many obstacles to be overcome. The report highlights the need for cost-effective mitigation pathways that can limit warming to 1.5°C by a large margin.\n",
       "\n",
       "It's important to note that the report emphasizes the importance of immediate action to limit warming to 1.5°C, as delays in taking action will make it more difficult to achieve this goal. The report also notes that achieving the 1.5°C target will require significant reductions in greenhouse gas emissions, particularly carbon dioxide, and will likely involve significant changes in land use, energy production, and transportation."
      ],
      "text/plain": [
       "<IPython.core.display.Markdown object>"
      ]
     },
     "metadata": {},
     "output_type": "display_data"
    }
   ],
   "source": [
    "display(Markdown(result['result']))"
   ]
  },
  {
   "cell_type": "markdown",
   "id": "7e63769a",
   "metadata": {},
   "source": [
    "### How to run Llama2 hybird chatClimate"
   ]
  },
  {
   "cell_type": "code",
   "execution_count": 59,
   "id": "855d8062-4a40-45e9-802a-c4242fe19ca2",
   "metadata": {},
   "outputs": [],
   "source": [
    "question = \"Is it still possible to limit warming to 1.5°C?\" #Q1\n",
    "\n",
    "External_knowledge = vectordb\n",
    "\n",
    "def get_hybird(question, External_knowledge):\n",
    "    input_prompt = {\n",
    "        \"system\": {\n",
    "            \"content\": \"You are a Q&A bot, an intelligent system that answers user questions based on the information provided by the user above the question and your in-house knowledge. There are 5 pieces of extra information above the user question. Please indicate the Page and Reference, which are provided below each piece of information. Additionally, let us know which part of your answer is from the IPCC information and which part is based on your in-house knowledge by writing either (IPCC AR6) or (Inhouse knowledge). If the information cannot be found in the information provided by the user or your in-house knowledge, please say ’I don’t know’.\"\n",
    "        },\n",
    "        \"role\": \"user\", \"query\": question\n",
    "    }\n",
    "    \n",
    "    llm = Replicate(\n",
    "        # model=llama2_70b,\n",
    "        model = llama2_13b,\n",
    "        model_kwargs={'prompts': f\"{input_prompt}\", \"temperature\": 0.01, \"top_p\": 1, \"max_new_tokens\":5000},\n",
    "    )\n",
    "\n",
    "    qa_chain = RetrievalQA.from_chain_type(\n",
    "    llm,\n",
    "    retriever=vectordb.as_retriever(),\n",
    "    verbose = True,\n",
    "    chain_type_kwargs = {\n",
    "        \"document_separator\": \"<<<<>>>>>\"\n",
    "        }\n",
    "    )\n",
    "    return qa_chain(input_prompt)\n",
    "    \n",
    "\n",
    "# def get_chatclimate(question, External_knowledge):\n",
    "#     input_prompt = {\n",
    "#             \"system\": {\n",
    "#                 \"content\": \"You are a Q&A bot, an intelligent system that answers user questions ONLY based on the information provided by the user. If you use user information, please indicate the Page and Reference, which are provided below each piece of information. If the information cannot be found in the information provided by the user, please say ’I don’t know’\"\n",
    "#             },\n",
    "#             \"role\": \"user\", \"query\": question\n",
    "#         }\n",
    "#     llm = Replicate(\n",
    "#         # model= llama2_70b,\n",
    "#         model= llama2_13b,\n",
    "#         model_kwargs={\"temperature\": 0.01, \"top_p\": 1, \"max_new_tokens\":5000},\n",
    "#         )\n",
    "#     qa_chain = RetrievalQA.from_chain_type(\n",
    "#         llm,\n",
    "#         # chain_type = \"map_reduce\",\n",
    "#         retriever=vectordb.as_retriever(),\n",
    "#         chain_type_kwargs = {\n",
    "#         \"document_separator\": \"<<<<>>>>>\"\n",
    "#         }\n",
    "#         )\n",
    "#     return qa_chain(input_prompt)\n"
   ]
  },
  {
   "cell_type": "code",
   "execution_count": 60,
   "id": "cfd1ece9-704e-49a0-b509-1ec9246a3b54",
   "metadata": {},
   "outputs": [
    {
     "name": "stdout",
     "output_type": "stream",
     "text": [
      "\u001b[32;1m\u001b[1;3m[chain/start]\u001b[0m \u001b[1m[1:chain:RetrievalQA] Entering Chain run with input:\n",
      "\u001b[0m{\n",
      "  \"system\": {\n",
      "    \"content\": \"You are a Q&A bot, an intelligent system that answers user questions based on the information provided by the user above the question and your in-house knowledge. There are 5 pieces of extra information above the user question. Please indicate the Page and Reference, which are provided below each piece of information. Additionally, let us know which part of your answer is from the IPCC information and which part is based on your in-house knowledge by writing either (IPCC AR6) or (Inhouse knowledge). If the information cannot be found in the information provided by the user or your in-house knowledge, please say ’I don’t know’.\"\n",
      "  },\n",
      "  \"role\": \"user\",\n",
      "  \"query\": \"Is it still possible to limit warming to 1.5°C?\"\n",
      "}\n",
      "\u001b[32;1m\u001b[1;3m[chain/start]\u001b[0m \u001b[1m[1:chain:RetrievalQA > 3:chain:StuffDocumentsChain] Entering Chain run with input:\n",
      "\u001b[0m[inputs]\n",
      "\u001b[32;1m\u001b[1;3m[chain/start]\u001b[0m \u001b[1m[1:chain:RetrievalQA > 3:chain:StuffDocumentsChain > 4:chain:LLMChain] Entering Chain run with input:\n",
      "\u001b[0m{\n",
      "  \"question\": \"Is it still possible to limit warming to 1.5°C?\",\n",
      "  \"context\": \"limit global warming to 1.5°C without overshoot over the course of \\nthe 21st century. {3.3, Annex III.II.3}\\n1 Immediate action in modelled global pathways refers to the adoption between 2020 and at latest before 2025 of climate policies intended to limit global warming to \\na given level. Modelled pathways that limit warming to 2°C (>67%) based on immediate action are summarised in category C3a in Table SPM.2. All assessed modelled \\nglobal pathways that limit warming to 1.5°C (>50%) with no or limited overshoot assume immediate action as defined here (Category C1 in Table SPM.2).\\n2 NDCs announced prior to COP26 refer to the most recent nationally determined contributions submitted to the UNFCCC up to the literature cut-off date of this report, \\n11 October 2021, and revised NDCs announced by China, Japan and the Republic of Korea prior to October 2021 but only submitted thereafter.Cost-effective mitigation pathways assuming immediate<<<<>>>>>with 1.5°C by a large margin and are near the upper end of the range \\nof modelled pathways that limit warming to 2°C (>67%) or below. \\nIn all chapters of this report there is evidence of progress towards \\ndeeper mitigation, but there remain many obstacles to be overcome. \\nTable TS.1 summarises some of the key signs of progress in emission \\ntrends, sectors, policies and investment, as well as the challenges \\nthat persist. Table TS.1 (continued):<<<<>>>>>Rogelj, J. et al., 2016: Paris Agreement climate proposals need a  boost \\nto keep warming well below 2°C.  Nature, 534(7609), 631–639, \\ndoi:10.1038/nature18307.\\nRogelj, J., D.  Shindell, K.  Jiang, S.  Fifita, P .  Forster, V.  Ginzburg, C.  Handa, \\nH.  Kheshgi, S.  Kobayashi, E.  Kriegler, L.  Mundaca, R.  Séférian, and \\nM.V.Vilariño, 2018: Mitigation Pathways Compatible with 1.5°C in the \\nContext of Sustainable Development. In: Global Warming of 1.5°C. An \\nIPCC Special Report on the impacts of global warming of 1.5°C above pre-\\nindustrial levels and related global greenhouse gas emission pathways, \\nin the context of strengthening the global response to the threat of \\nclimate change, sustainable development, and efforts to eradicate \\npoverty [Masson-Delmotte, V., P .  Zhai, H.-O.  P örtner, D.  Roberts, J.  Skea, \\nP .R. Shukla, A. Pirani, W. Moufouma-Okia, C. P éan, R. Pidcock, S. Connors, \\nJ.B.R.  Matthews, Y .  Chen, X.  Zhou, M.I.  Gomis, E.  Lonnoy, T.  Maycock,<<<<>>>>>71TS\\nTechnical SummaryTable TS.2 | Comparison of key characteristics of mitigation pathways with immediate action towards limiting warming to 1.5-2°C vs. pathways following \\nNDCs announced prior to COP26 until 2030.  Key characteristics are reported for five groups of mitigation pathways: (i) immediate action to limit warming to 1.5°C \\n(>50%) with no or limited overshoot (C1 in Table TS.3; 97 scenarios), (ii) near term action following the NDCs until 2030 and returning warming to 1.5°C (> 50%) by 2100 \\nafter a high overshoot (subset of 42 scenarios following the NDCs until 2030 in C2), (iii) immediate action to limit warming to 2°C (>67%), (C3a in Table TS.3; 204 scenarios), \\n(iv) near term action following the NDCs until 2030 followed by post-2030 action to limit warming to 2°C (>67%) (C3b in Table TS.3; 97 scenarios). Also shown are the\"\n",
      "}\n",
      "\u001b[32;1m\u001b[1;3m[llm/start]\u001b[0m \u001b[1m[1:chain:RetrievalQA > 3:chain:StuffDocumentsChain > 4:chain:LLMChain > 5:llm:Replicate] Entering LLM run with input:\n",
      "\u001b[0m{\n",
      "  \"prompts\": [\n",
      "    \"Use the following pieces of context to answer the question at the end. If you don't know the answer, just say that you don't know, don't try to make up an answer.\\n\\nlimit global warming to 1.5°C without overshoot over the course of \\nthe 21st century. {3.3, Annex III.II.3}\\n1 Immediate action in modelled global pathways refers to the adoption between 2020 and at latest before 2025 of climate policies intended to limit global warming to \\na given level. Modelled pathways that limit warming to 2°C (>67%) based on immediate action are summarised in category C3a in Table SPM.2. All assessed modelled \\nglobal pathways that limit warming to 1.5°C (>50%) with no or limited overshoot assume immediate action as defined here (Category C1 in Table SPM.2).\\n2 NDCs announced prior to COP26 refer to the most recent nationally determined contributions submitted to the UNFCCC up to the literature cut-off date of this report, \\n11 October 2021, and revised NDCs announced by China, Japan and the Republic of Korea prior to October 2021 but only submitted thereafter.Cost-effective mitigation pathways assuming immediate<<<<>>>>>with 1.5°C by a large margin and are near the upper end of the range \\nof modelled pathways that limit warming to 2°C (>67%) or below. \\nIn all chapters of this report there is evidence of progress towards \\ndeeper mitigation, but there remain many obstacles to be overcome. \\nTable TS.1 summarises some of the key signs of progress in emission \\ntrends, sectors, policies and investment, as well as the challenges \\nthat persist. Table TS.1 (continued):<<<<>>>>>Rogelj, J. et al., 2016: Paris Agreement climate proposals need a  boost \\nto keep warming well below 2°C.  Nature, 534(7609), 631–639, \\ndoi:10.1038/nature18307.\\nRogelj, J., D.  Shindell, K.  Jiang, S.  Fifita, P .  Forster, V.  Ginzburg, C.  Handa, \\nH.  Kheshgi, S.  Kobayashi, E.  Kriegler, L.  Mundaca, R.  Séférian, and \\nM.V.Vilariño, 2018: Mitigation Pathways Compatible with 1.5°C in the \\nContext of Sustainable Development. In: Global Warming of 1.5°C. An \\nIPCC Special Report on the impacts of global warming of 1.5°C above pre-\\nindustrial levels and related global greenhouse gas emission pathways, \\nin the context of strengthening the global response to the threat of \\nclimate change, sustainable development, and efforts to eradicate \\npoverty [Masson-Delmotte, V., P .  Zhai, H.-O.  P örtner, D.  Roberts, J.  Skea, \\nP .R. Shukla, A. Pirani, W. Moufouma-Okia, C. P éan, R. Pidcock, S. Connors, \\nJ.B.R.  Matthews, Y .  Chen, X.  Zhou, M.I.  Gomis, E.  Lonnoy, T.  Maycock,<<<<>>>>>71TS\\nTechnical SummaryTable TS.2 | Comparison of key characteristics of mitigation pathways with immediate action towards limiting warming to 1.5-2°C vs. pathways following \\nNDCs announced prior to COP26 until 2030.  Key characteristics are reported for five groups of mitigation pathways: (i) immediate action to limit warming to 1.5°C \\n(>50%) with no or limited overshoot (C1 in Table TS.3; 97 scenarios), (ii) near term action following the NDCs until 2030 and returning warming to 1.5°C (> 50%) by 2100 \\nafter a high overshoot (subset of 42 scenarios following the NDCs until 2030 in C2), (iii) immediate action to limit warming to 2°C (>67%), (C3a in Table TS.3; 204 scenarios), \\n(iv) near term action following the NDCs until 2030 followed by post-2030 action to limit warming to 2°C (>67%) (C3b in Table TS.3; 97 scenarios). Also shown are the\\n\\nQuestion: Is it still possible to limit warming to 1.5°C?\\nHelpful Answer:\"\n",
      "  ]\n",
      "}\n",
      "\u001b[36;1m\u001b[1;3m[llm/end]\u001b[0m \u001b[1m[1:chain:RetrievalQA > 3:chain:StuffDocumentsChain > 4:chain:LLMChain > 5:llm:Replicate] [6.86s] Exiting LLM run with output:\n",
      "\u001b[0m{\n",
      "  \"generations\": [\n",
      "    [\n",
      "      {\n",
      "        \"text\": \" Based on the context provided, it is still possible to limit warming to 1.5°C, but it would require immediate and significant action to reduce greenhouse gas emissions. According to the Intergovernmental Panel on Climate Change (IPCC), all assessed modelled global pathways that limit warming to 1.5°C with no or limited overshoot assume immediate action as defined in the report. These pathways are near the upper end of the range of modelled pathways that limit warming to 2°C or below.\\n\\nThe IPCC report also states that there is evidence of progress towards deeper mitigation, but there remain many obstacles to be overcome. The report highlights the need for cost-effective mitigation pathways that can limit warming to 1.5°C by a large margin.\\n\\nIt's important to note that the report emphasizes the importance of immediate action to limit warming to 1.5°C, as delays in taking action will make it more difficult to achieve this goal. The report also notes that achieving the 1.5°C target will require significant reductions in greenhouse gas emissions, particularly carbon dioxide, and will likely involve significant changes in land use, energy production, and transportation.\",\n",
      "        \"generation_info\": null,\n",
      "        \"type\": \"Generation\"\n",
      "      }\n",
      "    ]\n",
      "  ],\n",
      "  \"llm_output\": null,\n",
      "  \"run\": null\n",
      "}\n",
      "\u001b[36;1m\u001b[1;3m[chain/end]\u001b[0m \u001b[1m[1:chain:RetrievalQA > 3:chain:StuffDocumentsChain > 4:chain:LLMChain] [6.86s] Exiting Chain run with output:\n",
      "\u001b[0m{\n",
      "  \"text\": \" Based on the context provided, it is still possible to limit warming to 1.5°C, but it would require immediate and significant action to reduce greenhouse gas emissions. According to the Intergovernmental Panel on Climate Change (IPCC), all assessed modelled global pathways that limit warming to 1.5°C with no or limited overshoot assume immediate action as defined in the report. These pathways are near the upper end of the range of modelled pathways that limit warming to 2°C or below.\\n\\nThe IPCC report also states that there is evidence of progress towards deeper mitigation, but there remain many obstacles to be overcome. The report highlights the need for cost-effective mitigation pathways that can limit warming to 1.5°C by a large margin.\\n\\nIt's important to note that the report emphasizes the importance of immediate action to limit warming to 1.5°C, as delays in taking action will make it more difficult to achieve this goal. The report also notes that achieving the 1.5°C target will require significant reductions in greenhouse gas emissions, particularly carbon dioxide, and will likely involve significant changes in land use, energy production, and transportation.\"\n",
      "}\n",
      "\u001b[36;1m\u001b[1;3m[chain/end]\u001b[0m \u001b[1m[1:chain:RetrievalQA > 3:chain:StuffDocumentsChain] [6.86s] Exiting Chain run with output:\n",
      "\u001b[0m{\n",
      "  \"output_text\": \" Based on the context provided, it is still possible to limit warming to 1.5°C, but it would require immediate and significant action to reduce greenhouse gas emissions. According to the Intergovernmental Panel on Climate Change (IPCC), all assessed modelled global pathways that limit warming to 1.5°C with no or limited overshoot assume immediate action as defined in the report. These pathways are near the upper end of the range of modelled pathways that limit warming to 2°C or below.\\n\\nThe IPCC report also states that there is evidence of progress towards deeper mitigation, but there remain many obstacles to be overcome. The report highlights the need for cost-effective mitigation pathways that can limit warming to 1.5°C by a large margin.\\n\\nIt's important to note that the report emphasizes the importance of immediate action to limit warming to 1.5°C, as delays in taking action will make it more difficult to achieve this goal. The report also notes that achieving the 1.5°C target will require significant reductions in greenhouse gas emissions, particularly carbon dioxide, and will likely involve significant changes in land use, energy production, and transportation.\"\n",
      "}\n",
      "\u001b[36;1m\u001b[1;3m[chain/end]\u001b[0m \u001b[1m[1:chain:RetrievalQA] [6.93s] Exiting Chain run with output:\n",
      "\u001b[0m{\n",
      "  \"result\": \" Based on the context provided, it is still possible to limit warming to 1.5°C, but it would require immediate and significant action to reduce greenhouse gas emissions. According to the Intergovernmental Panel on Climate Change (IPCC), all assessed modelled global pathways that limit warming to 1.5°C with no or limited overshoot assume immediate action as defined in the report. These pathways are near the upper end of the range of modelled pathways that limit warming to 2°C or below.\\n\\nThe IPCC report also states that there is evidence of progress towards deeper mitigation, but there remain many obstacles to be overcome. The report highlights the need for cost-effective mitigation pathways that can limit warming to 1.5°C by a large margin.\\n\\nIt's important to note that the report emphasizes the importance of immediate action to limit warming to 1.5°C, as delays in taking action will make it more difficult to achieve this goal. The report also notes that achieving the 1.5°C target will require significant reductions in greenhouse gas emissions, particularly carbon dioxide, and will likely involve significant changes in land use, energy production, and transportation.\"\n",
      "}\n"
     ]
    }
   ],
   "source": [
    "# use LangChain's RetrievalQA, to associate Llama with the loaded documents stored in the vector db\n",
    "from langchain.chains import RetrievalQA\n",
    "\n",
    "question = \"Is it still possible to limit warming to 1.5°C?\" #Q1\n",
    "result = get_hybird(question, External_knowledge)"
   ]
  },
  {
   "cell_type": "code",
   "execution_count": 56,
   "id": "e2c531b5-0f9c-4c57-b76b-c9e6a8d06c5c",
   "metadata": {},
   "outputs": [
    {
     "name": "stdout",
     "output_type": "stream",
     "text": [
      " Based on the context provided, it is still possible to limit warming to 1.5°C, but it would require immediate and significant action to reduce greenhouse gas emissions. According to the Intergovernmental Panel on Climate Change (IPCC), all assessed modelled global pathways that limit warming to 1.5°C with no or limited overshoot assume immediate action as defined in the report. These pathways are near the upper end of the range of modelled pathways that limit warming to 2°C or below.\n",
      "\n",
      "The IPCC report also states that there is evidence of progress towards deeper mitigation, but there remain many obstacles to be overcome. The report highlights the need for cost-effective mitigation pathways that can limit warming to 1.5°C by a large margin.\n",
      "\n",
      "It's important to note that the report emphasizes the importance of immediate action to limit warming to 1.5°C, as delays in taking action will make it more difficult to achieve this goal. Therefore, it is crucial to take swift and decisive action to reduce greenhouse gas emissions in order to avoid overshooting the 1.5°C target and ensure a sustainable future for all.\n"
     ]
    }
   ],
   "source": [
    "print(result['result'])"
   ]
  },
  {
   "cell_type": "markdown",
   "id": "bcb60995-d509-441d-9038-b8b1e8b9e67a",
   "metadata": {},
   "source": [
    "### How does ChatGPT-4 answer?\n",
    "[https://chat.openai.com/share/17cf5cc6-50db-4547-a56f-18756a974622](https://chat.openai.com/share/17cf5cc6-50db-4547-a56f-18756a974622)\n"
   ]
  },
  {
   "cell_type": "code",
   "execution_count": null,
   "id": "81327a67-d8a6-4f5e-909e-341a5c8c9977",
   "metadata": {},
   "outputs": [],
   "source": [
    "import os\n",
    "import openai\n",
    "from openai import OpenAI\n",
    "\n",
    "os.environ[\"OPENAI_API_KEY\"] = new_api_key\n",
    "client = OpenAI()\n",
    "\n",
    "# defaults to getting the key using os.environ.get(\"OPENAI_API_KEY\")\n",
    "# if you saved the key under a different environment variable name, you can do something like:\n",
    "# client = OpenAI(\n",
    "#   api_key=os.environ.get(\"OPENAI_API_KEY\"),\n",
    "# )"
   ]
  },
  {
   "cell_type": "code",
   "execution_count": null,
   "id": "8a90a2a0-296f-4a12-899d-96ac057cb4cf",
   "metadata": {},
   "outputs": [],
   "source": [
    "question = \"Is it still possible to limit warming to 1.5°C?\" #Q1\n",
    "\n",
    "completion = client.chat.completions.create(\n",
    "  # model=\"gpt-3.5-turbo\",\n",
    "  model=\"gpt-4\",\n",
    "  messages=[\n",
    "    {\"role\": \"system\", \"content\": \"You are Q&A bot. A highly intelligent system that answers user questions\"},\n",
    "    {\"role\": \"user\", \"content\": question}\n",
    "  ]\n",
    ")"
   ]
  },
  {
   "cell_type": "code",
   "execution_count": null,
   "id": "683a21cb-4ae8-48b0-927e-8f1ca9adcb1c",
   "metadata": {},
   "outputs": [],
   "source": [
    "print(completion.choices[0].message.content)"
   ]
  },
  {
   "cell_type": "markdown",
   "id": "fdc77296-8b61-47b6-8328-6cc2ca4f43ed",
   "metadata": {},
   "source": [
    "### How to run ChatGPT-4+pdf(chatClimate)?"
   ]
  },
  {
   "cell_type": "code",
   "execution_count": null,
   "id": "cca7ee69-a953-4e62-b71a-eaf9225ac973",
   "metadata": {},
   "outputs": [],
   "source": [
    "question = \"Is it still possible to limit warming to 1.5°C?\" #Q1\n",
    "External_knowledge = db\n",
    "\n",
    "# completion = client.chat.completions.create(\n",
    "#   model=\"gpt-4\",\n",
    "#   messages =  [  \n",
    "#     {'role':'system', 'content':'You are a Q&A bot, an intelligent system that answers user questions ONLY based on the information provided by the user. If you use user information, please indicate the Page and Reference, which are provided below each piece of information. If the information cannot be found in the information provided by the user, please say ’I don’t know’.'},    \n",
    "#     {'role':'user', 'content': [External_knowledge, question]},   \n",
    "#     ]\n",
    "# )\n",
    "\n",
    "# use LangChain's RetrievalQA, to associate Llama with the loaded documents stored in the vector db\n",
    "from langchain.chains import RetrievalQA\n",
    "\n",
    "def get_hybird(question, External_knowledge):\n",
    "    # messages = {\n",
    "    #     \"system\": {\n",
    "    #         \"content\": \"You are a Q&A bot, an intelligent system that answers user questions based on the information provided by the user above the question and your in-house knowledge. There are 15 pieces of extra information above the user question. Please indicate the Page and Reference, which are provided below each piece of information. Additionally, let us know which part of your answer is from the IPCC information and which part is based on your in-house knowledge by writing either (IPCC AR6) or (Inhouse knowledge). If the information cannot be found in the information provided by the user or your in-house knowledge, please say ’I don’t know’.\"\n",
    "    #     },\n",
    "    #     \"role\": \"user\", \"content\": [External_knowledge, question]\n",
    "    #     }\n",
    "    messages=[\n",
    "    {\"role\": \"system\", \"content\": \"You are a Q&A bot, an intelligent system that answers user questions based on the information provided by the user above the question and your in-house knowledge. There are 15 pieces of extra information above the user question. Please indicate the Page and Reference, which are provided below each piece of information. Additionally, let us know which part of your answer is from the IPCC information and which part is based on your in-house knowledge by writing either (IPCC AR6) or (Inhouse knowledge). If the information cannot be found in the information provided by the user or your in-house knowledge, please say ’I don’t know’.\"},\n",
    "    {\"role\": \"user\", \"content\": [External_knowledge, question]}\n",
    "  ]\n",
    "    llm = \"gpt-4\"\n",
    "    qa_stuff = RetrievalQA.from_chain_type(\n",
    "        llm=ChatOpenAI(temperature = 0.0, model=\"gpt-4\"), \n",
    "        chain_type=\"stuff\", \n",
    "        retriever=db.as_retriever(), \n",
    "        verbose=True\n",
    "    )\n",
    "    return qa_stuff({\"query\": question})\n",
    "    "
   ]
  },
  {
   "cell_type": "markdown",
   "id": "b70db697-9cd0-42c2-bbb6-379f24b74eac",
   "metadata": {},
   "source": [
    "### How to run ChatGPT-4 hybird chatClimate?\n"
   ]
  },
  {
   "cell_type": "code",
   "execution_count": null,
   "id": "2520a0bf-285c-4337-aac0-bb4c6ac1df63",
   "metadata": {},
   "outputs": [],
   "source": [
    "question = \"Is it still possible to limit warming to 1.5°C?\" #Q1\n",
    "\n",
    "External_knowledge = db\n",
    "\n",
    "# completion = client.chat.completions.create(\n",
    "#   model=\"gpt-4\",\n",
    "#   messages =  [  \n",
    "#     {'role':'system', 'content':'You are a Q&A bot, an intelligent system that answers user questions ONLY based on the information provided by the user. If you use user information, please indicate the Page and Reference, which are provided below each piece of information. If the information cannot be found in the information provided by the user, please say ’I don’t know’.'},    \n",
    "#     {'role':'user', 'content': [External_knowledge, question]},   \n",
    "#     ]\n",
    "# )\n",
    "\n",
    "# use LangChain's RetrievalQA, to associate Llama with the loaded documents stored in the vector db\n",
    "from langchain.chains import RetrievalQA\n",
    "\n",
    "def get_hybird(question, External_knowledge):\n",
    "    input_prompt = {\n",
    "        \"system\": {\n",
    "            \"content\": \"You are a Q&A bot, an intelligent system that answers user questions based on the information provided by the user above the question and your in-house knowledge. There are 15 pieces of extra information above the user question. Please indicate the Page and Reference, which are provided below each piece of information. Additionally, let us know which part of your answer is from the IPCC information and which part is based on your in-house knowledge by writing either (IPCC AR6) or (Inhouse knowledge). If the information cannot be found in the information provided by the user or your in-house knowledge, please say ’I don’t know’.\"\n",
    "        },\n",
    "        \"role\": \"user\", \"content\": [External_knowledge, question]\n",
    "        }\n",
    "\n",
    "    llm = \"gpt-4\"\n",
    "    qa_stuff = RetrievalQA.from_chain_type(\n",
    "        llm=ChatOpenAI(temperature = 0.0, model=\"gpt-4\"), \n",
    "        chain_type=\"stuff\", \n",
    "        retriever=db.as_retriever(), \n",
    "        verbose=True\n",
    "    )\n",
    "    return qa_stuff({\"query\": question})\n",
    "    "
   ]
  },
  {
   "cell_type": "code",
   "execution_count": null,
   "id": "bd8d3a6a-a047-4e2a-9905-050e0f4a65de",
   "metadata": {},
   "outputs": [],
   "source": [
    "# print(completion.choices[0].message.content)\n",
    "question = \"Is it still possible to limit warming to 1.5°C?\" #Q1\n",
    "# result = qa_chain({\"query\": question})\n",
    "result = get_hybird(question, External_knowledge)\n",
    "print(result['result'])"
   ]
  },
  {
   "cell_type": "markdown",
   "id": "e50bc472-23c7-4197-ae78-727409031904",
   "metadata": {},
   "source": [
    "### How to load multiple PDFs?\n",
    "\n",
    "We will use PyPDF Directory to load PDFs from directory."
   ]
  },
  {
   "cell_type": "code",
   "execution_count": null,
   "id": "6b853bc0-3846-4271-b74d-e07a3562b198",
   "metadata": {},
   "outputs": [],
   "source": [
    "from langchain.document_loaders import PyPDFDirectoryLoader\n",
    "\n",
    "loader = PyPDFDirectoryLoader(\"yl_External_PDFs/\")\n",
    "docs = loader.load()"
   ]
  },
  {
   "cell_type": "code",
   "execution_count": null,
   "id": "b9931052-bbe1-4372-89f2-e084d1ec8816",
   "metadata": {},
   "outputs": [],
   "source": [
    "# check docs length and content\n",
    "print(len(docs), docs[0].page_content[0:300])"
   ]
  },
  {
   "cell_type": "markdown",
   "id": "f94a2cb3-90a4-493d-9fda-1a338371627f",
   "metadata": {},
   "source": [
    "To store the documents, we will need to split them into chunks using [`RecursiveCharacterTextSplitter`](https://python.langchain.com/docs/modules/data_connection/document_transformers/text_splitters/recursive_text_splitter) and create vector representations of these chunks using [`HuggingFaceEmbeddings`](https://www.google.com/search?q=langchain+hugging+face+embeddings&sca_esv=572890011&ei=ARUoZaH4LuumptQP48ah2Ac&oq=langchian+hugg&gs_lp=Egxnd3Mtd2l6LXNlcnAiDmxhbmdjaGlhbiBodWdnKgIIADIHEAAYgAQYCjIHEAAYgAQYCjIHEAAYgAQYCjIHEAAYgAQYCjIHEAAYgAQYCjIHEAAYgAQYCjIHEAAYgAQYCjIHEAAYgAQYCjIHEAAYgAQYCjIHEAAYgAQYCkjeHlC5Cli5D3ABeAGQAQCYAV6gAb4CqgEBNLgBAcgBAPgBAcICChAAGEcY1gQYsAPiAwQYACBBiAYBkAYI&sclient=gws-wiz-serp) on them before storing them into our vector database. \n",
    "\n",
    "In general, you should use larger chuck sizes for highly structured text such as code and smaller size for less structured text. You may need to experiment with different chunk sizes and overlap values to find out the best numbers."
   ]
  },
  {
   "cell_type": "code",
   "execution_count": null,
   "id": "388de72c-a18a-4f60-b380-870768c83a99",
   "metadata": {},
   "outputs": [],
   "source": [
    "text_splitter = RecursiveCharacterTextSplitter(chunk_size=1000, chunk_overlap=20)\n",
    "all_splits = text_splitter.split_documents(docs)\n",
    "\n",
    "# create the vector db to store all the split chunks as embeddings\n",
    "embeddings = HuggingFaceEmbeddings()\n",
    "vectordb = Chroma.from_documents(\n",
    "    documents=all_splits,\n",
    "    embedding=embeddings,\n",
    ") \n",
    "# slow \n",
    "# about 30 mins"
   ]
  },
  {
   "cell_type": "markdown",
   "id": "0a063461-88da-4d00-9a72-6acec193ef06",
   "metadata": {},
   "source": [
    "We then use ` RetrievalQA` to retrieve the documents from the vector database and give the model more context on Llama 2, thereby increasing its knowledge.\n",
    "\n",
    "For each question, LangChain performs a semantic similarity search of it in the vector db, then passes the search results as the context to Llama to answer the question."
   ]
  }
 ],
 "metadata": {
  "kernelspec": {
   "display_name": "Python 3 (ipykernel)",
   "language": "python",
   "name": "python3"
  },
  "language_info": {
   "codemirror_mode": {
    "name": "ipython",
    "version": 3
   },
   "file_extension": ".py",
   "mimetype": "text/x-python",
   "name": "python",
   "nbconvert_exporter": "python",
   "pygments_lexer": "ipython3",
   "version": "3.8.18"
  }
 },
 "nbformat": 4,
 "nbformat_minor": 5
}
