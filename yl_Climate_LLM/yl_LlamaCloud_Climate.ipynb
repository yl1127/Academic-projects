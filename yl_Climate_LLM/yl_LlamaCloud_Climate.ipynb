{
 "cells": [
  {
   "cell_type": "markdown",
   "id": "1c1ea03a-cc69-45b0-80d3-664e48ca6831",
   "metadata": {},
   "source": [
    "## This demo app shows:\n",
    "* How to run Llama2 in the cloud hosted on Replicate\n",
    "* How to use LangChain to ask Llama general questions and follow up questions\n",
    "* How to use LangChain to load a recent PDF doc - This is the well known RAG (Retrieval Augmented Generation) method to let LLM such as Llama2 be able to answer questions about the data not publicly available when Llama2 was trained, or about your own data. RAG is one way to prevent LLM's hallucination\n",
    "* How to use LangChain to load a directory which includes multiple PDF docs.\n",
    "* You should also review the [HelloLlamaLocal](HelloLlamaLocal.ipynb) notebook for more information on RAG\n",
    "\n",
    "**Note** We will be using Replicate to run the examples here. You will need to first sign in with Replicate with your github account, then create a free API token [here](https://replicate.com/account/api-tokens) that you can use for a while. \n",
    "After the free trial ends, you will need to enter billing info to continue to use Llama2 hosted on Replicate."
   ]
  },
  {
   "cell_type": "markdown",
   "id": "61dde626",
   "metadata": {},
   "source": [
    "Let's start by installing the necessary packages:\n",
    "- sentence-transformers for text embeddings\n",
    "- chromadb gives us database capabilities \n",
    "- langchain provides necessary RAG tools for this demo\n",
    "\n",
    "And setting up the Replicate token."
   ]
  },
  {
   "cell_type": "markdown",
   "id": "c5cd8508-c8b8-4cd2-be26-01b97e664ff9",
   "metadata": {},
   "source": [
    "### How to run original Llama2?"
   ]
  },
  {
   "cell_type": "code",
   "execution_count": 5,
   "id": "2c608df5",
   "metadata": {},
   "outputs": [
    {
     "name": "stdout",
     "output_type": "stream",
     "text": [
      "Requirement already satisfied: langchain in /Users/ylpan/anaconda3/envs/llama-demo-apps/lib/python3.8/site-packages (0.0.330)\n",
      "Requirement already satisfied: replicate in /Users/ylpan/anaconda3/envs/llama-demo-apps/lib/python3.8/site-packages (0.17.0)\n",
      "Requirement already satisfied: sentence-transformers in /Users/ylpan/anaconda3/envs/llama-demo-apps/lib/python3.8/site-packages (2.2.2)\n",
      "Requirement already satisfied: chromadb in /Users/ylpan/anaconda3/envs/llama-demo-apps/lib/python3.8/site-packages (0.4.15)\n",
      "Requirement already satisfied: pypdf in /Users/ylpan/anaconda3/envs/llama-demo-apps/lib/python3.8/site-packages (3.17.0)\n",
      "Requirement already satisfied: PyYAML>=5.3 in /Users/ylpan/anaconda3/envs/llama-demo-apps/lib/python3.8/site-packages (from langchain) (6.0.1)\n",
      "Requirement already satisfied: SQLAlchemy<3,>=1.4 in /Users/ylpan/anaconda3/envs/llama-demo-apps/lib/python3.8/site-packages (from langchain) (2.0.23)\n",
      "Requirement already satisfied: aiohttp<4.0.0,>=3.8.3 in /Users/ylpan/anaconda3/envs/llama-demo-apps/lib/python3.8/site-packages (from langchain) (3.8.6)\n",
      "Requirement already satisfied: anyio<4.0 in /Users/ylpan/anaconda3/envs/llama-demo-apps/lib/python3.8/site-packages (from langchain) (3.7.1)\n",
      "Requirement already satisfied: async-timeout<5.0.0,>=4.0.0 in /Users/ylpan/anaconda3/envs/llama-demo-apps/lib/python3.8/site-packages (from langchain) (4.0.3)\n",
      "Requirement already satisfied: dataclasses-json<0.7,>=0.5.7 in /Users/ylpan/anaconda3/envs/llama-demo-apps/lib/python3.8/site-packages (from langchain) (0.6.1)\n",
      "Requirement already satisfied: jsonpatch<2.0,>=1.33 in /Users/ylpan/anaconda3/envs/llama-demo-apps/lib/python3.8/site-packages (from langchain) (1.33)\n",
      "Requirement already satisfied: langsmith<0.1.0,>=0.0.52 in /Users/ylpan/anaconda3/envs/llama-demo-apps/lib/python3.8/site-packages (from langchain) (0.0.57)\n",
      "Requirement already satisfied: numpy<2,>=1 in /Users/ylpan/anaconda3/envs/llama-demo-apps/lib/python3.8/site-packages (from langchain) (1.24.4)\n",
      "Requirement already satisfied: pydantic<3,>=1 in /Users/ylpan/anaconda3/envs/llama-demo-apps/lib/python3.8/site-packages (from langchain) (2.4.2)\n",
      "Requirement already satisfied: requests<3,>=2 in /Users/ylpan/anaconda3/envs/llama-demo-apps/lib/python3.8/site-packages (from langchain) (2.31.0)\n",
      "Requirement already satisfied: tenacity<9.0.0,>=8.1.0 in /Users/ylpan/anaconda3/envs/llama-demo-apps/lib/python3.8/site-packages (from langchain) (8.2.3)\n",
      "Requirement already satisfied: packaging in /Users/ylpan/anaconda3/envs/llama-demo-apps/lib/python3.8/site-packages (from replicate) (23.2)\n",
      "Requirement already satisfied: httpx<1,>=0.21.0 in /Users/ylpan/anaconda3/envs/llama-demo-apps/lib/python3.8/site-packages (from replicate) (0.25.1)\n",
      "Requirement already satisfied: transformers<5.0.0,>=4.6.0 in /Users/ylpan/anaconda3/envs/llama-demo-apps/lib/python3.8/site-packages (from sentence-transformers) (4.35.0)\n",
      "Requirement already satisfied: tqdm in /Users/ylpan/anaconda3/envs/llama-demo-apps/lib/python3.8/site-packages (from sentence-transformers) (4.66.1)\n",
      "Requirement already satisfied: torch>=1.6.0 in /Users/ylpan/anaconda3/envs/llama-demo-apps/lib/python3.8/site-packages (from sentence-transformers) (2.1.0)\n",
      "Requirement already satisfied: torchvision in /Users/ylpan/anaconda3/envs/llama-demo-apps/lib/python3.8/site-packages (from sentence-transformers) (0.16.0)\n",
      "Requirement already satisfied: scikit-learn in /Users/ylpan/anaconda3/envs/llama-demo-apps/lib/python3.8/site-packages (from sentence-transformers) (1.3.2)\n",
      "Requirement already satisfied: scipy in /Users/ylpan/anaconda3/envs/llama-demo-apps/lib/python3.8/site-packages (from sentence-transformers) (1.10.1)\n",
      "Requirement already satisfied: nltk in /Users/ylpan/anaconda3/envs/llama-demo-apps/lib/python3.8/site-packages (from sentence-transformers) (3.8.1)\n",
      "Requirement already satisfied: sentencepiece in /Users/ylpan/anaconda3/envs/llama-demo-apps/lib/python3.8/site-packages (from sentence-transformers) (0.1.99)\n",
      "Requirement already satisfied: huggingface-hub>=0.4.0 in /Users/ylpan/anaconda3/envs/llama-demo-apps/lib/python3.8/site-packages (from sentence-transformers) (0.17.3)\n",
      "Requirement already satisfied: chroma-hnswlib==0.7.3 in /Users/ylpan/anaconda3/envs/llama-demo-apps/lib/python3.8/site-packages (from chromadb) (0.7.3)\n",
      "Requirement already satisfied: fastapi>=0.95.2 in /Users/ylpan/anaconda3/envs/llama-demo-apps/lib/python3.8/site-packages (from chromadb) (0.104.1)\n",
      "Requirement already satisfied: uvicorn>=0.18.3 in /Users/ylpan/anaconda3/envs/llama-demo-apps/lib/python3.8/site-packages (from uvicorn[standard]>=0.18.3->chromadb) (0.23.2)\n",
      "Requirement already satisfied: posthog>=2.4.0 in /Users/ylpan/anaconda3/envs/llama-demo-apps/lib/python3.8/site-packages (from chromadb) (3.0.2)\n",
      "Requirement already satisfied: typing-extensions>=4.5.0 in /Users/ylpan/anaconda3/envs/llama-demo-apps/lib/python3.8/site-packages (from chromadb) (4.8.0)\n",
      "Requirement already satisfied: pulsar-client>=3.1.0 in /Users/ylpan/anaconda3/envs/llama-demo-apps/lib/python3.8/site-packages (from chromadb) (3.3.0)\n",
      "Requirement already satisfied: onnxruntime>=1.14.1 in /Users/ylpan/anaconda3/envs/llama-demo-apps/lib/python3.8/site-packages (from chromadb) (1.16.1)\n",
      "Requirement already satisfied: opentelemetry-api>=1.2.0 in /Users/ylpan/anaconda3/envs/llama-demo-apps/lib/python3.8/site-packages (from chromadb) (1.20.0)\n",
      "Requirement already satisfied: opentelemetry-exporter-otlp-proto-grpc>=1.2.0 in /Users/ylpan/anaconda3/envs/llama-demo-apps/lib/python3.8/site-packages (from chromadb) (1.20.0)\n",
      "Requirement already satisfied: opentelemetry-sdk>=1.2.0 in /Users/ylpan/anaconda3/envs/llama-demo-apps/lib/python3.8/site-packages (from chromadb) (1.20.0)\n",
      "Requirement already satisfied: tokenizers>=0.13.2 in /Users/ylpan/anaconda3/envs/llama-demo-apps/lib/python3.8/site-packages (from chromadb) (0.14.1)\n",
      "Requirement already satisfied: pypika>=0.48.9 in /Users/ylpan/anaconda3/envs/llama-demo-apps/lib/python3.8/site-packages (from chromadb) (0.48.9)\n",
      "Requirement already satisfied: overrides>=7.3.1 in /Users/ylpan/anaconda3/envs/llama-demo-apps/lib/python3.8/site-packages (from chromadb) (7.4.0)\n",
      "Requirement already satisfied: importlib-resources in /Users/ylpan/anaconda3/envs/llama-demo-apps/lib/python3.8/site-packages (from chromadb) (6.1.0)\n",
      "Requirement already satisfied: grpcio>=1.58.0 in /Users/ylpan/anaconda3/envs/llama-demo-apps/lib/python3.8/site-packages (from chromadb) (1.59.2)\n",
      "Requirement already satisfied: bcrypt>=4.0.1 in /Users/ylpan/anaconda3/envs/llama-demo-apps/lib/python3.8/site-packages (from chromadb) (4.0.1)\n",
      "Requirement already satisfied: typer>=0.9.0 in /Users/ylpan/anaconda3/envs/llama-demo-apps/lib/python3.8/site-packages (from chromadb) (0.9.0)\n",
      "Requirement already satisfied: kubernetes>=28.1.0 in /Users/ylpan/anaconda3/envs/llama-demo-apps/lib/python3.8/site-packages (from chromadb) (28.1.0)\n",
      "Requirement already satisfied: graphlib-backport>=1.0.3 in /Users/ylpan/anaconda3/envs/llama-demo-apps/lib/python3.8/site-packages (from chromadb) (1.0.3)\n",
      "Requirement already satisfied: attrs>=17.3.0 in /Users/ylpan/anaconda3/envs/llama-demo-apps/lib/python3.8/site-packages (from aiohttp<4.0.0,>=3.8.3->langchain) (23.1.0)\n",
      "Requirement already satisfied: charset-normalizer<4.0,>=2.0 in /Users/ylpan/anaconda3/envs/llama-demo-apps/lib/python3.8/site-packages (from aiohttp<4.0.0,>=3.8.3->langchain) (3.3.2)\n",
      "Requirement already satisfied: multidict<7.0,>=4.5 in /Users/ylpan/anaconda3/envs/llama-demo-apps/lib/python3.8/site-packages (from aiohttp<4.0.0,>=3.8.3->langchain) (6.0.4)\n",
      "Requirement already satisfied: yarl<2.0,>=1.0 in /Users/ylpan/anaconda3/envs/llama-demo-apps/lib/python3.8/site-packages (from aiohttp<4.0.0,>=3.8.3->langchain) (1.9.2)\n",
      "Requirement already satisfied: frozenlist>=1.1.1 in /Users/ylpan/anaconda3/envs/llama-demo-apps/lib/python3.8/site-packages (from aiohttp<4.0.0,>=3.8.3->langchain) (1.4.0)\n",
      "Requirement already satisfied: aiosignal>=1.1.2 in /Users/ylpan/anaconda3/envs/llama-demo-apps/lib/python3.8/site-packages (from aiohttp<4.0.0,>=3.8.3->langchain) (1.3.1)\n",
      "Requirement already satisfied: idna>=2.8 in /Users/ylpan/anaconda3/envs/llama-demo-apps/lib/python3.8/site-packages (from anyio<4.0->langchain) (3.4)\n",
      "Requirement already satisfied: sniffio>=1.1 in /Users/ylpan/anaconda3/envs/llama-demo-apps/lib/python3.8/site-packages (from anyio<4.0->langchain) (1.3.0)\n",
      "Requirement already satisfied: exceptiongroup in /Users/ylpan/anaconda3/envs/llama-demo-apps/lib/python3.8/site-packages (from anyio<4.0->langchain) (1.1.3)\n",
      "Requirement already satisfied: marshmallow<4.0.0,>=3.18.0 in /Users/ylpan/anaconda3/envs/llama-demo-apps/lib/python3.8/site-packages (from dataclasses-json<0.7,>=0.5.7->langchain) (3.20.1)\n",
      "Requirement already satisfied: typing-inspect<1,>=0.4.0 in /Users/ylpan/anaconda3/envs/llama-demo-apps/lib/python3.8/site-packages (from dataclasses-json<0.7,>=0.5.7->langchain) (0.9.0)\n",
      "Requirement already satisfied: starlette<0.28.0,>=0.27.0 in /Users/ylpan/anaconda3/envs/llama-demo-apps/lib/python3.8/site-packages (from fastapi>=0.95.2->chromadb) (0.27.0)\n",
      "Requirement already satisfied: certifi in /Users/ylpan/anaconda3/envs/llama-demo-apps/lib/python3.8/site-packages (from httpx<1,>=0.21.0->replicate) (2023.7.22)\n",
      "Requirement already satisfied: httpcore in /Users/ylpan/anaconda3/envs/llama-demo-apps/lib/python3.8/site-packages (from httpx<1,>=0.21.0->replicate) (1.0.1)\n",
      "Requirement already satisfied: filelock in /Users/ylpan/anaconda3/envs/llama-demo-apps/lib/python3.8/site-packages (from huggingface-hub>=0.4.0->sentence-transformers) (3.13.1)\n",
      "Requirement already satisfied: fsspec in /Users/ylpan/anaconda3/envs/llama-demo-apps/lib/python3.8/site-packages (from huggingface-hub>=0.4.0->sentence-transformers) (2023.10.0)\n",
      "Requirement already satisfied: jsonpointer>=1.9 in /Users/ylpan/anaconda3/envs/llama-demo-apps/lib/python3.8/site-packages (from jsonpatch<2.0,>=1.33->langchain) (2.4)\n",
      "Requirement already satisfied: six>=1.9.0 in /Users/ylpan/anaconda3/envs/llama-demo-apps/lib/python3.8/site-packages (from kubernetes>=28.1.0->chromadb) (1.16.0)\n",
      "Requirement already satisfied: python-dateutil>=2.5.3 in /Users/ylpan/anaconda3/envs/llama-demo-apps/lib/python3.8/site-packages (from kubernetes>=28.1.0->chromadb) (2.8.2)\n",
      "Requirement already satisfied: google-auth>=1.0.1 in /Users/ylpan/anaconda3/envs/llama-demo-apps/lib/python3.8/site-packages (from kubernetes>=28.1.0->chromadb) (2.23.4)\n",
      "Requirement already satisfied: websocket-client!=0.40.0,!=0.41.*,!=0.42.*,>=0.32.0 in /Users/ylpan/anaconda3/envs/llama-demo-apps/lib/python3.8/site-packages (from kubernetes>=28.1.0->chromadb) (1.6.4)\n",
      "Requirement already satisfied: requests-oauthlib in /Users/ylpan/anaconda3/envs/llama-demo-apps/lib/python3.8/site-packages (from kubernetes>=28.1.0->chromadb) (1.3.1)\n",
      "Requirement already satisfied: oauthlib>=3.2.2 in /Users/ylpan/anaconda3/envs/llama-demo-apps/lib/python3.8/site-packages (from kubernetes>=28.1.0->chromadb) (3.2.2)\n",
      "Requirement already satisfied: urllib3<2.0,>=1.24.2 in /Users/ylpan/anaconda3/envs/llama-demo-apps/lib/python3.8/site-packages (from kubernetes>=28.1.0->chromadb) (1.26.18)\n",
      "Requirement already satisfied: coloredlogs in /Users/ylpan/anaconda3/envs/llama-demo-apps/lib/python3.8/site-packages (from onnxruntime>=1.14.1->chromadb) (15.0.1)\n",
      "Requirement already satisfied: flatbuffers in /Users/ylpan/anaconda3/envs/llama-demo-apps/lib/python3.8/site-packages (from onnxruntime>=1.14.1->chromadb) (23.5.26)\n",
      "Requirement already satisfied: protobuf in /Users/ylpan/anaconda3/envs/llama-demo-apps/lib/python3.8/site-packages (from onnxruntime>=1.14.1->chromadb) (4.25.0)\n",
      "Requirement already satisfied: sympy in /Users/ylpan/anaconda3/envs/llama-demo-apps/lib/python3.8/site-packages (from onnxruntime>=1.14.1->chromadb) (1.12)\n",
      "Requirement already satisfied: deprecated>=1.2.6 in /Users/ylpan/anaconda3/envs/llama-demo-apps/lib/python3.8/site-packages (from opentelemetry-api>=1.2.0->chromadb) (1.2.14)\n",
      "Requirement already satisfied: importlib-metadata<7.0,>=6.0 in /Users/ylpan/anaconda3/envs/llama-demo-apps/lib/python3.8/site-packages (from opentelemetry-api>=1.2.0->chromadb) (6.8.0)\n",
      "Requirement already satisfied: backoff<3.0.0,>=1.10.0 in /Users/ylpan/anaconda3/envs/llama-demo-apps/lib/python3.8/site-packages (from opentelemetry-exporter-otlp-proto-grpc>=1.2.0->chromadb) (2.2.1)\n",
      "Requirement already satisfied: googleapis-common-protos~=1.52 in /Users/ylpan/anaconda3/envs/llama-demo-apps/lib/python3.8/site-packages (from opentelemetry-exporter-otlp-proto-grpc>=1.2.0->chromadb) (1.61.0)\n",
      "Requirement already satisfied: opentelemetry-exporter-otlp-proto-common==1.20.0 in /Users/ylpan/anaconda3/envs/llama-demo-apps/lib/python3.8/site-packages (from opentelemetry-exporter-otlp-proto-grpc>=1.2.0->chromadb) (1.20.0)\n",
      "Requirement already satisfied: opentelemetry-proto==1.20.0 in /Users/ylpan/anaconda3/envs/llama-demo-apps/lib/python3.8/site-packages (from opentelemetry-exporter-otlp-proto-grpc>=1.2.0->chromadb) (1.20.0)\n",
      "Requirement already satisfied: opentelemetry-semantic-conventions==0.41b0 in /Users/ylpan/anaconda3/envs/llama-demo-apps/lib/python3.8/site-packages (from opentelemetry-sdk>=1.2.0->chromadb) (0.41b0)\n",
      "Requirement already satisfied: monotonic>=1.5 in /Users/ylpan/anaconda3/envs/llama-demo-apps/lib/python3.8/site-packages (from posthog>=2.4.0->chromadb) (1.6)\n",
      "Requirement already satisfied: annotated-types>=0.4.0 in /Users/ylpan/anaconda3/envs/llama-demo-apps/lib/python3.8/site-packages (from pydantic<3,>=1->langchain) (0.6.0)\n",
      "Requirement already satisfied: pydantic-core==2.10.1 in /Users/ylpan/anaconda3/envs/llama-demo-apps/lib/python3.8/site-packages (from pydantic<3,>=1->langchain) (2.10.1)\n",
      "Requirement already satisfied: networkx in /Users/ylpan/anaconda3/envs/llama-demo-apps/lib/python3.8/site-packages (from torch>=1.6.0->sentence-transformers) (3.1)\n",
      "Requirement already satisfied: jinja2 in /Users/ylpan/anaconda3/envs/llama-demo-apps/lib/python3.8/site-packages (from torch>=1.6.0->sentence-transformers) (3.1.2)\n",
      "Requirement already satisfied: regex!=2019.12.17 in /Users/ylpan/anaconda3/envs/llama-demo-apps/lib/python3.8/site-packages (from transformers<5.0.0,>=4.6.0->sentence-transformers) (2023.10.3)\n",
      "Requirement already satisfied: safetensors>=0.3.1 in /Users/ylpan/anaconda3/envs/llama-demo-apps/lib/python3.8/site-packages (from transformers<5.0.0,>=4.6.0->sentence-transformers) (0.4.0)\n",
      "Requirement already satisfied: click<9.0.0,>=7.1.1 in /Users/ylpan/anaconda3/envs/llama-demo-apps/lib/python3.8/site-packages (from typer>=0.9.0->chromadb) (8.1.7)\n",
      "Requirement already satisfied: h11>=0.8 in /Users/ylpan/anaconda3/envs/llama-demo-apps/lib/python3.8/site-packages (from uvicorn>=0.18.3->uvicorn[standard]>=0.18.3->chromadb) (0.14.0)\n",
      "Requirement already satisfied: httptools>=0.5.0 in /Users/ylpan/anaconda3/envs/llama-demo-apps/lib/python3.8/site-packages (from uvicorn[standard]>=0.18.3->chromadb) (0.6.1)\n",
      "Requirement already satisfied: python-dotenv>=0.13 in /Users/ylpan/anaconda3/envs/llama-demo-apps/lib/python3.8/site-packages (from uvicorn[standard]>=0.18.3->chromadb) (1.0.0)\n",
      "Requirement already satisfied: uvloop!=0.15.0,!=0.15.1,>=0.14.0 in /Users/ylpan/anaconda3/envs/llama-demo-apps/lib/python3.8/site-packages (from uvicorn[standard]>=0.18.3->chromadb) (0.19.0)\n",
      "Requirement already satisfied: watchfiles>=0.13 in /Users/ylpan/anaconda3/envs/llama-demo-apps/lib/python3.8/site-packages (from uvicorn[standard]>=0.18.3->chromadb) (0.21.0)\n",
      "Requirement already satisfied: websockets>=10.4 in /Users/ylpan/anaconda3/envs/llama-demo-apps/lib/python3.8/site-packages (from uvicorn[standard]>=0.18.3->chromadb) (12.0)\n",
      "Requirement already satisfied: zipp>=3.1.0 in /Users/ylpan/anaconda3/envs/llama-demo-apps/lib/python3.8/site-packages (from importlib-resources->chromadb) (3.17.0)\n",
      "Requirement already satisfied: joblib in /Users/ylpan/anaconda3/envs/llama-demo-apps/lib/python3.8/site-packages (from nltk->sentence-transformers) (1.3.2)\n",
      "Requirement already satisfied: threadpoolctl>=2.0.0 in /Users/ylpan/anaconda3/envs/llama-demo-apps/lib/python3.8/site-packages (from scikit-learn->sentence-transformers) (3.2.0)\n",
      "Requirement already satisfied: pillow!=8.3.*,>=5.3.0 in /Users/ylpan/anaconda3/envs/llama-demo-apps/lib/python3.8/site-packages (from torchvision->sentence-transformers) (10.1.0)\n",
      "Requirement already satisfied: wrapt<2,>=1.10 in /Users/ylpan/anaconda3/envs/llama-demo-apps/lib/python3.8/site-packages (from deprecated>=1.2.6->opentelemetry-api>=1.2.0->chromadb) (1.15.0)\n",
      "Requirement already satisfied: cachetools<6.0,>=2.0.0 in /Users/ylpan/anaconda3/envs/llama-demo-apps/lib/python3.8/site-packages (from google-auth>=1.0.1->kubernetes>=28.1.0->chromadb) (5.3.2)\n",
      "Requirement already satisfied: pyasn1-modules>=0.2.1 in /Users/ylpan/anaconda3/envs/llama-demo-apps/lib/python3.8/site-packages (from google-auth>=1.0.1->kubernetes>=28.1.0->chromadb) (0.3.0)\n",
      "Requirement already satisfied: rsa<5,>=3.1.4 in /Users/ylpan/anaconda3/envs/llama-demo-apps/lib/python3.8/site-packages (from google-auth>=1.0.1->kubernetes>=28.1.0->chromadb) (4.9)\n",
      "Requirement already satisfied: mypy-extensions>=0.3.0 in /Users/ylpan/anaconda3/envs/llama-demo-apps/lib/python3.8/site-packages (from typing-inspect<1,>=0.4.0->dataclasses-json<0.7,>=0.5.7->langchain) (1.0.0)\n",
      "Requirement already satisfied: humanfriendly>=9.1 in /Users/ylpan/anaconda3/envs/llama-demo-apps/lib/python3.8/site-packages (from coloredlogs->onnxruntime>=1.14.1->chromadb) (10.0)\n",
      "Requirement already satisfied: MarkupSafe>=2.0 in /Users/ylpan/anaconda3/envs/llama-demo-apps/lib/python3.8/site-packages (from jinja2->torch>=1.6.0->sentence-transformers) (2.1.3)\n",
      "Requirement already satisfied: mpmath>=0.19 in /Users/ylpan/anaconda3/envs/llama-demo-apps/lib/python3.8/site-packages (from sympy->onnxruntime>=1.14.1->chromadb) (1.3.0)\n",
      "Requirement already satisfied: pyasn1<0.6.0,>=0.4.6 in /Users/ylpan/anaconda3/envs/llama-demo-apps/lib/python3.8/site-packages (from pyasn1-modules>=0.2.1->google-auth>=1.0.1->kubernetes>=28.1.0->chromadb) (0.5.0)\n"
     ]
    }
   ],
   "source": [
    "# !pip install langchain replicate sentence-transformers chromadb pypdf"
   ]
  },
  {
   "cell_type": "code",
   "execution_count": 6,
   "id": "b9c5546a",
   "metadata": {},
   "outputs": [
    {
     "name": "stdout",
     "output_type": "stream",
     "text": [
      " ········\n"
     ]
    }
   ],
   "source": [
    "from getpass import getpass\n",
    "import os\n",
    "\n",
    "REPLICATE_API_TOKEN = getpass()\n",
    "os.environ[\"REPLICATE_API_TOKEN\"] = REPLICATE_API_TOKEN\n"
   ]
  },
  {
   "cell_type": "markdown",
   "id": "3e8870c1",
   "metadata": {},
   "source": [
    "Next we call the Llama 2 model from replicate. In this example we will use the llama 2 13b chat model. You can find more Llama 2 models by searching for them on the [Replicate model explore page](https://replicate.com/explore?query=llama).\n",
    "\n",
    "You can add them here in the format: model_name/version\n"
   ]
  },
  {
   "cell_type": "code",
   "execution_count": 23,
   "id": "ad536adb",
   "metadata": {},
   "outputs": [],
   "source": [
    "from langchain.llms import Replicate\n",
    "\n",
    "llama2_13b = \"meta/llama-2-13b-chat:f4e2de70d66816a838a89eeeb621910adffb0dd0baba3976c96980970978018d\"\n",
    "llm = Replicate(\n",
    "    model=llama2_13b,\n",
    "    model_kwargs={\"temperature\": 0.01, \"top_p\": 1, \"max_new_tokens\":5000},\n",
    "    # max_tokens = 2000,\n",
    "    # n_ctx=4000,\n",
    ")"
   ]
  },
  {
   "cell_type": "markdown",
   "id": "fd207c80",
   "metadata": {},
   "source": [
    "With the model set up, you are now ready to ask some questions. Here is an example of the simplest way to ask the model some general questions."
   ]
  },
  {
   "cell_type": "code",
   "execution_count": 24,
   "id": "493a7148",
   "metadata": {},
   "outputs": [
    {
     "name": "stdout",
     "output_type": "stream",
     "text": [
      " Yes, it is still technically possible to limit global warming to 1.5°C above pre-industrial levels, but it would require significant and immediate efforts to reduce greenhouse gas emissions. The IPCC Special Report on Global Warming of 1.5°C published in 2018 concluded that limiting warming to 1.5°C would require net zero carbon dioxide emissions by 2050. This means that the world would need to reach a point where it is no longer adding any more greenhouse gases to the atmosphere than it is removing through natural processes or technologies like carbon capture and storage.\n",
      "\n",
      "To achieve this goal, the report identified several key strategies that would be necessary, including:\n",
      "\n",
      "1. Transitioning to renewable energy sources like solar and wind power as quickly as possible, while phasing out fossil fuels like coal, oil, and natural gas.\n",
      "2. Improving energy efficiency across all sectors of the economy, from transportation to industry to buildings.\n",
      "3. Electrifying transportation and other sectors that currently rely on fossil fuels.\n",
      "4. Carbon capture and storage (CCS) technologies to remove CO2 from the air and store it underground.\n",
      "5. Protecting and reforestation to enhance natural carbon sinks.\n",
      "6. Promoting sustainable land use practices, such as agroforestry and permaculture, to enhance soil health and carbon sequestration.\n",
      "7. Reducing waste and methane emissions from agriculture and other sources.\n",
      "8. Supporting research and development of new low-carbon technologies and their deployment.\n",
      "\n",
      "The report also emphasized that the window for achieving the 1.5°C target is rapidly closing, and that delaying action will make the task much more difficult, if not impossible. The world has already warmed by about 1°C since pre-industrial times, and the last few years have been the hottest on record.\n",
      "\n",
      "In summary, limiting global warming to 1.5°C is still technically possible, but it requires immediate and drastic actions to reduce greenhouse gas emissions. The longer we wait, the more challenging and expensive the transition will be.\n"
     ]
    }
   ],
   "source": [
    "question = \"Is it still possible to limit warming to 1.5°C?\" #Q1\n",
    "answer = llm(question)\n",
    "print(answer)"
   ]
  },
  {
   "cell_type": "code",
   "execution_count": 25,
   "id": "400bfddf-b12e-40ed-a5e0-4f95bf97ca76",
   "metadata": {},
   "outputs": [
    {
     "name": "stdout",
     "output_type": "stream",
     "text": [
      " Hello! As a helpful assistant, I'd be happy to help you with your question.\n",
      "\n",
      "According to the Intergovernmental Panel on Climate Change (IPCC), the world is currently on track to exceed the 1.5°C threshold by around 2030 if greenhouse gas emissions continue to rise at their current rate. However, it's important to note that this timeline can vary depending on various factors such as future emission levels and the effectiveness of climate change mitigation efforts.\n",
      "\n",
      "To put this into perspective, the Earth's average global temperature has already warmed by about 1°C since the late 1800s, and the past few years have been the hottest on record. The IPCC recommends limiting warming to well below 2°C above pre-industrial levels and pursuing efforts to limit it to 1.5°C in order to avoid the most severe impacts of climate change.\n",
      "\n",
      "It's important to note that reaching 1.5°C above pre-industrial levels does not mean that the planet will automatically stabilize at that level. Rather, it represents a threshold beyond which the risks of catastrophic climate change events increase rapidly. Therefore, it's crucial that we take immediate and sustained action to reduce greenhouse gas emissions and transition to renewable energy sources as soon as possible.\n"
     ]
    }
   ],
   "source": [
    "question = \"When will we reach 1.5°C?\" #Q2\n",
    "answer = llm(question)\n",
    "print(answer)"
   ]
  },
  {
   "cell_type": "code",
   "execution_count": 26,
   "id": "310067bd-51cf-451f-b1ed-859af0b49515",
   "metadata": {},
   "outputs": [
    {
     "name": "stdout",
     "output_type": "stream",
     "text": [
      " Hello! I'd be happy to help you understand what \"overshoot\" means.\n",
      "\n",
      "Overshoot refers to the act of exceeding or going beyond a target, goal, or limit. It can be used in various contexts such as sports, business, and engineering. In essence, it means that someone or something has gone beyond what was intended or expected.\n",
      "\n",
      "For example, if a runner is aiming to finish a race in 30 minutes but ends up finishing in 25 minutes, they have overshot their target by 5 minutes. Similarly, if a company sets a sales target of $100,000 for a product but sells $120,000 instead, they have overshot their target by $20,000.\n",
      "\n",
      "In some cases, overshooting can be seen as a positive thing, especially when it comes to achieving goals or targets. However, it can also lead to negative consequences, such as overspending or over-delivering, so it's important to carefully consider the potential risks and benefits associated with overshooting.\n"
     ]
    }
   ],
   "source": [
    "question = \"What does overshoot mean?\" #Q3\n",
    "answer = llm(question)\n",
    "print(answer)"
   ]
  },
  {
   "cell_type": "code",
   "execution_count": 27,
   "id": "a223b035-900d-4bb2-971b-2c18583ad000",
   "metadata": {},
   "outputs": [
    {
     "name": "stdout",
     "output_type": "stream",
     "text": [
      " Certainly! As a helpful assistant, I'd be happy to provide some information on how to avoid overshooting the 1.5°C target set by the Paris Agreement.\n",
      "\n",
      "First and foremost, it's important to understand that limiting global warming to 1.5°C above pre-industrial levels will require significant reductions in greenhouse gas emissions. The Intergovernmental Panel on Climate Change (IPCC) has estimated that in order to achieve this goal, global carbon dioxide emissions need to reach net zero around 2050.\n",
      "\n",
      "Here are some strategies that can help us avoid overshooting the 1.5°C target:\n",
      "\n",
      "1. Transition to renewable energy: Shift from fossil fuels to renewable energy sources like solar, wind, and hydroelectric power. This will not only reduce emissions but also create jobs and stimulate economic growth.\n",
      "2. Increase energy efficiency: Improve the energy efficiency of buildings, appliances, and vehicles to reduce energy consumption and lower emissions.\n",
      "3. Electrify transportation: Promote the adoption of electric vehicles to reduce dependence on fossil fuels and decrease emissions from the transportation sector.\n",
      "4. Carbon capture and storage: Develop and deploy technologies that capture carbon dioxide emissions from power plants and industrial processes, and store them underground or use them in products such as concrete.\n",
      "5. Protect and restore natural carbon sinks: Preserve and expand forests, wetlands, and other natural ecosystems that absorb carbon dioxide from the atmosphere.\n",
      "6. Promote sustainable land use: Encourage sustainable agriculture practices, reduce deforestation, and promote reforestation to minimize the release of stored carbon into the atmosphere.\n",
      "7. Eat a plant-based diet: Animal agriculture is a significant contributor to greenhouse gas emissions. By adopting a plant-based diet, we can reduce our carbon footprint and support more sustainable food production.\n",
      "8. Reduce waste and methane emissions: Minimize waste generation, compost organic materials, and capture methane emissions from landfills and agricultural activities to reduce emissions.\n",
      "9. Support climate-resilient infrastructure: Invest in infrastructure that is resilient to the impacts of climate change, such as sea level rise and extreme weather events.\n",
      "10. Advocate for climate policy: Urge your elected representatives to prioritize climate action, implement effective policies, and hold them accountable for their commitments to addressing the climate crisis.\n",
      "\n",
      "Remember, avoiding overshooting the 1.5°C target requires a collective effort and a rapid transition to a low-carbon economy. Every small action counts, and together, we can make a difference.\n"
     ]
    }
   ],
   "source": [
    "question = \"Can we avoid overshooting 1.5°C?\" #Q4\n",
    "answer = llm(question)\n",
    "print(answer)"
   ]
  },
  {
   "cell_type": "code",
   "execution_count": 28,
   "id": "dde36d2c-044a-4191-82ab-d27b47022f77",
   "metadata": {},
   "outputs": [
    {
     "name": "stdout",
     "output_type": "stream",
     "text": [
      " Yes, emissions reductions have fallen for some countries in recent years. According to the United Nations Environment Programme (UNEP), several countries have made significant progress in reducing their greenhouse gas emissions. Here are a few examples:\n",
      "\n",
      "1. China: Despite its rapid economic growth, China has been taking steps to reduce its carbon footprint. In 2019, China's CO2 emissions fell by 2.6% compared to the previous year, marking the first decline in emissions since the 1980s. This was largely due to a shift towards cleaner energy sources such as solar and wind power.\n",
      "2. United States: The US has also seen a decrease in emissions in recent years. Between 2005 and 2019, the country's CO2 emissions decreased by 14%, primarily due to a shift away from coal and towards natural gas for electricity generation. Additionally, there has been an increase in renewable energy sources such as wind and solar power.\n",
      "3. European Union: The EU has implemented policies aimed at reducing emissions, including the Emissions Trading System (ETS) and the Paris Agreement. As a result, the EU's greenhouse gas emissions have fallen by 22% since 1990. In 2019, the EU's CO2 emissions were 23% below 1990 levels.\n",
      "4. India: Despite having one of the world's fastest-growing economies, India has made significant progress in reducing its emissions. In 2019, India's CO2 emissions per capita were 17% lower than they were in 2005. This is largely due to increased use of renewable energy sources such as solar and wind power.\n",
      "\n",
      "It's important to note that while these countries have made progress in reducing their emissions, there is still much work to be done to meet the goals set out in the Paris Agreement. Global emissions need to peak and begin to decline rapidly in order to limit global warming to 1.5°C above pre-industrial levels.\n"
     ]
    }
   ],
   "source": [
    "question = \"Have emissions reductions fallen for some countries?\" #Q5\n",
    "answer = llm(question)\n",
    "print(answer)"
   ]
  },
  {
   "cell_type": "code",
   "execution_count": 29,
   "id": "cb5178f1-17c6-4c64-b435-7569bc14ec54",
   "metadata": {},
   "outputs": [
    {
     "name": "stdout",
     "output_type": "stream",
     "text": [
      " As a helpful assistant, I can provide you with some of the common issues related to financing adaptation:\n",
      "\n",
      "1. Lack of funding: One of the major challenges is securing sufficient funding for adaptation projects. Developing countries often lack the financial resources to invest in adaptation measures, and even developed countries may struggle to secure adequate funding.\n",
      "2. Limited access to finance: Many organizations, particularly in developing countries, face barriers in accessing finance for adaptation projects due to limited institutional capacity, lack of collateral, or high transaction costs.\n",
      "3. Risk aversion: Investors and lenders may be hesitant to provide funding for adaptation projects due to perceived risks such as uncertainty about project outcomes, technology failures, or political instability.\n",
      "4. Short-termism: Financing for adaptation projects is often short-term, which can make it difficult to secure long-term funding for sustainable solutions. This can lead to a focus on quick fixes rather than comprehensive, sustainable solutions.\n",
      "5. Insufficient scale: Adaptation finance is often insufficient to address the magnitude of the challenge posed by climate change. The scale of funding needed for adaptation is much larger than what is currently being provided.\n",
      "6. Inequitable distribution: Financing for adaptation is not always distributed equitably, with those who are most vulnerable to the impacts of climate change often receiving less support.\n",
      "7. Lack of transparency and accountability: There is a need for greater transparency and accountability in the use of funds for adaptation, particularly in terms of how funds are allocated and spent.\n",
      "8. Limited coordination: There is a need for better coordination among different stakeholders, including governments, international organizations, civil society, and the private sector, to ensure that financing for adaptation is used effectively and efficiently.\n",
      "9. Limited access to grants: Many organizations, particularly in developing countries, have limited access to grants for adaptation projects due to limited institutional capacity, lack of collateral, or high transaction costs.\n",
      "10. Limited access to blended finance: Blended finance, which combines grant and loan financing, is often not accessible to many organizations, particularly in developing countries, due to limited institutional capacity, lack of collateral, or high transaction costs.\n",
      "\n",
      "These issues highlight some of the challenges related to financing adaptation efforts. Addressing these challenges will be critical to ensuring that adequate resources are available to support effective adaptation measures.\n"
     ]
    }
   ],
   "source": [
    "question = \"What are the issues with ﬁnancing adaptation?\" #Q6\n",
    "answer = llm(question)\n",
    "print(answer)"
   ]
  },
  {
   "cell_type": "code",
   "execution_count": 30,
   "id": "016600d7-93b0-4f68-87dc-fd44340d0411",
   "metadata": {},
   "outputs": [
    {
     "name": "stdout",
     "output_type": "stream",
     "text": [
      " As a helpful assistant, I can provide information on the distribution of climate finance. Climate finance refers to the flow of financial resources from various sources to activities that reduce greenhouse gas emissions or support the adaptation to the impacts of climate change. The majority of climate finance is going towards several key areas:\n",
      "\n",
      "1. Renewable Energy: A significant portion of climate finance is being directed towards renewable energy projects such as wind, solar, and hydroelectric power. This includes investments in new technologies and infrastructure to increase the share of renewables in the global energy mix.\n",
      "2. Energy Efficiency: Another area of focus for climate finance is energy efficiency, which involves reducing the amount of energy required to power homes, businesses, and industries. This can be achieved through measures such as retrofitting buildings with energy-efficient technologies, improving industrial processes, and promoting sustainable transportation.\n",
      "3. Forest Conservation and Restoration: Forests play a crucial role in regulating the climate by absorbing carbon dioxide and producing oxygen. Climate finance is supporting initiatives to conserve and restore forests, including reforestation efforts and sustainable forest management practices.\n",
      "4. Adaptation to Climate Change: As the impacts of climate change become more pronounced, there is an increasing need for adaptation measures to protect communities and ecosystems. Climate finance is supporting initiatives such as flood protection infrastructure, drought management strategies, and climate-resilient agriculture.\n",
      "5. Sustainable Infrastructure: Climate finance is also supporting the development of sustainable infrastructure, such as green buildings, water management systems, and transportation networks that are resilient to the impacts of climate change.\n",
      "6. Capacity Building and Technical Assistance: Many developing countries lack the technical expertise and resources to implement climate mitigation and adaptation measures. Climate finance is providing capacity building and technical assistance to help these countries build their institutional capabilities and develop bankable projects.\n",
      "7. Private Sector Engagement: The private sector has a critical role to play in addressing climate change, and climate finance is being used to encourage private investment in clean energy, sustainable infrastructure, and other low-carbon technologies. This includes support for innovative financial instruments such as green bonds and impact investments.\n",
      "\n",
      "Overall, the majority of climate finance is going towards activities that reduce greenhouse gas emissions and support the adaptation to the impacts of climate change, with a focus on renewable energy, energy efficiency, forest conservation, and sustainable infrastructure.\n"
     ]
    }
   ],
   "source": [
    "question = \"Where is the majority of climate ﬁnance going?\" #Q7\n",
    "answer = llm(question)\n",
    "print(answer)"
   ]
  },
  {
   "cell_type": "code",
   "execution_count": 31,
   "id": "2a4c9522-f83e-4e49-b46f-5b6d1be8e7aa",
   "metadata": {},
   "outputs": [
    {
     "name": "stdout",
     "output_type": "stream",
     "text": [
      " As a helpful assistant, I'd be happy to provide information on scaling up adaptation and mitigation efforts in developing countries! Here are some options:\n",
      "\n",
      "1. Green Climate Fund (GCF): The GCF is a fund established under the United Nations Framework Convention on Climate Change (UNFCCC) to support developing countries in their efforts to adapt to the impacts of climate change and transition to low-carbon development. The GCF provides grants and loans to projects that reduce greenhouse gas emissions and enhance resilience to climate change.\n",
      "2. Nationally Determined Contributions (NDCs): NDCs are voluntary commitments made by each country under the Paris Agreement to reduce its greenhouse gas emissions. Developing countries can scale up their NDCs by setting more ambitious targets, increasing their ambition, and implementing policies and measures to achieve them.\n",
      "3. Sustainable Development Goals (SDGs): The SDGs are a set of 17 goals adopted by the United Nations in 2015 to end poverty, protect the planet, and ensure peace and prosperity for all. Many of the SDGs are relevant to climate change, such as SDG 13 (Climate Action), SDG 14 (Life Below Water), and SDG 15 (Life On Land). Developing countries can align their national development plans with the SDGs to integrate climate change mitigation and adaptation into their development strategies.\n",
      "4. Climate Investment Funds (CIF): The CIF is a group of trust funds established by the World Bank to support developing countries in their efforts to address climate change. The CIF provides grants and loans to projects that reduce greenhouse gas emissions and promote sustainable development.\n",
      "5. Private sector investment: The private sector can play an important role in scaling up adaptation and mitigation efforts in developing countries. Governments can create enabling environments for private sector investment by providing policy certainty, tax incentives, and other forms of support.\n",
      "6. Community-based initiatives: Community-based initiatives can be effective in promoting climate change mitigation and adaptation at the local level. These initiatives can include community gardens, renewable energy cooperatives, and other grassroots projects that engage communities in climate action.\n",
      "7. South-South collaboration: Developing countries can learn from each other's experiences and best practices in addressing climate change. South-South collaboration can help share knowledge, technologies, and innovations that are appropriate for local contexts.\n",
      "8. Capacity building: Building capacity is essential for developing countries to scale up adaptation and mitigation efforts. This includes training personnel, strengthening institutions, and improving access to data and information.\n",
      "9. Technology transfer: Developed countries can transfer technology to developing countries to support their transition to low-carbon development. This can include clean energy technologies, climate-resilient agriculture, and other solutions that reduce greenhouse gas emissions.\n",
      "10. International cooperation: International cooperation is critical for addressing the global nature of climate change. Developing countries can work with developed countries, international organizations, and civil society to coordinate efforts, share resources, and build collective momentum for climate action.\n",
      "\n",
      "These options offer a range of opportunities for scaling up adaptation and mitigation efforts in developing countries. By leveraging these options, developing countries can make significant progress towards achieving their climate goals and ensuring sustainable development for all.\n"
     ]
    }
   ],
   "source": [
    "question = \"What are the options for scaling up adaptation and mitigation in developing countries?\" #Q8\n",
    "answer = llm(question)\n",
    "print(answer)"
   ]
  },
  {
   "cell_type": "code",
   "execution_count": 32,
   "id": "7fa4ce3b-b758-460f-8597-04ea1360445f",
   "metadata": {},
   "outputs": [
    {
     "name": "stdout",
     "output_type": "stream",
     "text": [
      " As a helpful assistant, I'm here to provide you with information on which regions are likely to be disproportionately affected by climate change. It's important to note that all regions will experience the impacts of climate change to some degree, but some areas will be more vulnerable than others due to various factors such as geography, economy, and social conditions. Here are some regions that are expected to be disproportionately affected:\n",
      "\n",
      "1. Small Island Developing States (SIDS): These islands, such as those in the Pacific and Caribbean, have limited resources and infrastructure, making them highly susceptible to the impacts of sea-level rise, storm surges, and coastal erosion.\n",
      "2. Arctic regions: The melting of sea ice and permafrost is altering ecosystems and threatening the livelihoods of indigenous communities in the Arctic. Rising temperatures also pose risks to infrastructure and economic activities such as oil and gas exploration.\n",
      "3. Coastal areas: Low-lying coastal areas, such as deltas and estuaries, are at risk from sea-level rise and increased flooding, which can damage homes, businesses, and infrastructure. Cities like Miami, Mumbai, and Shanghai are particularly vulnerable.\n",
      "4. Agricultural regions: Changes in temperature and precipitation patterns can lead to droughts, heatwaves, and floods, which can severely affect agricultural productivity and food security. Regions like sub-Saharan Africa, South Asia, and Central America may experience significant losses in crop yields and livestock productivity.\n",
      "5. Islands and archipelagos: In addition to SIDS, other island chains like the Philippines, Indonesia, and Japan may face severe challenges due to rising sea levels, typhoons, and saltwater intrusion into freshwater sources.\n",
      "6. Mountainous regions: As temperatures rise, glaciers are melting and snowpacks are decreasing, leading to changes in water availability and increasing the risk of landslides and avalanches. Regions like the Himalayas, the Andes, and the Rocky Mountains will be affected.\n",
      "7. Coastal megacities: Cities like New York City, London, and Tokyo are already experiencing more frequent and intense flooding due to sea-level rise and urbanization. These cities will need to invest in adaptation measures to protect their infrastructure and citizens.\n",
      "8. Water-stressed regions: Areas with limited access to clean water, such as parts of Africa, the Middle East, and South Asia, will face further challenges as climate change exacerbates water scarcity and reduces the quality of available water resources.\n",
      "9. Disaster-prone regions: Regions that are already susceptible to natural disasters, such as earthquakes, hurricanes, or wildfires, will likely experience more frequent and intense events, which can have devastating consequences for local communities.\n",
      "10. Low-elevation coastal zones: These areas, found along the coastlines of many countries, are particularly vulnerable to sea-level rise and associated hazards like erosion and flooding. Examples include the Gulf Coast of the United States and the deltaic regions of Bangladesh and Vietnam.\n",
      "\n",
      "These regions are not exhaustive, and the impacts of climate change will be felt globally. However, these areas may be more vulnerable to the effects of rising temperatures and should prioritize adaptation strategies to minimize losses and protect human life and ecosystems.\n"
     ]
    }
   ],
   "source": [
    "question = \"Which regions will be disproportionally affected by climate change?\" #Q9\n",
    "answer = llm(question)\n",
    "print(answer)"
   ]
  },
  {
   "cell_type": "code",
   "execution_count": 33,
   "id": "07bc2ba5-00cf-4ef5-951d-b6ab69e1b141",
   "metadata": {},
   "outputs": [
    {
     "name": "stdout",
     "output_type": "stream",
     "text": [
      " Hello! As your helpful assistant, I'd be happy to explain what climate justice is.\n",
      "\n",
      "Climate justice is the idea that all individuals and communities have a right to a safe and healthy environment, regardless of their race, socioeconomic status, or geographical location. It acknowledges that some communities are disproportionately affected by climate change and environmental degradation, and seeks to address these inequalities.\n",
      "\n",
      "The concept of climate justice emphasizes the need for equitable solutions to the climate crisis, taking into account the historical emissions responsible for global warming, as well as the unequal distribution of its impacts. It requires those who have contributed most to climate change to take responsibility for their actions and provide support to those who are most vulnerable to its effects.\n",
      "\n",
      "Climate justice also recognizes the rights of indigenous peoples and local communities to their lands, territories, and resources, and advocates for their full and effective participation in decision-making processes related to climate policy.\n",
      "\n",
      "In practice, climate justice can involve a range of strategies, such as:\n",
      "\n",
      "1. Reducing greenhouse gas emissions through renewable energy transition and energy efficiency measures.\n",
      "2. Supporting climate resilience and adaptation efforts in vulnerable communities.\n",
      "3. Providing financial compensation and support to communities displaced by climate-related events.\n",
      "4. Promoting sustainable land use practices and forest conservation.\n",
      "5. Advocating for policies and laws that prioritize climate protection and social equity.\n",
      "\n",
      "Overall, climate justice is an important framework for understanding the intersections of climate change, social inequality, and human rights, and for developing solutions that prioritize the needs of marginalized communities.\n"
     ]
    }
   ],
   "source": [
    "question = \"What is climate justice?\" #Q10\n",
    "answer = llm(question)\n",
    "print(answer)"
   ]
  },
  {
   "cell_type": "code",
   "execution_count": 34,
   "id": "ff631f0f-a688-4b13-9a70-433e7fc151cf",
   "metadata": {},
   "outputs": [
    {
     "name": "stdout",
     "output_type": "stream",
     "text": [
      " Hello! As your helpful assistant, I'd be happy to help you understand the concept of maladaptation.\n",
      "\n",
      "Maladaptation refers to a situation where an organism or system has adapted to its environment in a way that is harmful or detrimental to its survival or well-being. In other words, it is an adaptation that is not beneficial or effective for the organism's survival.\n",
      "\n",
      "For example, imagine a species of bird that has evolved to live in a certain type of forest. Over time, the forest may undergo changes due to environmental factors such as climate change, urbanization, or disease, which can lead to the loss of the bird's habitat and food sources. If the bird does not adapt to these changes, it may become maladapted, meaning it will not be able to survive in its original environment.\n",
      "\n",
      "Another example of maladaptation could be a person who has developed a behavior or habit that was once beneficial but is now causing problems in their life. For instance, a person who developed a coping mechanism such as substance abuse to deal with stress may become maladapted if the behavior continues to cause more harm than good.\n",
      "\n",
      "In both cases, maladaptation can lead to negative consequences such as reduced fitness, decreased survival rates, or even extinction. However, some organisms have the ability to adapt and evolve over time, which can help them overcome maladaptation and thrive in new environments.\n"
     ]
    }
   ],
   "source": [
    "question = \"What is maladaptation?\" #Q11\n",
    "answer = llm(question)\n",
    "print(answer)"
   ]
  },
  {
   "cell_type": "code",
   "execution_count": 35,
   "id": "e87c6be7-0e74-47f8-97b2-2ee5f271d094",
   "metadata": {},
   "outputs": [
    {
     "name": "stdout",
     "output_type": "stream",
     "text": [
      " As your helpful assistant, I can provide information on the topic of maladaptation. Maladaptation refers to the process by which an organism or system becomes less adapted to its environment, leading to decreased fitness and potentially negative outcomes.\n",
      "\n",
      "There are many examples of maladaptation in the natural world. For instance, some species may become dependent on human activities, such as agriculture or pollution, and lose their ability to survive without these influences. Other species may undergo genetic changes that make them more susceptible to disease or environmental stressors.\n",
      "\n",
      "In humans, maladaptation can occur due to various factors, including genetics, lifestyle choices, and exposure to environmental toxins. For example, people who live in areas with high levels of air pollution may be more likely to develop respiratory problems, and those who consume a diet high in processed foods and low in nutrients may be more prone to chronic diseases like obesity and diabetes.\n",
      "\n",
      "It's important to note that not all adaptations are beneficial, and some may even be harmful. For example, a person who develops a dependence on drugs or alcohol may experience negative consequences, such as health problems, relationship issues, and legal troubles. In these cases, the adaptation is considered maladaptive because it leads to negative outcomes.\n",
      "\n",
      "Overall, understanding the concept of maladaptation can help us better appreciate the complex interplay between organisms and their environments, and inform strategies for promoting health and well-being.\n"
     ]
    }
   ],
   "source": [
    "question = \"Is there evidence of maladaptation?\" #Q12\n",
    "answer = llm(question)\n",
    "print(answer)"
   ]
  },
  {
   "cell_type": "code",
   "execution_count": 36,
   "id": "987b3bdf-d26e-4f1b-8a81-6fab0ede31a3",
   "metadata": {},
   "outputs": [
    {
     "name": "stdout",
     "output_type": "stream",
     "text": [
      " Ah, greetings there! As a helpful assistant, I'll do me best to provide ye with the most up-to-date and accurate information on glaciers in Scotland.\n",
      "\n",
      "Glaciers in Scotland, like those found in other parts of the world, are indeed melting due to climate change. The warming temperatures caused by human activities such as burning fossil fuels and deforestation have led to increased melting of glacials in Scotland over the past few decades. This is a concern not only for the environment but also for communities that rely on these glaciers for water supplies and other resources.\n",
      "\n",
      "According to a study published in the journal Nature Climate Change, glaciers in Scotland could lose up to 90% of their volume by the end of the century if greenhouse gas emissions continue to rise at current rates. This would have significant impacts on the local ecosystems and wildlife, as well as on human communities that depend on these glaciers for water and other resources.\n",
      "\n",
      "However, it's worth noting that the melting of glaciers in Scotland is not a new phenomenon. Glaciers have been retreating and advancing throughout the Earth's history, and the current rate of melting is not unprecedented. However, the speed and scale of the current melting is unusual and is primarily driven by human activities.\n",
      "\n",
      "So, to answer yer question, yes, glaciers in Scotland will likely continue to melt as long as climate change continues to be a pressing issue. It's important for us all to take action to reduce our carbon footprint and slow the pace of global warming to protect these precious natural resources.\n"
     ]
    }
   ],
   "source": [
    "question = \"Will glaciers in Scotland melt?\" #Q13\n",
    "answer = llm(question)\n",
    "print(answer)"
   ]
  },
  {
   "cell_type": "markdown",
   "id": "08366ebd-7ed5-4a88-8b11-0d5c79ed1127",
   "metadata": {},
   "source": [
    "### How to run Llama2 with external PDF?"
   ]
  },
  {
   "cell_type": "code",
   "execution_count": 37,
   "id": "f5303d75",
   "metadata": {},
   "outputs": [],
   "source": [
    "from langchain.document_loaders import PyPDFLoader\n",
    "loader = PyPDFLoader(\"IPCC_AR6_WGIII_FullReport.pdf\")\n",
    "docs = loader.load()"
   ]
  },
  {
   "cell_type": "code",
   "execution_count": 38,
   "id": "678c2b4a",
   "metadata": {},
   "outputs": [
    {
     "name": "stdout",
     "output_type": "stream",
     "text": [
      "2042 Working Group III contribution to the\n",
      "Sixth Assessment Report of the \n",
      "Intergovernmental Panel on Climate ChangeWGIIIMitigation of Climate ChangeClimate Change 2022\n"
     ]
    }
   ],
   "source": [
    "# check docs length and content\n",
    "print(len(docs), docs[0].page_content[0:300])"
   ]
  },
  {
   "cell_type": "markdown",
   "id": "73b8268e",
   "metadata": {},
   "source": [
    "We need to store our documents. There are more than 30 vector stores (DBs) supported by LangChain. \n",
    "For this example we will use [Chroma](https://python.langchain.com/docs/integrations/vectorstores/chroma) which is light-weight and in memory so it's easy to get started with.\n",
    "For other vector stores especially if you need to store a large amount of data - see https://python.langchain.com/docs/integrations/vectorstores\n",
    "\n",
    "We will also import the HuggingFaceEmbeddings and RecursiveCharacterTextSplitter to assist in storing the documents."
   ]
  },
  {
   "cell_type": "code",
   "execution_count": 39,
   "id": "eecb6a34",
   "metadata": {},
   "outputs": [],
   "source": [
    "\n",
    "from langchain.vectorstores import Chroma\n",
    "\n",
    "# embeddings are numerical representations of the question and answer text\n",
    "from langchain.embeddings import HuggingFaceEmbeddings\n",
    "\n",
    "# use a common text splitter to split text into chunks\n",
    "from langchain.text_splitter import RecursiveCharacterTextSplitter"
   ]
  },
  {
   "cell_type": "markdown",
   "id": "36d4a17c",
   "metadata": {},
   "source": [
    "To store the documents, we will need to split them into chunks using [`RecursiveCharacterTextSplitter`](https://python.langchain.com/docs/modules/data_connection/document_transformers/text_splitters/recursive_text_splitter) and create vector representations of these chunks using [`HuggingFaceEmbeddings`](https://www.google.com/search?q=langchain+hugging+face+embeddings&sca_esv=572890011&ei=ARUoZaH4LuumptQP48ah2Ac&oq=langchian+hugg&gs_lp=Egxnd3Mtd2l6LXNlcnAiDmxhbmdjaGlhbiBodWdnKgIIADIHEAAYgAQYCjIHEAAYgAQYCjIHEAAYgAQYCjIHEAAYgAQYCjIHEAAYgAQYCjIHEAAYgAQYCjIHEAAYgAQYCjIHEAAYgAQYCjIHEAAYgAQYCjIHEAAYgAQYCkjeHlC5Cli5D3ABeAGQAQCYAV6gAb4CqgEBNLgBAcgBAPgBAcICChAAGEcY1gQYsAPiAwQYACBBiAYBkAYI&sclient=gws-wiz-serp) on them before storing them into our vector database. \n",
    "\n",
    "In general, you should use larger chuck sizes for highly structured text such as code and smaller size for less structured text. You may need to experiment with different chunk sizes and overlap values to find out the best numbers."
   ]
  },
  {
   "cell_type": "code",
   "execution_count": 40,
   "id": "bc65e161",
   "metadata": {
    "editable": true,
    "slideshow": {
     "slide_type": ""
    },
    "tags": []
   },
   "outputs": [],
   "source": [
    "text_splitter = RecursiveCharacterTextSplitter(chunk_size=1000, chunk_overlap=20)\n",
    "all_splits = text_splitter.split_documents(docs)\n",
    "\n",
    "# create the vector db to store all the split chunks as embeddings\n",
    "embeddings = HuggingFaceEmbeddings()\n",
    "vectordb = Chroma.from_documents(\n",
    "    documents=all_splits,\n",
    "    embedding=embeddings,\n",
    ")\n",
    "# This part is not GPU supported \n",
    "# Slow about 30 mins"
   ]
  },
  {
   "cell_type": "markdown",
   "id": "54ad02d7",
   "metadata": {},
   "source": [
    "We then use ` RetrievalQA` to retrieve the documents from the vector database and give the model more context on Llama 2, thereby increasing its knowledge.\n",
    "\n",
    "For each question, LangChain performs a semantic similarity search of it in the vector db, then passes the search results as the context to Llama to answer the question."
   ]
  },
  {
   "cell_type": "code",
   "execution_count": 41,
   "id": "00e3f72b",
   "metadata": {},
   "outputs": [
    {
     "name": "stdout",
     "output_type": "stream",
     "text": [
      " Based on the information provided in the text, it is still possible to limit warming to 1.5°C, but it will require immediate action and a large margin of modelled pathways that limit warming to 2°C or below. The report states that all assessed modelled global pathways that limit warming to 1.5°C with no or limited overshoot assume immediate action as defined here (Category C1 in Table SPM.2). Additionally, the report highlights progress towards deeper mitigation, but there are many obstacles to be overcome.\n",
      "\n",
      "It's important to note that the report emphasizes the need for immediate action to limit warming to 1.5°C, and that delaying action will make it more difficult to achieve this goal. The report also notes that while there has been progress towards deeper mitigation, there are still many challenges to be addressed.\n"
     ]
    }
   ],
   "source": [
    "# use LangChain's RetrievalQA, to associate Llama with the loaded documents stored in the vector db\n",
    "from langchain.chains import RetrievalQA\n",
    "\n",
    "qa_chain = RetrievalQA.from_chain_type(\n",
    "    llm,\n",
    "    retriever=vectordb.as_retriever()\n",
    ")\n",
    "\n",
    "\n",
    "question = \"Is it still possible to limit warming to 1.5°C?\" #Q1\n",
    "result = qa_chain({\"query\": question})\n",
    "print(result['result'])"
   ]
  },
  {
   "cell_type": "markdown",
   "id": "7e63769a",
   "metadata": {},
   "source": [
    "Now, lets bring it all together by incorporating follow up questions.\n",
    "\n",
    "First we ask a follow up questions without giving the model context of the previous conversation. \n",
    "Without this context, the answer we get does not relate to our original question."
   ]
  },
  {
   "cell_type": "code",
   "execution_count": 42,
   "id": "53f27473",
   "metadata": {},
   "outputs": [
    {
     "name": "stdout",
     "output_type": "stream",
     "text": [
      " Based on the information provided in the table, it is likely that we will exceed 1.5°C warming above pre-industrial levels by the end of 2020 if climate sensitivity is higher than central estimates (high confidence). The probability of exceeding 1.5°C warming is estimated to be greater than 50% for SSP5-8.5, which represents a high emission scenario with continued growth of greenhouse gas emissions.\n",
      "\n",
      "However, it is important to note that the exact timing of when we will reach 1.5°C warming depends on various factors such as the rate of emissions reductions and the level of global cooperation to address climate change. The table suggests that the likelihood of exceeding 1.5°C warming increases with each passing year, with the highest probability of exceedance occurring between 2020 and 2035.\n"
     ]
    }
   ],
   "source": [
    "question = \"When will we reach 1.5°C?\" #Q2\n",
    "result = qa_chain({\"query\": question})\n",
    "print(result['result'])"
   ]
  },
  {
   "cell_type": "code",
   "execution_count": 43,
   "id": "0cec27f4-92ac-4a7c-9117-19997ce24e32",
   "metadata": {},
   "outputs": [
    {
     "name": "stdout",
     "output_type": "stream",
     "text": [
      " Sure, I'd be happy to help! Based on the context you provided, \"overshoot\" refers to exceeding a specified global warming level, such as 1.5°C or 2°C, by a small amount (up to 0.1°C to 0.3°C) for a period of several decades. This can happen when greenhouse gas emissions are not reduced quickly enough, leading to temporary exceedance of the targeted warming level before eventually returning to it. The duration of the overshoot can vary, but it is typically measured in decades. Overshoot pathways are scenarios that first exceed the targeted warming level and then return to it before the end of a specified period of time, such as 2100.\n"
     ]
    }
   ],
   "source": [
    "question = \"What does overshoot mean?\" #Q3\n",
    "result = qa_chain({\"query\": question})\n",
    "print(result['result'])"
   ]
  },
  {
   "cell_type": "code",
   "execution_count": 44,
   "id": "f1809ca2-6a1e-4373-98f1-cbfdba54cdc2",
   "metadata": {},
   "outputs": [
    {
     "name": "stdout",
     "output_type": "stream",
     "text": [
      " Based on the information provided in the context, it is possible to avoid overshooting 1.5°C, but it would require immediate action and significant reductions in greenhouse gas emissions. According to the report, pathways that limit warming to 1.5°C without overshoot are possible, but they require the adoption of climate policies intended to limit global warming to 1.5°C between 2020 and at latest before 2025. The report also states that all assessed modelled global pathways that limit warming to 1.5°C with no or limited overshoot assume immediate action as defined in the report.\n",
      "\n",
      "It's worth noting that the report highlights the risks associated with overshooting 1.5°C, including higher risks from climate change impacts during the time of overshoot compared to pathways that limit warming to 1.5°C with no or limited overshoot. Therefore, avoiding overshooting 1.5°C is important for minimizing these risks.\n"
     ]
    }
   ],
   "source": [
    "question = \"Can we avoid overshooting 1.5°C?\" #Q4\n",
    "result = qa_chain({\"query\": question})\n",
    "print(result['result'])"
   ]
  },
  {
   "cell_type": "code",
   "execution_count": 45,
   "id": "bc0aca36-bd67-4ba9-b913-1a6b07cf35ad",
   "metadata": {},
   "outputs": [
    {
     "name": "stdout",
     "output_type": "stream",
     "text": [
      " Based on the provided context, there is evidence that some countries have achieved absolute emissions reductions over the past few decades. According to Chapter 2 of the report, at least 18 countries have sustained absolute emissions reductions for at least a decade, with most of these countries having Kyoto targets for the first commitment period. These countries include several European nations, which have reduced production-based GHG emissions by a third or more since peaking. Additionally, some countries have achieved several years of rapid sustained CO2 reduction rates of 4% per year. However, it's important to note that uncertainties in emissions levels and changes over time prevent a precise assessment of reductions in some cases.\n"
     ]
    }
   ],
   "source": [
    "question = \"Have emissions reductions fallen for some countries?\" #Q5\n",
    "result = qa_chain({\"query\": question})\n",
    "print(result['result'])"
   ]
  },
  {
   "cell_type": "code",
   "execution_count": 46,
   "id": "5074a7a4-7317-426f-974e-c4830cd903ad",
   "metadata": {},
   "outputs": [
    {
     "name": "stdout",
     "output_type": "stream",
     "text": [
      " Based on the provided context, there are several issues with financing adaptation:\n",
      "\n",
      "1. Limited resources: Absence or limited resources in social and institutional systems can lead to poorly coordinated responses, reducing the potential for maximizing mitigation and adaptation benefits and increasing risk (high confidence) (Source: {12.6, 13.8, 17.1, 17.3}).\n",
      "2. Fear that adaptation will reduce the incentives to mitigate carbon emissions: There is a fear that adaptation may reduce the incentives to mitigate carbon emissions, but this may not be justified as adaptation can reduce free-rider incentives and yield higher global mitigation levels and welfare if adaptation efforts cause mitigation levels between different countries to be complements instead of strategic substitutes (Source: Ingham et al., 2013).\n",
      "3. Lack of international cooperation: International cooperation for adaptation operates at the project or programmatic level, but distinct from these activities, there is a need for finance and technical assistance (Bouwer and Aerts, 2006).\n",
      "4. Transboundary actions: Adaptation efforts often involve transboundary actions, such as transboundary watershed management, which can pose challenges in terms of coordination and implementation (Wilder et al., 2010; Milman et al., 2013; van der Voorn et al., 2017).\n",
      "5. Mainstreaming climate change projections into existing treaties: There is a need to mainstream climate change projections into existing treaties, such as for the protection of migratory species (Trouwborst et al., 2012), which can be challenging due to the complexity of the issue and the need for coordinated action.\n"
     ]
    }
   ],
   "source": [
    "question = \"What are the issues with ﬁnancing adaptation?\" #Q6\n",
    "result = qa_chain({\"query\": question})\n",
    "print(result['result'])"
   ]
  },
  {
   "cell_type": "code",
   "execution_count": 47,
   "id": "6eaed9dc-529d-4e0d-a7c0-f1fedd84f2a3",
   "metadata": {},
   "outputs": [
    {
     "name": "stdout",
     "output_type": "stream",
     "text": [
      " Based on the context provided, the majority of climate finance is going towards mitigation efforts, specifically investments in low-carbon solutions and structural changes away from emitting activities. This is evident from the fact that the global benefits of pathways limiting warming to 2°C outweigh global mitigation costs over the 21st century, as mentioned in the text. Additionally, there is strong evidence showing the urgent need for scaling-up climate finance to mitigate greenhouse gases in line with pursuing the goal of limiting the temperature increase to 1.5°C above pre-industrial levels. However, I don't know the exact distribution of climate finance among different sectors or regions.\n"
     ]
    }
   ],
   "source": [
    "question = \"Where is the majority of climate ﬁnance going?\" #Q7\n",
    "result = qa_chain({\"query\": question})\n",
    "print(result['result'])"
   ]
  },
  {
   "cell_type": "code",
   "execution_count": 48,
   "id": "87b1d097-b553-4a28-b5de-afabf90e28f8",
   "metadata": {},
   "outputs": [
    {
     "name": "stdout",
     "output_type": "stream",
     "text": [
      " Based on the provided context, there are several options for scaling up adaptation and mitigation in developing countries. These include:\n",
      "\n",
      "1. Integrating adaptation and mitigation measures into national development objectives, such as sustaining economic growth, providing employment, and alleviating poverty and ensuring equity (Hoolohan et al., 2019).\n",
      "2. Prioritizing development pathways that balance social, economic, and environmental sustainability, taking into account local contexts and the urgency of improving well-being for people (SDGs, 2015).\n",
      "3. Leveraging frameworks that enable the integration of adaptation and mitigation measures, such as synergies between adaptation and mitigation (Box 13.15), and integrated governance including equity and sustainable development (Box 13.17) (Pfeiffer et al., 2018).\n",
      "4. Accelerating mitigation efforts by shifting development pathways through intentional policy design and implementation, aimed at enhancing enabling conditions and reducing obstacles to desired outcomes (medium evidence, medium agreement) (Hoolohan et al., 2019).\n",
      "\n",
      "It is important to note that these options may vary depending on the specific context and priorities of each developing country. Additionally, while the literature does not explicitly consider systematic, physical drivers of inertia such as capital and infrastructure needed to support accelerated mitigation, it highlights the importance of addressing the complex dynamics among various drivers and diverse actors with varying interests and motivations (Hoolohan et al., 2019).\n"
     ]
    }
   ],
   "source": [
    "question = \"What are the options for scaling up adaptation and mitigation in developing countries?\" #Q8\n",
    "result = qa_chain({\"query\": question})\n",
    "print(result['result'])"
   ]
  },
  {
   "cell_type": "code",
   "execution_count": 49,
   "id": "144424be-6349-4ddc-aa4f-9feb6ebf882f",
   "metadata": {},
   "outputs": [
    {
     "name": "stdout",
     "output_type": "stream",
     "text": [
      " Based on the provided context, it is difficult to determine which specific regions will be disproportionately affected by climate change. However, there are several points that can be made based on the information provided:\n",
      "\n",
      "1. Global exposure to water stress is projected to increase with increased warming, but increases will not occur in all regions (Hanasaki et al. 2013; Schewe et al. 2014; Arnell and Lloyd-Hughes 2014; Gosling and Arnell 2016; IPCC 2019a).\n",
      "2. Limiting warming could reduce water-related risks (high confidence) (O’Neill et al. 2017b; Byers et al. 2018; Hurlbert et al. 2019) and the population exposed to increased water stress (Hanasaki et al. 2013; Arnell and Lloyd-Hughes 2014; Schewe et al. 2014; Gosling and Arnell 2016; IPCC 2019a).\n",
      "3. The effect of climate change on water depends on the climate model, the hydrological model, and the metric (high confidence) (Hanasaki et al. 2013; Arnell and Lloyd-Hughes 2014; Schewe et al. 2014; Gosling and Arnell 2016; IPCC 2019a).\n",
      "4. The deployment of climate change mitigation options often affects land and water conditions, and ecosystem capacity to support biodiversity and a range of ecosystem services (IPCC 2019a; IPBES 2019) (robust evidence, high agreement).\n",
      "5. Large areas may be utilized for afforestation/reforestation and energy crops in modelled pathways limiting warming to 1.5°C (Rogelj et al. 2018).\n",
      "6. Non-local impacts may occur through GHG fluxes and subsequent changes in radiative transfer, changes in atmospheric chemistry, thermal, moisture, and surface pressure gradients creating horizontal transport (advection) (de Vrese et al. 2016; Davin and de Noblet-Ducoudré 2010) and vertical transport (convection and subsidence) (Devaraju et al. 2018).\n",
      "7. Regional and global biophysical impacts emerge from model simulations (Davin and de Noblet-Ducoudré 2010; de Vrese et al. 2016; Devaraju et al. 2018), especially if the land condition has changed over large areas.\n",
      "\n",
      "Overall, it is likely that different regions will be disproportionately affected by climate change, depending on factors such as their geographical location, ecological characteristics, and socio-economic context. However, without more specific information, it is difficult to identify which regions will be most severely affected.\n"
     ]
    }
   ],
   "source": [
    "question = \"Which regions will be disproportionally affected by climate change?\" #Q9\n",
    "result = qa_chain({\"query\": question})\n",
    "print(result['result'])"
   ]
  },
  {
   "cell_type": "code",
   "execution_count": 50,
   "id": "b8f3af6c-0b6f-41d7-ac17-3d15163a6f36",
   "metadata": {},
   "outputs": [
    {
     "name": "stdout",
     "output_type": "stream",
     "text": [
      " Based on the context provided, climate justice refers to the principle of ensuring that people get what is due to them in terms of fairness and equity in the way they are treated, particularly in relation to addressing climate change and its impacts. This includes considering the distributional impacts of climate policy, aligning mitigation with other objectives such as inclusion and poverty reduction, representing a variety of voices, and incorporating ethics and equity into national and international policies. Climate justice also involves addressing the uneven distribution of adverse impacts associated with 1.5°C and higher levels of global warming, and facilitating shifting development pathways towards sustainability, including through equitable sharing of benefits and burdens of mitigation.\n"
     ]
    }
   ],
   "source": [
    "question = \"What is climate justice?\" #Q10\n",
    "result = qa_chain({\"query\": question})\n",
    "print(result['result'])"
   ]
  },
  {
   "cell_type": "code",
   "execution_count": 51,
   "id": "7e412f18-f9d3-422e-b3ce-64962274ef33",
   "metadata": {},
   "outputs": [
    {
     "name": "stdout",
     "output_type": "stream",
     "text": [
      " Based on the context provided, maladaptation refers to actions that may lead to increased risk of adverse climate-related outcomes, including through increased greenhouse gas emissions, increased vulnerability to climate change, or diminished welfare, now or in the future. Maladaptation is usually an unintended consequence.\n"
     ]
    }
   ],
   "source": [
    "question = \"What is maladaptation?\" #Q11\n",
    "result = qa_chain({\"query\": question})\n",
    "print(result['result'])"
   ]
  },
  {
   "cell_type": "code",
   "execution_count": 52,
   "id": "0ffb1113-ce6b-490d-89ad-e71ac7a743e4",
   "metadata": {},
   "outputs": [
    {
     "name": "stdout",
     "output_type": "stream",
     "text": [
      " Based on the provided context, I do not see any direct evidence of maladaptation in the text. The Technical Summary provides an evaluation of the underlying evidence and its validity, but does not explicitly mention maladaptation. However, it does discuss the impact of climate change on various sectors such as health, employment, etc., which could be interpreted as indirect evidence of maladaptation.\n",
      "\n",
      "To provide a more definitive answer, I would need to know what specific aspect of maladaptation is being referred to and how it relates to the content of the Technical Summary. If you have any further questions or clarifications, I'll do my best to assist you.\n"
     ]
    }
   ],
   "source": [
    "question = \"Is there evidence of maladaptation?\" #Q12\n",
    "result = qa_chain({\"query\": question})\n",
    "print(result['result'])"
   ]
  },
  {
   "cell_type": "code",
   "execution_count": 53,
   "id": "bac01b61-b092-45ed-864e-34642cb51403",
   "metadata": {},
   "outputs": [
    {
     "name": "stdout",
     "output_type": "stream",
     "text": [
      " Based on the information provided in the text, it is possible that glaciers in Scotland may melt due to climate change. The Intergovernmental Panel on Climate Change (IPCC) has reported that global warming is expected to continue, with temperatures projected to rise by 1.5°C to 2°C (2.7°F to 3.6°F) above pre-industrial levels by 2050. This warming will likely lead to changes in precipitation patterns and increased melting of glaciers and sea ice.\n",
      "\n",
      "However, it's important to note that the impact of climate change on glaciers in Scotland specifically is not explicitly mentioned in the text. Further research or analysis would be needed to determine the specific effects of climate change on glaciers in Scotland.\n"
     ]
    }
   ],
   "source": [
    "question = \"Will glaciers in Scotland melt?\" #Q13\n",
    "result = qa_chain({\"query\": question})\n",
    "print(result['result'])"
   ]
  },
  {
   "cell_type": "markdown",
   "id": "bcb60995-d509-441d-9038-b8b1e8b9e67a",
   "metadata": {},
   "source": [
    "### How does ChatGPT3.5 answer?\n",
    "[https://chat.openai.com/share/17cf5cc6-50db-4547-a56f-18756a974622](https://chat.openai.com/share/17cf5cc6-50db-4547-a56f-18756a974622)\n"
   ]
  },
  {
   "cell_type": "markdown",
   "id": "e50bc472-23c7-4197-ae78-727409031904",
   "metadata": {},
   "source": [
    "### How to load multiple PDFs?\n",
    "\n",
    "We will use PyPDF Directory to load PDFs from directory."
   ]
  },
  {
   "cell_type": "code",
   "execution_count": 1,
   "id": "6b853bc0-3846-4271-b74d-e07a3562b198",
   "metadata": {},
   "outputs": [],
   "source": [
    "from langchain.document_loaders import PyPDFDirectoryLoader\n",
    "\n",
    "loader = PyPDFDirectoryLoader(\"yl_External_PDFs/\")\n",
    "docs = loader.load()"
   ]
  },
  {
   "cell_type": "code",
   "execution_count": 2,
   "id": "b9931052-bbe1-4372-89f2-e084d1ec8816",
   "metadata": {},
   "outputs": [
    {
     "name": "stdout",
     "output_type": "stream",
     "text": [
      "115 Towards equilibrium molecular conformation\n",
      "generation with GFlowNets\n",
      "Alexandra Volokhova∗\n",
      "Mila, Université de MontréalMichał Koziarski∗\n",
      "Mila, Université de MontréalAlex Hernández-García\n",
      "Mila, Université de Montréal\n",
      "Cheng-Hao Liu\n",
      "Mila, McGill UniversitySantiago Miret\n",
      "Intel LabsPablo Lemos\n",
      "Mila, Unive\n"
     ]
    }
   ],
   "source": [
    "# check docs length and content\n",
    "print(len(docs), docs[0].page_content[0:300])"
   ]
  },
  {
   "cell_type": "markdown",
   "id": "f94a2cb3-90a4-493d-9fda-1a338371627f",
   "metadata": {},
   "source": [
    "To store the documents, we will need to split them into chunks using [`RecursiveCharacterTextSplitter`](https://python.langchain.com/docs/modules/data_connection/document_transformers/text_splitters/recursive_text_splitter) and create vector representations of these chunks using [`HuggingFaceEmbeddings`](https://www.google.com/search?q=langchain+hugging+face+embeddings&sca_esv=572890011&ei=ARUoZaH4LuumptQP48ah2Ac&oq=langchian+hugg&gs_lp=Egxnd3Mtd2l6LXNlcnAiDmxhbmdjaGlhbiBodWdnKgIIADIHEAAYgAQYCjIHEAAYgAQYCjIHEAAYgAQYCjIHEAAYgAQYCjIHEAAYgAQYCjIHEAAYgAQYCjIHEAAYgAQYCjIHEAAYgAQYCjIHEAAYgAQYCjIHEAAYgAQYCkjeHlC5Cli5D3ABeAGQAQCYAV6gAb4CqgEBNLgBAcgBAPgBAcICChAAGEcY1gQYsAPiAwQYACBBiAYBkAYI&sclient=gws-wiz-serp) on them before storing them into our vector database. \n",
    "\n",
    "In general, you should use larger chuck sizes for highly structured text such as code and smaller size for less structured text. You may need to experiment with different chunk sizes and overlap values to find out the best numbers."
   ]
  },
  {
   "cell_type": "code",
   "execution_count": 3,
   "id": "388de72c-a18a-4f60-b380-870768c83a99",
   "metadata": {},
   "outputs": [
    {
     "ename": "NameError",
     "evalue": "name 'RecursiveCharacterTextSplitter' is not defined",
     "output_type": "error",
     "traceback": [
      "\u001b[0;31m---------------------------------------------------------------------------\u001b[0m",
      "\u001b[0;31mNameError\u001b[0m                                 Traceback (most recent call last)",
      "Cell \u001b[0;32mIn[3], line 1\u001b[0m\n\u001b[0;32m----> 1\u001b[0m text_splitter \u001b[38;5;241m=\u001b[39m \u001b[43mRecursiveCharacterTextSplitter\u001b[49m(chunk_size\u001b[38;5;241m=\u001b[39m\u001b[38;5;241m1000\u001b[39m, chunk_overlap\u001b[38;5;241m=\u001b[39m\u001b[38;5;241m20\u001b[39m)\n\u001b[1;32m      2\u001b[0m all_splits \u001b[38;5;241m=\u001b[39m text_splitter\u001b[38;5;241m.\u001b[39msplit_documents(docs)\n\u001b[1;32m      4\u001b[0m \u001b[38;5;66;03m# create the vector db to store all the split chunks as embeddings\u001b[39;00m\n",
      "\u001b[0;31mNameError\u001b[0m: name 'RecursiveCharacterTextSplitter' is not defined"
     ]
    }
   ],
   "source": [
    "text_splitter = RecursiveCharacterTextSplitter(chunk_size=1000, chunk_overlap=20)\n",
    "all_splits = text_splitter.split_documents(docs)\n",
    "\n",
    "# create the vector db to store all the split chunks as embeddings\n",
    "embeddings = HuggingFaceEmbeddings()\n",
    "vectordb = Chroma.from_documents(\n",
    "    documents=all_splits,\n",
    "    embedding=embeddings,\n",
    ") \n",
    "# slow \n",
    "# about 30 mins"
   ]
  },
  {
   "cell_type": "markdown",
   "id": "0a063461-88da-4d00-9a72-6acec193ef06",
   "metadata": {},
   "source": [
    "We then use ` RetrievalQA` to retrieve the documents from the vector database and give the model more context on Llama 2, thereby increasing its knowledge.\n",
    "\n",
    "For each question, LangChain performs a semantic similarity search of it in the vector db, then passes the search results as the context to Llama to answer the question."
   ]
  }
 ],
 "metadata": {
  "kernelspec": {
   "display_name": "Python 3 (ipykernel)",
   "language": "python",
   "name": "python3"
  },
  "language_info": {
   "codemirror_mode": {
    "name": "ipython",
    "version": 3
   },
   "file_extension": ".py",
   "mimetype": "text/x-python",
   "name": "python",
   "nbconvert_exporter": "python",
   "pygments_lexer": "ipython3",
   "version": "3.8.18"
  }
 },
 "nbformat": 4,
 "nbformat_minor": 5
}
