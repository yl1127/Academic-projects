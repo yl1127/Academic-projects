{
  "cells": [
    {
      "cell_type": "markdown",
      "metadata": {
        "id": "5Yr_qsY-IVDh"
      },
      "source": [
        "# DSP experiments\n",
        "\n",
        "This notebook contains DSP experiments to assess the accuracy of confidence level classification of climate statements by various LLMs."
      ]
    },
    {
      "cell_type": "code",
      "execution_count": 1,
      "metadata": {
        "colab": {
          "base_uri": "https://localhost:8080/"
        },
        "id": "McPATs55HhCb",
        "outputId": "0198de6e-0767-44ed-812b-f22d38d3f3ec"
      },
      "outputs": [],
      "source": [
        "# try: \n",
        "#     # This library is our indicator that the required installs\n",
        "#     # need to be done.\n",
        "#     import datasets\n",
        "#     root_path = '.'\n",
        "# except ModuleNotFoundError:\n",
        "#     !git clone https://github.com/cgpotts/cs224u/\n",
        "#     !pip install -r cs224u/requirements.txt\n",
        "#     root_path = 'dsp'"
      ]
    },
    {
      "cell_type": "markdown",
      "metadata": {
        "id": "mOyqFOZQJ3X1"
      },
      "source": [
        "Now we import modules to work with DSP, OpenAI, HuggingFace, and Cohere models"
      ]
    },
    {
      "cell_type": "code",
      "execution_count": 2,
      "metadata": {
        "id": "cOdafIXAJBbA"
      },
      "outputs": [
        {
          "name": "stderr",
          "output_type": "stream",
          "text": [
            "c:\\Users\\yunlo\\anaconda3\\envs\\ChatIAMs0528-2\\Lib\\site-packages\\tqdm\\auto.py:21: TqdmWarning: IProgress not found. Please update jupyter and ipywidgets. See https://ipywidgets.readthedocs.io/en/stable/user_install.html\n",
            "  from .autonotebook import tqdm as notebook_tqdm\n"
          ]
        }
      ],
      "source": [
        "import pandas as pd \n",
        "# import cohere\n",
        "from datasets import load_dataset\n",
        "import openai\n",
        "import re\n",
        "import os\n",
        "import dsp\n",
        "import transformers"
      ]
    },
    {
      "cell_type": "markdown",
      "metadata": {
        "id": "i4FR-mNlJ9rw"
      },
      "source": [
        "Now we import key variables such as API keys. Steps:\n",
        "\n",
        "1) Create a keys.txt file in the root of your /content/ folder in the Colab instance\n",
        "\n",
        "2) Define the API keys you will use \n",
        "\n",
        "3) Run the cell below to import the file"
      ]
    },
    {
      "cell_type": "code",
      "execution_count": 3,
      "metadata": {
        "id": "92qnhnLnJGmj"
      },
      "outputs": [],
      "source": [
        "# Read the contents of the file\n",
        "# with open('/content/keys.txt', 'r') as file:\n",
        "#     file_contents = file.read()\n",
        "\n",
        "# # Assign the variables\n",
        "# exec(file_contents)\n",
        "\n",
        "# os.environ[\"DSP_NOTEBOOK_CACHEDIR\"] = os.path.join(root_path, 'cache')\n",
        "# openai_key = OPENAI_API_KEY  \n",
        "# cohere_key = COHERE_API_KEY  \n",
        "\n",
        "# OpenAI API\n",
        "from getpass import getpass\n",
        "import os\n",
        "import openai\n",
        "from openai import OpenAI\n",
        "\n",
        "# from dotenv import load_dotenv, find_dotenv\n",
        "# _ = load_dotenv(find_dotenv()) # read local .env file\n",
        "new_api_key = getpass()\n",
        "\n",
        "os.environ[\"OPENAI_API_KEY\"] = new_api_key\n",
        "openai.api_key = os.environ['OPENAI_API_KEY']\n",
        "openai_key = openai.api_key\n",
        "openai_client = OpenAI()"
      ]
    },
    {
      "cell_type": "markdown",
      "metadata": {
        "id": "r4BukR4-LE_h"
      },
      "source": [
        "## Model setting\n",
        "\n",
        "Now we define a choice of LM and setup the DSP environment."
      ]
    },
    {
      "cell_type": "code",
      "execution_count": 4,
      "metadata": {
        "colab": {
          "base_uri": "https://localhost:8080/"
        },
        "id": "q11lHHwd5217",
        "outputId": "7276ba5e-a03b-42b6-b7ed-0662d2ff8d79"
      },
      "outputs": [],
      "source": [
        "# [d[\"root\"] for d in openai.Model.list(api_key=openai_key)[\"data\"]]"
      ]
    },
    {
      "cell_type": "code",
      "execution_count": 5,
      "metadata": {
        "id": "R-qXw7kxLPYp"
      },
      "outputs": [],
      "source": [
        "## Define the mode (uncomment appropriate line)\n",
        "\n",
        "lm = dsp.GPT3(model = \"gpt-3.5-turbo\", api_key=openai_key, model_type=\"chat\")\n",
        "#lm = dsp.GPT3(model = \"gpt-4\", api_key=openai_key, model_type=\"chat\")\n",
        "#lm = dsp.Cohere(model = \"command-xlarge-nightly\", api_key=cohere_key)\n",
        "\n",
        "dsp.settings.configure(lm=lm)\n",
        "dsp.settings.show_guidelines = True"
      ]
    },
    {
      "cell_type": "markdown",
      "metadata": {
        "id": "4viPCioLLwRf"
      },
      "source": [
        "### Loading the dataset\n",
        "Upload a tab separated version of the dataset to /content/."
      ]
    },
    {
      "cell_type": "code",
      "execution_count": 6,
      "metadata": {
        "colab": {
          "base_uri": "https://localhost:8080/"
        },
        "id": "OssAa2klLvzW",
        "outputId": "024110b2-5094-42c2-e819-d94c5e9baeb3"
      },
      "outputs": [
        {
          "data": {
            "text/plain": [
              "<bound method NDFrame.tail of       statement_idx     report  page_num  sent_num  \\\n",
              "3                 3    AR6_WGI        24         2   \n",
              "42               42    AR6_WGI        37        16   \n",
              "77               77    AR6_WGI        47         7   \n",
              "81               81    AR6_WGI        62         2   \n",
              "86               86    AR6_WGI        63         8   \n",
              "...             ...        ...       ...       ...   \n",
              "8024           8024  AR6_WGIII      1827        13   \n",
              "8056           8056  AR6_WGIII      2011         5   \n",
              "8067           8067  AR6_WGIII      2012         8   \n",
              "8086           8086  AR6_WGIII      2016         8   \n",
              "8093           8093  AR6_WGIII      2058        21   \n",
              "\n",
              "                                              statement confidence  score  \\\n",
              "3     Since 1750, increases in CO2 (47%) and CH4 (15...  very high      3   \n",
              "42    Over the next 2000 years, global mean sea leve...        low      0   \n",
              "77    By the end of the century, scenarios with very...       high      2   \n",
              "81    Over the past millennium, and especially since...     medium      1   \n",
              "86    The paleo context supports the assessment that...       high      2   \n",
              "...                                                 ...        ...    ...   \n",
              "8024  REDD+ can significantly contribute to climate ...       high      2   \n",
              "8056  Large-scale bioenergy projects with CCS may be...     medium      1   \n",
              "8067  Reforestation and forest restoration can have ...     medium      1   \n",
              "8086  BEVs could create jobs associated with the EV ...        low      0   \n",
              "8093  For pathways that limit warming to 2°C (>67%) ...       high      2   \n",
              "\n",
              "     split  \n",
              "3     test  \n",
              "42    test  \n",
              "77    test  \n",
              "81    test  \n",
              "86    test  \n",
              "...    ...  \n",
              "8024  test  \n",
              "8056  test  \n",
              "8067  test  \n",
              "8086  test  \n",
              "8093  test  \n",
              "\n",
              "[300 rows x 8 columns]>"
            ]
          },
          "execution_count": 6,
          "metadata": {},
          "output_type": "execute_result"
        }
      ],
      "source": [
        "df = pd.read_csv('ipcc_statements_dataset.tsv', sep='\\t', skiprows=0)\n",
        "\n",
        "train_set = df.loc[df['split'] == 'train']\n",
        "test_set = df.loc[df['split'] == 'test']\n",
        "\n",
        "test_set.tail"
      ]
    },
    {
      "cell_type": "code",
      "execution_count": 7,
      "metadata": {
        "id": "-21GN7mGX17J"
      },
      "outputs": [],
      "source": [
        "ipcc_train = [dsp.Example(input=row['statement'], label=row['confidence'], score=row['score'], report=row['report'])\n",
        "                    for _, row in train_set.iterrows()]"
      ]
    },
    {
      "cell_type": "code",
      "execution_count": 8,
      "metadata": {
        "colab": {
          "base_uri": "https://localhost:8080/"
        },
        "id": "bMrlFsaPOJU-",
        "outputId": "0f40ccd1-7202-4283-b988-74631b4d9ed1"
      },
      "outputs": [
        {
          "data": {
            "text/plain": [
              "[{'input': 'Since 2011 (measurements reported in AR5), concentrations have continued to increase in the atmosphere, reaching annual averages of 410 parts per million (ppm) for carbon dioxide (CO 2), 1866 parts per billion (ppb) for methane (CH 4), and 332 ppb for nitrous oxide (N 2O) in 2019.6 Land and ocean have taken up a near-constant proportion (globally about 56% per year) of CO 2 emissions from human activities over the past six decades, with regional differences',\n",
              "  'label': 'high',\n",
              "  'score': 2,\n",
              "  'report': 'AR6_WGI'},\n",
              " {'input': 'Mid-latitude storm tracks have likely shifted poleward in both hemispheres since the 1980s, with marked seasonality in trends',\n",
              "  'label': 'medium',\n",
              "  'score': 1,\n",
              "  'report': 'AR6_WGI'},\n",
              " {'input': 'The average rate of sea level rise was 1.3 [0.6 to 2.1] mm yr–1 between 1901 and 1971, increasing to 1.9 [0.8 to 2.9] mm yr–1 between 1971 and 2006, and further increasing to 3.7 [3.2 to 4.2] mm yr–1 between 2006 and 2018',\n",
              "  'label': 'high',\n",
              "  'score': 2,\n",
              "  'report': 'AR6_WGI'},\n",
              " {'input': 'Temperatures during the most recent decade (2011–2020) exceed those of the most recent multi-century warm period, around 6500 years ago13 [0.2°C to 1°C relative to 1850–1900]',\n",
              "  'label': 'medium',\n",
              "  'score': 1,\n",
              "  'report': 'AR6_WGI'},\n",
              " {'input': 'Prior to that, the next most recent warm period was about 125,000 years ago, when the multi-century temperature [0.5°C to 1.5°C relative to 1850–1900] overlaps the observations of the most recent decade',\n",
              "  'label': 'medium',\n",
              "  'score': 1,\n",
              "  'report': 'AR6_WGI'}]"
            ]
          },
          "execution_count": 8,
          "metadata": {},
          "output_type": "execute_result"
        }
      ],
      "source": [
        "ipcc_train[:5]"
      ]
    },
    {
      "cell_type": "markdown",
      "metadata": {
        "id": "bRFu3D9zmNck"
      },
      "source": [
        "### Perform checks on dataset\n"
      ]
    },
    {
      "cell_type": "code",
      "execution_count": 9,
      "metadata": {
        "colab": {
          "base_uri": "https://localhost:8080/"
        },
        "id": "s3tmicIyUUIj",
        "outputId": "3053035c-d7e8-45a3-d292-30ebbbca6c2b"
      },
      "outputs": [
        {
          "name": "stdout",
          "output_type": "stream",
          "text": [
            "7794\n",
            "241\n",
            "826\n",
            "4611\n"
          ]
        }
      ],
      "source": [
        "print(len(ipcc_train))\n",
        "print(len([ex for ex in ipcc_train if ex.label=='low']))\n",
        "print(len([ex for ex in ipcc_train if ex.report=='AR6_WGIII']))\n",
        "print(len([ex for ex in ipcc_train if ex.score==2]))"
      ]
    },
    {
      "cell_type": "markdown",
      "metadata": {
        "id": "gRHwZiZ-FuD8"
      },
      "source": [
        "## Split train set by confidence level"
      ]
    },
    {
      "cell_type": "code",
      "execution_count": 10,
      "metadata": {
        "colab": {
          "base_uri": "https://localhost:8080/"
        },
        "id": "ZwMRI_d-FwYt",
        "outputId": "c42190f9-0338-40f5-9312-0e5d1b8ab668"
      },
      "outputs": [
        {
          "name": "stdout",
          "output_type": "stream",
          "text": [
            "low: 241\n",
            "medium: 2415\n",
            "high: 4611\n",
            "very high: 527\n"
          ]
        }
      ],
      "source": [
        "train_ex = {}\n",
        "for confidence in ['low', 'medium', 'high', 'very high']: \n",
        "  train_ex[confidence] = [ex for ex in ipcc_train if ex.label==confidence]\n",
        "  print(f\"{confidence}: {len(train_ex[confidence])}\")"
      ]
    },
    {
      "cell_type": "markdown",
      "metadata": {
        "id": "JcN630LpOWaI"
      },
      "source": [
        "## Defining templates\n",
        "\n",
        "### Few-shot learning\n",
        "Testing how models do on the task with demonstrations."
      ]
    },
    {
      "cell_type": "code",
      "execution_count": 11,
      "metadata": {
        "id": "8oiVbQ94OYYd"
      },
      "outputs": [],
      "source": [
        "Input = dsp.Type(\n",
        "    prefix=\"Statement:\", \n",
        "    desc=\"${a short statement about climate.}\")\n",
        "\n",
        "Label = dsp.Type(\n",
        "    prefix=\"Confidence: \", \n",
        "    desc=\"${must be *only*: 'low', 'medium', 'high', 'very high'}\")\n",
        "\n",
        "few_shot_template = dsp.Template(\n",
        "    instructions=\"You are a knowledgeable climate science assistant trained to assess the confidence level associated with various statements about climate change. \\\n",
        "      \\n\\nYou will be presented with a statement about climate science, climate impacts or climate change mitigation which is retrieved or paraphrased from the IPCC AR6 WGI, WGII or WGIII assessment reports. Climate scientists have evaluated that statement as low confidence, medium confidence, high confidence, or very high confidence, based on evidence (type, amount, quantity, consistency) and agreement among their peers. What is their confidence level?  \\\n",
        "      \\n\\nRespond *only* with one of the following words: 'low', 'medium', 'high', 'very high'. If you don't know, you can respond 'I don't know'.\",\n",
        "    input=Input(),\n",
        "    label=Label())"
      ]
    },
    {
      "cell_type": "markdown",
      "metadata": {
        "id": "wORGK6fTZsjC"
      },
      "source": [
        "Example:"
      ]
    },
    {
      "cell_type": "code",
      "execution_count": 12,
      "metadata": {
        "colab": {
          "base_uri": "https://localhost:8080/"
        },
        "id": "WqQ75vTGZt03",
        "outputId": "8c028ceb-de1b-4418-baca-5a6e19b49eae"
      },
      "outputs": [
        {
          "name": "stdout",
          "output_type": "stream",
          "text": [
            "You are a knowledgeable climate science assistant trained to assess the confidence level associated with various statements about climate change.       \n",
            "\n",
            "You will be presented with a statement about climate science, climate impacts or climate change mitigation which is retrieved or paraphrased from the IPCC AR6 WGI, WGII or WGIII assessment reports. Climate scientists have evaluated that statement as low confidence, medium confidence, high confidence, or very high confidence, based on evidence (type, amount, quantity, consistency) and agreement among their peers. What is their confidence level?        \n",
            "\n",
            "Respond *only* with one of the following words: 'low', 'medium', 'high', 'very high'. If you don't know, you can respond 'I don't know'.\n",
            "\n",
            "---\n",
            "\n",
            "Follow the following format.\n",
            "\n",
            "Statement: ${a short statement about climate.}\n",
            "Confidence: ${must be *only*: 'low', 'medium', 'high', 'very high'}\n",
            "\n",
            "---\n",
            "\n",
            "Statement: Experiments indicate that warming reduces calcification by coralline algae\n",
            "Confidence: high\n",
            "\n",
            "---\n",
            "\n",
            "Statement: For 2150, sea level is likely to reach 0.52 m [0.32–0.81] for SSP1- 1.9, to 1.22 [0.91–1.78] for SSP5-8.5 relative to 1996–2014\n",
            "Confidence: medium\n",
            "\n",
            "---\n",
            "\n",
            "Statement: The limited gains from AFOLU to date appear largely to result from lack of investment and other institutional and social barriers, rather than methodological concerns\n",
            "Confidence: high\n",
            "\n",
            "---\n",
            "\n",
            "Statement: Since 2011 (measurements reported in AR5), concentrations have continued to increase in the atmosphere, reaching annual averages of 410 parts per million (ppm) for carbon dioxide (CO 2), 1866 parts per billion (ppb) for methane (CH 4), and 332 ppb for nitrous oxide (N 2O) in 2019.6 Land and ocean have taken up a near-constant proportion (globally about 56% per year) of CO 2 emissions from human activities over the past six decades, with regional differences\n",
            "Confidence:\n"
          ]
        }
      ],
      "source": [
        "ex = dsp.Example(\n",
        "    input=ipcc_train[0]['input'], label=ipcc_train[0]['label'])\n",
        "\n",
        "ex.demos=dsp.sample(ipcc_train, 3)\n",
        "\n",
        "print(few_shot_template(ex))"
      ]
    },
    {
      "cell_type": "markdown",
      "metadata": {
        "id": "ONZfaTzxZja0"
      },
      "source": [
        "## Defining the task\n",
        "\n",
        "With zero shot we simply provide instructions and provide a format template, with no training demonstrations."
      ]
    },
    {
      "cell_type": "code",
      "execution_count": 13,
      "metadata": {
        "id": "I7VWLcOdPmXK"
      },
      "outputs": [],
      "source": [
        "import random\n",
        "\n",
        "@dsp.transformation\n",
        "def assess_certainty_with_demonstrations(example, temperature=0): \n",
        "    \n",
        "    # Sample demonstrations in train set for each confidence level\n",
        "    example.demos = []\n",
        "    for confidence in ['low', 'medium', 'high', 'very high']:\n",
        "        demo = random.choice(train_ex[confidence])\n",
        "        example.demos.append(demo)\n",
        "\n",
        "    # Call LLM\n",
        "    example, completion = dsp.generate(few_shot_template,  temperature=temperature)(example, stage='few-shot')\n",
        "\n",
        "    return completion\n",
        "\n",
        "def extract_confidence(text):\n",
        "    if re.search(r\"low\", text, re.IGNORECASE):\n",
        "        return \"low\"\n",
        "    elif re.search(r\"medium\", text, re.IGNORECASE):\n",
        "        return \"medium\"\n",
        "    elif re.search(r\"very high\", text, re.IGNORECASE):\n",
        "        return \"very high\"\n",
        "    elif re.search(r\"high\", text, re.IGNORECASE):\n",
        "        return \"high\"\n",
        "    elif re.search(r\"i don't know\", text, re.IGNORECASE):\n",
        "        return \"idk\"\n",
        "    else:\n",
        "        return \"N/A\""
      ]
    },
    {
      "cell_type": "markdown",
      "metadata": {
        "id": "VW71OwRIeqgT"
      },
      "source": [
        "Testing our task on the first sentence of the dataset: gpt3.5-turbo gets this first task right!"
      ]
    },
    {
      "cell_type": "code",
      "execution_count": 14,
      "metadata": {
        "colab": {
          "base_uri": "https://localhost:8080/",
          "height": 73
        },
        "id": "uM3jPoEEeX9_",
        "outputId": "77017753-0336-4f1f-8055-53d7491bb281"
      },
      "outputs": [
        {
          "name": "stdout",
          "output_type": "stream",
          "text": [
            "{'input': 'Since 2011 (measurements reported in AR5), concentrations have continued to increase in the atmosphere, reaching annual averages of 410 parts per million (ppm) for carbon dioxide (CO 2), 1866 parts per billion (ppb) for methane (CH 4), and 332 ppb for nitrous oxide (N 2O) in 2019.6 Land and ocean have taken up a near-constant proportion (globally about 56% per year) of CO 2 emissions from human activities over the past six decades, with regional differences', 'label': 'high', 'demos': [{'input': 'Experiments indicate that warming reduces calcification by coralline algae', 'label': 'high', 'score': 2, 'report': 'AR6_WGII'}, {'input': 'For 2150, sea level is likely to reach 0.52 m [0.32–0.81] for SSP1- 1.9, to 1.22 [0.91–1.78] for SSP5-8.5 relative to 1996–2014', 'label': 'medium', 'score': 1, 'report': 'AR6_WGII'}, {'input': 'The limited gains from AFOLU to date appear largely to result from lack of investment and other institutional and social barriers, rather than methodological concerns', 'label': 'high', 'score': 2, 'report': 'AR6_WGIII'}]}\n"
          ]
        },
        {
          "data": {
            "text/plain": [
              "'high'"
            ]
          },
          "execution_count": 14,
          "metadata": {},
          "output_type": "execute_result"
        }
      ],
      "source": [
        "print(ex)\n",
        "assess_certainty_with_demonstrations(ex).label"
      ]
    },
    {
      "cell_type": "code",
      "execution_count": 15,
      "metadata": {
        "colab": {
          "base_uri": "https://localhost:8080/"
        },
        "id": "LK25jd_jtNQl",
        "outputId": "d998fa71-cdab-41ac-85d2-8c48050e86b4"
      },
      "outputs": [
        {
          "name": "stdout",
          "output_type": "stream",
          "text": [
            "\n",
            "\n",
            "\n",
            "You are a knowledgeable climate science assistant trained to assess the confidence level associated with various statements about climate change.       \n",
            "\n",
            "You will be presented with a statement about climate science, climate impacts or climate change mitigation which is retrieved or paraphrased from the IPCC AR6 WGI, WGII or WGIII assessment reports. Climate scientists have evaluated that statement as low confidence, medium confidence, high confidence, or very high confidence, based on evidence (type, amount, quantity, consistency) and agreement among their peers. What is their confidence level?        \n",
            "\n",
            "Respond *only* with one of the following words: 'low', 'medium', 'high', 'very high'. If you don't know, you can respond 'I don't know'.\n",
            "\n",
            "---\n",
            "\n",
            "Follow the following format.\n",
            "\n",
            "Statement: ${a short statement about climate.}\n",
            "Confidence: ${must be *only*: 'low', 'medium', 'high', 'very high'}\n",
            "\n",
            "---\n",
            "\n",
            "Statement: Indigenous Peoples have the highest levels of vulnerability in Chile in terms of income, basic needs and access to services to climate change\n",
            "Confidence: low\n",
            "\n",
            "---\n",
            "\n",
            "Statement: Risks of urban water scarcity and security are compounded by vulnerabilities such as service availability and quality of infrastructure to supply water for increased urban demand from in-migration to cities\n",
            "Confidence: medium\n",
            "\n",
            "---\n",
            "\n",
            "Statement: The development of adaptation strategies for seafood production since the Paris Agreement is insufficient in Europe\n",
            "Confidence: high\n",
            "\n",
            "---\n",
            "\n",
            "Statement: This development includes greenhouse gas (GHG) emission reductions through clean energy and transport; climate-resilient urban planning; sustainable food systems that lead to healthier diets; universal access to healthcare and social protection systems; wide-scale, proactive adaptive capacity building for climate change; and achievement of the SDGs\n",
            "Confidence: very high\n",
            "\n",
            "---\n",
            "\n",
            "Statement: Since 2011 (measurements reported in AR5), concentrations have continued to increase in the atmosphere, reaching annual averages of 410 parts per million (ppm) for carbon dioxide (CO 2), 1866 parts per billion (ppb) for methane (CH 4), and 332 ppb for nitrous oxide (N 2O) in 2019.6 Land and ocean have taken up a near-constant proportion (globally about 56% per year) of CO 2 emissions from human activities over the past six decades, with regional differences\n",
            "Confidence: high\n",
            "\n",
            "\n",
            "\n"
          ]
        },
        {
          "data": {
            "text/plain": [
              "\"\\n\\n\\nYou are a knowledgeable climate science assistant trained to assess the confidence level associated with various statements about climate change.       \\n\\nYou will be presented with a statement about climate science, climate impacts or climate change mitigation which is retrieved or paraphrased from the IPCC AR6 WGI, WGII or WGIII assessment reports. Climate scientists have evaluated that statement as low confidence, medium confidence, high confidence, or very high confidence, based on evidence (type, amount, quantity, consistency) and agreement among their peers. What is their confidence level?        \\n\\nRespond *only* with one of the following words: 'low', 'medium', 'high', 'very high'. If you don't know, you can respond 'I don't know'.\\n\\n---\\n\\nFollow the following format.\\n\\nStatement: ${a short statement about climate.}\\nConfidence: ${must be *only*: 'low', 'medium', 'high', 'very high'}\\n\\n---\\n\\nStatement: Indigenous Peoples have the highest levels of vulnerability in Chile in terms of income, basic needs and access to services to climate change\\nConfidence: low\\n\\n---\\n\\nStatement: Risks of urban water scarcity and security are compounded by vulnerabilities such as service availability and quality of infrastructure to supply water for increased urban demand from in-migration to cities\\nConfidence: medium\\n\\n---\\n\\nStatement: The development of adaptation strategies for seafood production since the Paris Agreement is insufficient in Europe\\nConfidence: high\\n\\n---\\n\\nStatement: This development includes greenhouse gas (GHG) emission reductions through clean energy and transport; climate-resilient urban planning; sustainable food systems that lead to healthier diets; universal access to healthcare and social protection systems; wide-scale, proactive adaptive capacity building for climate change; and achievement of the SDGs\\nConfidence: very high\\n\\n---\\n\\nStatement: Since 2011 (measurements reported in AR5), concentrations have continued to increase in the atmosphere, reaching annual averages of 410 parts per million (ppm) for carbon dioxide (CO 2), 1866 parts per billion (ppb) for methane (CH 4), and 332 ppb for nitrous oxide (N 2O) in 2019.6 Land and ocean have taken up a near-constant proportion (globally about 56% per year) of CO 2 emissions from human activities over the past six decades, with regional differences\\nConfidence:\\x1b[32m high\\x1b[0m\\n\\n\\n\""
            ]
          },
          "execution_count": 15,
          "metadata": {},
          "output_type": "execute_result"
        }
      ],
      "source": [
        "lm.inspect_history(n=1)"
      ]
    },
    {
      "cell_type": "markdown",
      "metadata": {
        "id": "JPfSCzP2fAkL"
      },
      "source": [
        "# First experiment\n",
        "\n",
        "We assess the certainty level of the LM on the dataset, filter the output for extra \"confidence\" etc., then compare with ground truth."
      ]
    },
    {
      "cell_type": "code",
      "execution_count": 16,
      "metadata": {
        "colab": {
          "base_uri": "https://localhost:8080/"
        },
        "id": "rB8fieaReqPg",
        "outputId": "b778ffea-aa12-4e84-9c46-19078a00bfd0"
      },
      "outputs": [
        {
          "data": {
            "text/plain": [
              "<bound method NDFrame.head of       statement_idx     report  page_num  sent_num  \\\n",
              "3                 3    AR6_WGI        24         2   \n",
              "42               42    AR6_WGI        37        16   \n",
              "77               77    AR6_WGI        47         7   \n",
              "81               81    AR6_WGI        62         2   \n",
              "86               86    AR6_WGI        63         8   \n",
              "...             ...        ...       ...       ...   \n",
              "8024           8024  AR6_WGIII      1827        13   \n",
              "8056           8056  AR6_WGIII      2011         5   \n",
              "8067           8067  AR6_WGIII      2012         8   \n",
              "8086           8086  AR6_WGIII      2016         8   \n",
              "8093           8093  AR6_WGIII      2058        21   \n",
              "\n",
              "                                              statement confidence  score  \\\n",
              "3     Since 1750, increases in CO2 (47%) and CH4 (15...  very high      3   \n",
              "42    Over the next 2000 years, global mean sea leve...        low      0   \n",
              "77    By the end of the century, scenarios with very...       high      2   \n",
              "81    Over the past millennium, and especially since...     medium      1   \n",
              "86    The paleo context supports the assessment that...       high      2   \n",
              "...                                                 ...        ...    ...   \n",
              "8024  REDD+ can significantly contribute to climate ...       high      2   \n",
              "8056  Large-scale bioenergy projects with CCS may be...     medium      1   \n",
              "8067  Reforestation and forest restoration can have ...     medium      1   \n",
              "8086  BEVs could create jobs associated with the EV ...        low      0   \n",
              "8093  For pathways that limit warming to 2°C (>67%) ...       high      2   \n",
              "\n",
              "     split  \n",
              "3     test  \n",
              "42    test  \n",
              "77    test  \n",
              "81    test  \n",
              "86    test  \n",
              "...    ...  \n",
              "8024  test  \n",
              "8056  test  \n",
              "8067  test  \n",
              "8086  test  \n",
              "8093  test  \n",
              "\n",
              "[300 rows x 8 columns]>"
            ]
          },
          "execution_count": 16,
          "metadata": {},
          "output_type": "execute_result"
        }
      ],
      "source": [
        "samples = test_set.copy()  # Dev: train_set.sample(n=100, random_state=12).copy() | Experiment: test_set.copy()\n",
        "\n",
        "samples.head"
      ]
    },
    {
      "cell_type": "code",
      "execution_count": 17,
      "metadata": {
        "colab": {
          "base_uri": "https://localhost:8080/"
        },
        "id": "OD0cALUafsUo",
        "outputId": "a112fd32-e72d-4334-c3a1-a58106999699"
      },
      "outputs": [],
      "source": [
        "samples['prediction'] = samples.statement.apply(\n",
        "    lambda x: extract_confidence(assess_certainty_with_demonstrations(dsp.Example(input=x, demos=dsp.sample(ipcc_train, 0)), temperature=0).label.lower()))"
      ]
    },
    {
      "cell_type": "code",
      "execution_count": 18,
      "metadata": {
        "colab": {
          "base_uri": "https://localhost:8080/"
        },
        "id": "DBrd-4WAtCWQ",
        "outputId": "74aa185f-c68d-4941-d2c2-741d115cf245"
      },
      "outputs": [
        {
          "name": "stdout",
          "output_type": "stream",
          "text": [
            "\n",
            "\n",
            "\n",
            "You are a knowledgeable climate science assistant trained to assess the confidence level associated with various statements about climate change.       \n",
            "\n",
            "You will be presented with a statement about climate science, climate impacts or climate change mitigation which is retrieved or paraphrased from the IPCC AR6 WGI, WGII or WGIII assessment reports. Climate scientists have evaluated that statement as low confidence, medium confidence, high confidence, or very high confidence, based on evidence (type, amount, quantity, consistency) and agreement among their peers. What is their confidence level?        \n",
            "\n",
            "Respond *only* with one of the following words: 'low', 'medium', 'high', 'very high'. If you don't know, you can respond 'I don't know'.\n",
            "\n",
            "---\n",
            "\n",
            "Follow the following format.\n",
            "\n",
            "Statement: ${a short statement about climate.}\n",
            "Confidence: ${must be *only*: 'low', 'medium', 'high', 'very high'}\n",
            "\n",
            "---\n",
            "\n",
            "Statement: Nevertheless, the most- advanced available models, which incorporate multiple coastal processes, including SLR, project that without anthropogenic barriers to erosion, 13.6–15.2% and 35.7–49.5% of the world’s beaches likely risk undergoing at least 100 m of shoreline retreat (relative to 2010) by 2050 and 2100, respectively\n",
            "Confidence: low\n",
            "\n",
            "---\n",
            "\n",
            "Statement: There is growing evidence that year-to-year and day-to-day temperature variability decreases in winter over northern mid- to high-latitudes (Fischer et al., 2011; De Vries et al., 2012; Screen, 2014; Schneider et al., 2015; Holmes et al., 2016; Borodina et al., 2017; Tamarin-Brodsky et al., 2020) which implies that the lowest temperatures rise more than the respective climatological mean temperatures\n",
            "Confidence: medium\n",
            "\n",
            "---\n",
            "\n",
            "Statement: Increased technology innovation, stakeholder integration and transparent governance structures and procedures at local to global scales are key to successful bioeconomy deployment maximising benefits and managing trade-offs\n",
            "Confidence: high\n",
            "\n",
            "---\n",
            "\n",
            "Statement: Also biodiversity and water-dependent activities where seasonality and rainfall patterns are changing and where other non-climatic sources of change, such as land use, affect the capacity of ecosystems to provide hydrological services\n",
            "Confidence: very high\n",
            "\n",
            "---\n",
            "\n",
            "Statement: For pathways that limit warming to 2°C (>67%) or lower, using GWP100 to inform cost-effective abatement choices between gases would achieve these long-term temperature goals at close to least global cost within a few percent\n",
            "Confidence: medium\n",
            "\n",
            "\n",
            "\n"
          ]
        },
        {
          "data": {
            "text/plain": [
              "\"\\n\\n\\nYou are a knowledgeable climate science assistant trained to assess the confidence level associated with various statements about climate change.       \\n\\nYou will be presented with a statement about climate science, climate impacts or climate change mitigation which is retrieved or paraphrased from the IPCC AR6 WGI, WGII or WGIII assessment reports. Climate scientists have evaluated that statement as low confidence, medium confidence, high confidence, or very high confidence, based on evidence (type, amount, quantity, consistency) and agreement among their peers. What is their confidence level?        \\n\\nRespond *only* with one of the following words: 'low', 'medium', 'high', 'very high'. If you don't know, you can respond 'I don't know'.\\n\\n---\\n\\nFollow the following format.\\n\\nStatement: ${a short statement about climate.}\\nConfidence: ${must be *only*: 'low', 'medium', 'high', 'very high'}\\n\\n---\\n\\nStatement: Nevertheless, the most- advanced available models, which incorporate multiple coastal processes, including SLR, project that without anthropogenic barriers to erosion, 13.6–15.2% and 35.7–49.5% of the world’s beaches likely risk undergoing at least 100 m of shoreline retreat (relative to 2010) by 2050 and 2100, respectively\\nConfidence: low\\n\\n---\\n\\nStatement: There is growing evidence that year-to-year and day-to-day temperature variability decreases in winter over northern mid- to high-latitudes (Fischer et al., 2011; De Vries et al., 2012; Screen, 2014; Schneider et al., 2015; Holmes et al., 2016; Borodina et al., 2017; Tamarin-Brodsky et al., 2020) which implies that the lowest temperatures rise more than the respective climatological mean temperatures\\nConfidence: medium\\n\\n---\\n\\nStatement: Increased technology innovation, stakeholder integration and transparent governance structures and procedures at local to global scales are key to successful bioeconomy deployment maximising benefits and managing trade-offs\\nConfidence: high\\n\\n---\\n\\nStatement: Also biodiversity and water-dependent activities where seasonality and rainfall patterns are changing and where other non-climatic sources of change, such as land use, affect the capacity of ecosystems to provide hydrological services\\nConfidence: very high\\n\\n---\\n\\nStatement: For pathways that limit warming to 2°C (>67%) or lower, using GWP100 to inform cost-effective abatement choices between gases would achieve these long-term temperature goals at close to least global cost within a few percent\\nConfidence:\\x1b[32m medium\\x1b[0m\\n\\n\\n\""
            ]
          },
          "execution_count": 18,
          "metadata": {},
          "output_type": "execute_result"
        }
      ],
      "source": [
        "lm.inspect_history(n=1)"
      ]
    },
    {
      "cell_type": "code",
      "execution_count": 19,
      "metadata": {
        "colab": {
          "base_uri": "https://localhost:8080/"
        },
        "id": "shRBi3TugMX9",
        "outputId": "961040b0-47e7-4ef2-d806-3cb43c6d38d9"
      },
      "outputs": [
        {
          "name": "stdout",
          "output_type": "stream",
          "text": [
            "Accuracy: 0.365\n",
            "'I don't know': 1\n",
            "N/A: 0\n"
          ]
        }
      ],
      "source": [
        "samples['correct'] = samples.apply(\n",
        "    lambda row: (row['confidence'] == row['prediction']), axis=1)\n",
        "\n",
        "print(f\"Accuracy: {samples['correct'].sum() / (samples.shape[0]-len(samples[samples['prediction'] == 'idk'])):.3f}\")\n",
        "print(f\"'I don't know': {len(samples[samples['prediction'] == 'idk'])}\")\n",
        "print(f\"N/A: {len(samples[samples['prediction'] == 'N/A'])}\")"
      ]
    },
    {
      "cell_type": "code",
      "execution_count": 20,
      "metadata": {
        "id": "F9TR380Bgk_S"
      },
      "outputs": [
        {
          "data": {
            "text/plain": [
              "<bound method NDFrame.head of       statement_idx     report  page_num  sent_num  \\\n",
              "42               42    AR6_WGI        37        16   \n",
              "151             151    AR6_WGI        85        31   \n",
              "322             322    AR6_WGI       122        19   \n",
              "621             621    AR6_WGI       336        10   \n",
              "687             687    AR6_WGI       378        12   \n",
              "768             768    AR6_WGI       492         1   \n",
              "974             974    AR6_WGI       735         7   \n",
              "980             980    AR6_WGI       742        14   \n",
              "997             997    AR6_WGI       762         3   \n",
              "1005           1005    AR6_WGI       779        14   \n",
              "1185           1185    AR6_WGI       969        37   \n",
              "1263           1263    AR6_WGI      1075        19   \n",
              "1510           1510    AR6_WGI      1289        12   \n",
              "1567           1567    AR6_WGI      1323        10   \n",
              "1885           1885    AR6_WGI      1826         9   \n",
              "1906           1906    AR6_WGI      1832         9   \n",
              "1928           1928    AR6_WGI      1839        27   \n",
              "1935           1935    AR6_WGI      1840        13   \n",
              "1957           1957    AR6_WGI      1848        19   \n",
              "2208           2208    AR6_WGI      2010        20   \n",
              "3290           3290   AR6_WGII       214        12   \n",
              "3333           3333   AR6_WGII       236        30   \n",
              "3418           3418   AR6_WGII       288         2   \n",
              "3428           3428   AR6_WGII       303        16   \n",
              "3693           3693   AR6_WGII       434        16   \n",
              "3757           3757   AR6_WGII       441         8   \n",
              "3759           3759   AR6_WGII       441        13   \n",
              "3800           3800   AR6_WGII       447        14   \n",
              "3851           3851   AR6_WGII       461         3   \n",
              "4439           4439   AR6_WGII       790        13   \n",
              "4764           4764   AR6_WGII      1089         9   \n",
              "5166           5166   AR6_WGII      1613         9   \n",
              "5171           5171   AR6_WGII      1614         1   \n",
              "5351           5351   AR6_WGII      1711        15   \n",
              "5436           5436   AR6_WGII      1726         4   \n",
              "5444           5444   AR6_WGII      1726        15   \n",
              "5737           5737   AR6_WGII      1852        20   \n",
              "6049           6049   AR6_WGII      1989        12   \n",
              "6056           6056   AR6_WGII      1990        17   \n",
              "6230           6230   AR6_WGII      2149         0   \n",
              "6248           6248   AR6_WGII      2154        23   \n",
              "6252           6252   AR6_WGII      2154        31   \n",
              "6547           6547   AR6_WGII      2340         6   \n",
              "6669           6669   AR6_WGII      2425        17   \n",
              "6775           6775   AR6_WGII      2476        16   \n",
              "7444           7444  AR6_WGIII       111         8   \n",
              "7723           7723  AR6_WGIII       780        14   \n",
              "7725           7725  AR6_WGIII       781        24   \n",
              "7875           7875  AR6_WGIII      1257        34   \n",
              "8086           8086  AR6_WGIII      2016         8   \n",
              "\n",
              "                                              statement confidence  score  \\\n",
              "42    Over the next 2000 years, global mean sea leve...        low      0   \n",
              "151   Model estimates suggest no significant change ...        low      0   \n",
              "322   For global warming up to 2°C above 1850–1900 l...        low      0   \n",
              "621   Given the projected future sea ice losses, the...        low      0   \n",
              "687   A small decrease in productivity is evident gl...        low      0   \n",
              "768   Nevertheless, the CMIP6 models show a somewhat...        low      0   \n",
              "974   Projected oxygen loss in the ocean is thought ...        low      0   \n",
              "980   One study inferred a multi-year net CO2 source...        low      0   \n",
              "997   Increasing ocean warming and stratification ma...        low      0   \n",
              "1005         The use of biochar reduces nutrient losses        low      0   \n",
              "1185  There is thus limited evidence and medium agre...        low      0   \n",
              "1263  The impact of SRM can affect different regions...        low      0   \n",
              "1510  Under around 2°C–3°C peak warming, complete or...        low      0   \n",
              "1567  Carbon dioxide removal, solar radiation modifi...        low      0   \n",
              "1885  In New Zealand, mean wind patterns are project...        low      0   \n",
              "1906       In NWS, a wide range of changes is projected        low      0   \n",
              "1928  Fire weather conditions have been increasing s...        low      0   \n",
              "1935  Wind stagnation events may become more frequen...        low      0   \n",
              "1957  The mean wind speeds decline in North America ...        low      0   \n",
              "2208  Under moderate future emissions overall negati...        low      0   \n",
              "3290  Many proposed adaptation measures have not bee...        low      0   \n",
              "3333  The most heat-tolerant species, such as those ...        low      0   \n",
              "3418  While this has not yet been systematically exp...        low      0   \n",
              "3428  The area of coastline suitable for Cholera, De...        low      0   \n",
              "3693  Other species, such as Posidonia oceanica in t...        low      0   \n",
              "3757  This is consistent with changes expected under...        low      0   \n",
              "3759  However, the interaction of coastal warming an...        low      0   \n",
              "3800  Projections also suggest that warming-related ...        low      0   \n",
              "3851  Owing to contradictory observations there is c...        low      0   \n",
              "4439  Mangrove reforestation efforts in Asia may hav...        low      0   \n",
              "4764  Anxiety about the potential risks of climate c...        low      0   \n",
              "5166  The depth of the Aragonite Saturation Horizon ...        low      0   \n",
              "5171  Acidification may alter sex determination (e.g...        low      0   \n",
              "5351  Significant increases in the intensity and fre...        low      0   \n",
              "5436  Large-scale agricultural growth has increased ...        low      0   \n",
              "5444  Species are projected to suffer changes in the...        low      0   \n",
              "5737  Elevated CO2 levels predicted at 4°C GWL will ...        low      0   \n",
              "6049  Climate change has been observed to affect nat...        low      0   \n",
              "6056  Pre-existing social vulnerabilities have also ...        low      0   \n",
              "6230  While forest growth is projected to potentiall...        low      0   \n",
              "6248  A national scale analysis projected climate ch...        low      0   \n",
              "6252  Coral reefs in some Indian Ocean hotspots (H23...        low      0   \n",
              "6547  Primary productivity has increased in the Paci...        low      0   \n",
              "6669  Literature suggests a larger climate-related i...        low      0   \n",
              "6775  Expert elicitation estimates that 4°C warming ...        low      0   \n",
              "7444  The production of synthetic fuels using low-ca...        low      0   \n",
              "7723  Changing wind variability may have a small-to-...        low      0   \n",
              "7725  The effect of climate change on bioenergy crop...        low      0   \n",
              "7875  The production of synthetic fuels using low-ca...        low      0   \n",
              "8086  BEVs could create jobs associated with the EV ...        low      0   \n",
              "\n",
              "     split prediction  correct  \n",
              "42    test       high    False  \n",
              "151   test     medium    False  \n",
              "322   test     medium    False  \n",
              "621   test     medium    False  \n",
              "687   test     medium    False  \n",
              "768   test     medium    False  \n",
              "974   test     medium    False  \n",
              "980   test     medium    False  \n",
              "997   test     medium    False  \n",
              "1005  test     medium    False  \n",
              "1185  test     medium    False  \n",
              "1263  test     medium    False  \n",
              "1510  test     medium    False  \n",
              "1567  test     medium    False  \n",
              "1885  test     medium    False  \n",
              "1906  test     medium    False  \n",
              "1928  test     medium    False  \n",
              "1935  test     medium    False  \n",
              "1957  test     medium    False  \n",
              "2208  test     medium    False  \n",
              "3290  test     medium    False  \n",
              "3333  test     medium    False  \n",
              "3418  test     medium    False  \n",
              "3428  test     medium    False  \n",
              "3693  test     medium    False  \n",
              "3757  test     medium    False  \n",
              "3759  test     medium    False  \n",
              "3800  test     medium    False  \n",
              "3851  test     medium    False  \n",
              "4439  test     medium    False  \n",
              "4764  test     medium    False  \n",
              "5166  test     medium    False  \n",
              "5171  test     medium    False  \n",
              "5351  test     medium    False  \n",
              "5436  test       high    False  \n",
              "5444  test     medium    False  \n",
              "5737  test     medium    False  \n",
              "6049  test     medium    False  \n",
              "6056  test     medium    False  \n",
              "6230  test     medium    False  \n",
              "6248  test     medium    False  \n",
              "6252  test     medium    False  \n",
              "6547  test     medium    False  \n",
              "6669  test     medium    False  \n",
              "6775  test     medium    False  \n",
              "7444  test     medium    False  \n",
              "7723  test     medium    False  \n",
              "7725  test     medium    False  \n",
              "7875  test     medium    False  \n",
              "8086  test     medium    False  >"
            ]
          },
          "execution_count": 20,
          "metadata": {},
          "output_type": "execute_result"
        }
      ],
      "source": [
        "samples.loc[samples['confidence'] == 'low'].head"
      ]
    },
    {
      "cell_type": "markdown",
      "metadata": {
        "id": "Bn-aDj9EB25L"
      },
      "source": [
        "## Saving experiment results\n",
        "\n",
        "Make sure to save the results for future analysis if needed."
      ]
    },
    {
      "cell_type": "code",
      "execution_count": 21,
      "metadata": {
        "id": "ltYVolc1H_rh"
      },
      "outputs": [],
      "source": [
        "samples.to_csv('gpt3.5-turbo-demos-temp0-2024-05-30.csv', index=False)"
      ]
    },
    {
      "cell_type": "markdown",
      "metadata": {
        "id": "Z3NB-BQw0A5R"
      },
      "source": [
        "Alternatively, re-load a previous experiment."
      ]
    },
    {
      "cell_type": "code",
      "execution_count": 22,
      "metadata": {
        "id": "Nfj-8jAL0Bkz"
      },
      "outputs": [],
      "source": [
        "# samples = pd.read_csv('gpt3.5-turbo-demos-temp0-2024-05-30.csv', sep=',', skiprows=0)"
      ]
    },
    {
      "cell_type": "markdown",
      "metadata": {
        "id": "1N1C-Gy2kcce"
      },
      "source": [
        "## Precision, recall, and F1 score"
      ]
    },
    {
      "cell_type": "code",
      "execution_count": 23,
      "metadata": {
        "colab": {
          "base_uri": "https://localhost:8080/"
        },
        "id": "-j5UOZ21kekr",
        "outputId": "1bc8c1d9-92ca-4dd5-bb4a-c471b34b5d18"
      },
      "outputs": [
        {
          "name": "stdout",
          "output_type": "stream",
          "text": [
            "Macro F1 score: 0.2255368576123293\n",
            "Weighted F1 score: 0.28751399218995605\n",
            "Accuracy (total): 0.36454849498327757\n",
            "              precision    recall  f1-score   support\n",
            "\n",
            "        high     0.4746    0.2800    0.3522       100\n",
            "         low     0.0000    0.0000    0.0000        50\n",
            "      medium     0.3376    0.7980    0.4745        99\n",
            "   very high     0.6667    0.0400    0.0755        50\n",
            "\n",
            "    accuracy                         0.3645       299\n",
            "   macro avg     0.3697    0.2795    0.2255       299\n",
            "weighted avg     0.3820    0.3645    0.2875       299\n",
            "\n",
            "confidence\n",
            "high         100\n",
            "medium        99\n",
            "very high     50\n",
            "low           50\n",
            "Name: count, dtype: int64\n"
          ]
        }
      ],
      "source": [
        "from sklearn.metrics import f1_score, precision_score, recall_score, accuracy_score, classification_report\n",
        "\n",
        "true_labels = samples.loc[(samples['prediction'] != 'N/A') & (samples['prediction'] != 'idk'), 'confidence']\n",
        "predicted_labels = samples.loc[(samples['prediction'] != 'N/A') & (samples['prediction'] != 'idk'), 'prediction']\n",
        "\n",
        "# Compute macro F1 score\n",
        "f1 = f1_score(true_labels, predicted_labels, average='macro')\n",
        "print(\"Macro F1 score:\", f1)\n",
        "\n",
        "# Compute weighted F1 score\n",
        "f1 = f1_score(true_labels, predicted_labels, average='weighted')\n",
        "print(\"Weighted F1 score:\", f1)\n",
        "\n",
        "# Compute precision for each class\n",
        "precision = precision_score(true_labels, predicted_labels, average=None)\n",
        "\n",
        "# Compute recall for each class\n",
        "recall = recall_score(true_labels, predicted_labels, average=None)\n",
        "\n",
        "# Compute F1 score for each class\n",
        "f1 = f1_score(true_labels, predicted_labels, average=None)\n",
        "\n",
        "# Create a dataframe to store precision and recall for each class\n",
        "class_metrics_df = pd.DataFrame({'Precision': precision, 'Recall': recall, 'F1': f1})\n",
        "\n",
        "# Add labels to the class metrics dataframe\n",
        "class_metrics_df['Class'] = true_labels.unique().astype(str)\n",
        "\n",
        "# Sort the dataframe by class index or name\n",
        "class_metrics_df = class_metrics_df.sort_values('Class', key=lambda x: pd.Categorical(x, categories=[\"low\", \"medium\", \"high\", \"very high\"]))\n",
        "\n",
        "# Print class metrics dataframe\n",
        "#print(class_metrics_df)\n",
        "\n",
        "# Compute accuracy for the whole system\n",
        "accuracy = accuracy_score(true_labels, predicted_labels)\n",
        "\n",
        "# Compute accuracy by class\n",
        "\n",
        "print(\"Accuracy (total):\", accuracy)\n",
        "\n",
        "report = classification_report(true_labels, predicted_labels, digits=4)\n",
        "print(report)\n",
        "\n",
        "# Count classes\n",
        "category_counts = true_labels.value_counts()\n",
        "print(category_counts)\n",
        "\n"
      ]
    },
    {
      "cell_type": "markdown",
      "metadata": {
        "id": "ZZN3I0fxoRTc"
      },
      "source": [
        "## Over/under confidence assessment"
      ]
    },
    {
      "cell_type": "code",
      "execution_count": 24,
      "metadata": {
        "colab": {
          "base_uri": "https://localhost:8080/"
        },
        "id": "s1B3CwhEk87v",
        "outputId": "7cdaef97-8fca-4ff5-ca5d-49a47fe5c12e"
      },
      "outputs": [
        {
          "name": "stderr",
          "output_type": "stream",
          "text": [
            "C:\\Users\\yunlo\\AppData\\Local\\Temp\\ipykernel_21864\\201967900.py:7: SettingWithCopyWarning: \n",
            "A value is trying to be set on a copy of a slice from a DataFrame.\n",
            "Try using .loc[row_indexer,col_indexer] = value instead\n",
            "\n",
            "See the caveats in the documentation: https://pandas.pydata.org/pandas-docs/stable/user_guide/indexing.html#returning-a-view-versus-a-copy\n",
            "  fs['predicted_score'] = fs.prediction.apply(\n"
          ]
        },
        {
          "name": "stdout",
          "output_type": "stream",
          "text": [
            "=== All AR6 reports===\n",
            "Average ground truth score: 1.5\n",
            "Average predicted score: 1.2073578595317727\n",
            "Average scores per category: {'low': 1.04, 'medium': 1.1414141414141414, 'high': 1.3, 'very high': 1.32}\n",
            "\n",
            "=== AR6 WGI report ===\n",
            "Average ground truth score: 1.3157894736842106\n",
            "Average predicted score: 1.3404255319148937\n",
            "Average scores per category: {'low': 1.05, 'medium': 1.2941176470588236, 'high': 1.3666666666666667, 'very high': 2.0}\n",
            "\n",
            "=== AR6 WGII/III reports ===\n",
            "Average ground truth score: 1.5853658536585367\n",
            "Average predicted score: 1.146341463414634\n",
            "Average scores per category: {'low': 1.0333333333333334, 'medium': 1.0615384615384615, 'high': 1.2714285714285714, 'very high': 1.15}\n",
            "\n"
          ]
        }
      ],
      "source": [
        "# Filter samples\n",
        "fs = samples.loc[(samples['prediction'] != 'N/A') & (samples['prediction'] != 'idk')] \n",
        "\n",
        "# Compute a certainty score\n",
        "value_map = {'low': 0, 'medium': 1, 'high': 2, 'very high': 3}\n",
        "\n",
        "fs['predicted_score'] = fs.prediction.apply(\n",
        "    lambda x: value_map[x])\n",
        "\n",
        "# Break down scores\n",
        "scores_all = {\n",
        "    \"low\": fs.loc[fs['score'] == 0, 'predicted_score'].mean(),\n",
        "    \"medium\": fs.loc[fs['score'] == 1, 'predicted_score'].mean(),\n",
        "    \"high\": fs.loc[fs['score'] == 2, 'predicted_score'].mean(),\n",
        "    \"very high\": fs.loc[fs['score'] == 3, 'predicted_score'].mean()\n",
        "}\n",
        "\n",
        "scores_wg1 = {\n",
        "    \"low\": fs.loc[(fs['score'] == 0) & (fs['report'] == 'AR6_WGI'), 'predicted_score'].mean(),\n",
        "    \"medium\": fs.loc[(fs['score'] == 1) & (fs['report'] == 'AR6_WGI'), 'predicted_score'].mean(),\n",
        "    \"high\": fs.loc[(fs['score'] == 2) & (fs['report'] == 'AR6_WGI'), 'predicted_score'].mean(),\n",
        "    \"very high\": fs.loc[(fs['score'] == 3) & (fs['report'] == 'AR6_WGI'), 'predicted_score'].mean()\n",
        "}\n",
        "\n",
        "scores_wg23 = {\n",
        "    \"low\": fs.loc[(fs['score'] == 0) & (fs['report'] != 'AR6_WGI'), 'predicted_score'].mean(),\n",
        "    \"medium\": fs.loc[(fs['score'] == 1) & (fs['report'] != 'AR6_WGI'), 'predicted_score'].mean(),\n",
        "    \"high\": fs.loc[(fs['score'] == 2) & (fs['report'] != 'AR6_WGI'), 'predicted_score'].mean(),\n",
        "    \"very high\": fs.loc[(fs['score'] == 3) & (fs['report'] != 'AR6_WGI'), 'predicted_score'].mean()\n",
        "}\n",
        "\n",
        "print(\"=== All AR6 reports===\")\n",
        "print(f\"Average ground truth score: {samples['score'].mean()}\")\n",
        "print(f\"Average predicted score: {fs['predicted_score'].mean()}\")\n",
        "print(f\"Average scores per category: {scores_all}\\n\")\n",
        "\n",
        "print(\"=== AR6 WGI report ===\")\n",
        "print(f\"Average ground truth score: {samples.loc[samples['report'] == 'AR6_WGI', 'score'].mean()}\")\n",
        "print(f\"Average predicted score: {fs.loc[fs['report'] == 'AR6_WGI', 'predicted_score'].mean()}\")\n",
        "print(f\"Average scores per category: {scores_wg1}\\n\")\n",
        "\n",
        "print(\"=== AR6 WGII/III reports ===\")\n",
        "print(f\"Average ground truth score: {samples.loc[samples['report'] != 'AR6_WGI', 'score'].mean()}\")\n",
        "print(f\"Average predicted score: {fs.loc[fs['report'] != 'AR6_WGI', 'predicted_score'].mean()}\")\n",
        "print(f\"Average scores per category: {scores_wg23}\\n\")"
      ]
    },
    {
      "cell_type": "code",
      "execution_count": 25,
      "metadata": {
        "colab": {
          "base_uri": "https://localhost:8080/",
          "height": 410
        },
        "id": "itj9eDZhBvns",
        "outputId": "6e9efc61-df12-4a3b-ebf2-6bfd819e369d"
      },
      "outputs": [
        {
          "name": "stderr",
          "output_type": "stream",
          "text": [
            "c:\\Users\\yunlo\\anaconda3\\envs\\ChatIAMs0528-2\\Lib\\site-packages\\seaborn\\_oldcore.py:1119: FutureWarning: use_inf_as_na option is deprecated and will be removed in a future version. Convert inf values to NaN before operating instead.\n",
            "  with pd.option_context('mode.use_inf_as_na', True):\n",
            "c:\\Users\\yunlo\\anaconda3\\envs\\ChatIAMs0528-2\\Lib\\site-packages\\seaborn\\_oldcore.py:1119: FutureWarning: use_inf_as_na option is deprecated and will be removed in a future version. Convert inf values to NaN before operating instead.\n",
            "  with pd.option_context('mode.use_inf_as_na', True):\n",
            "c:\\Users\\yunlo\\anaconda3\\envs\\ChatIAMs0528-2\\Lib\\site-packages\\seaborn\\_oldcore.py:1119: FutureWarning: use_inf_as_na option is deprecated and will be removed in a future version. Convert inf values to NaN before operating instead.\n",
            "  with pd.option_context('mode.use_inf_as_na', True):\n",
            "c:\\Users\\yunlo\\anaconda3\\envs\\ChatIAMs0528-2\\Lib\\site-packages\\seaborn\\_oldcore.py:1119: FutureWarning: use_inf_as_na option is deprecated and will be removed in a future version. Convert inf values to NaN before operating instead.\n",
            "  with pd.option_context('mode.use_inf_as_na', True):\n",
            "c:\\Users\\yunlo\\anaconda3\\envs\\ChatIAMs0528-2\\Lib\\site-packages\\seaborn\\_oldcore.py:1119: FutureWarning: use_inf_as_na option is deprecated and will be removed in a future version. Convert inf values to NaN before operating instead.\n",
            "  with pd.option_context('mode.use_inf_as_na', True):\n",
            "c:\\Users\\yunlo\\anaconda3\\envs\\ChatIAMs0528-2\\Lib\\site-packages\\seaborn\\_oldcore.py:1119: FutureWarning: use_inf_as_na option is deprecated and will be removed in a future version. Convert inf values to NaN before operating instead.\n",
            "  with pd.option_context('mode.use_inf_as_na', True):\n"
          ]
        },
        {
          "data": {
            "image/png": "[encoded data removed]",
            "text/plain": [
              "<Figure size 500x400 with 1 Axes>"
            ]
          },
          "metadata": {},
          "output_type": "display_data"
        }
      ],
      "source": [
        "import seaborn as sns\n",
        "import matplotlib.pyplot as plt\n",
        "import numpy as np\n",
        "\n",
        "# Define the data\n",
        "\n",
        "# Extract labels and values from the data dictionary\n",
        "labels = list(scores_all.keys())\n",
        "values_all = list(scores_all.values())\n",
        "values_wg1 = list(scores_wg1.values())\n",
        "values_wg23 = list(scores_wg23.values())\n",
        "\n",
        "# Define the custom labels for the x-axis\n",
        "x_labels = ['0 (Low)', '1 (Medium)', '2 (High)', '3 (Very high)']\n",
        "\n",
        "plt.figure(figsize=(5, 4))\n",
        "\n",
        "# Create the line plot with labeled curve\n",
        "sns.lineplot(x=labels, y=values_all, label='All reports')\n",
        "sns.lineplot(x=labels, y=values_wg1, linestyle='--', color=\"steelblue\", label='WG1 report')\n",
        "sns.lineplot(x=labels, y=values_wg23, linestyle='dotted', color=\"steelblue\", label='WG2 & WG3 report')\n",
        "\n",
        "\n",
        "# Add the ground truth line (y = x)\n",
        "x = np.arange(len(labels))\n",
        "plt.plot(x, x, linestyle='--', color='red', label='Ground truth')\n",
        "\n",
        "# Customize the x-axis tick labels\n",
        "plt.xticks(labels, x_labels)\n",
        "\n",
        "# Set the y-axis limits\n",
        "plt.ylim(0, 3)\n",
        "\n",
        "# Set the title and labels\n",
        "plt.title(\"Average predicted confidence level\")\n",
        "plt.xlabel(\"Ground truth\")\n",
        "plt.ylabel(\"Prediction\")\n",
        "\n",
        "\n",
        "# Show the legend\n",
        "plt.legend()\n",
        "\n",
        "# Show the plot\n",
        "plt.savefig(\"gpt3.5-fewshot.png\", dpi=500)\n",
        "plt.show()"
      ]
    },
    {
      "cell_type": "code",
      "execution_count": null,
      "metadata": {},
      "outputs": [],
      "source": []
    }
  ],
  "metadata": {
    "colab": {
      "provenance": []
    },
    "kernelspec": {
      "display_name": "Python 3",
      "name": "python3"
    },
    "language_info": {
      "codemirror_mode": {
        "name": "ipython",
        "version": 3
      },
      "file_extension": ".py",
      "mimetype": "text/x-python",
      "name": "python",
      "nbconvert_exporter": "python",
      "pygments_lexer": "ipython3",
      "version": "3.12.3"
    }
  },
  "nbformat": 4,
  "nbformat_minor": 0
}
