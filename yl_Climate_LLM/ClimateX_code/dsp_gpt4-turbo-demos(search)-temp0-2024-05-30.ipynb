{
  "cells": [
    {
      "cell_type": "markdown",
      "metadata": {
        "id": "5Yr_qsY-IVDh"
      },
      "source": [
        "# DSP experiments\n",
        "\n",
        "This notebook contains DSP experiments to assess the accuracy of confidence level classification of climate statements by various LLMs."
      ]
    },
    {
      "cell_type": "code",
      "execution_count": 1,
      "metadata": {
        "colab": {
          "base_uri": "https://localhost:8080/"
        },
        "id": "McPATs55HhCb",
        "outputId": "0198de6e-0767-44ed-812b-f22d38d3f3ec"
      },
      "outputs": [],
      "source": [
        "# try: \n",
        "#     # This library is our indicator that the required installs\n",
        "#     # need to be done.\n",
        "#     import datasets\n",
        "#     root_path = '.'\n",
        "# except ModuleNotFoundError:\n",
        "#     !git clone https://github.com/cgpotts/cs224u/\n",
        "#     !pip install -r cs224u/requirements.txt\n",
        "#     root_path = 'dsp'"
      ]
    },
    {
      "cell_type": "markdown",
      "metadata": {
        "id": "mOyqFOZQJ3X1"
      },
      "source": [
        "Now we import modules to work with DSP, OpenAI, HuggingFace, and Cohere models"
      ]
    },
    {
      "cell_type": "code",
      "execution_count": 2,
      "metadata": {
        "id": "cOdafIXAJBbA"
      },
      "outputs": [
        {
          "name": "stderr",
          "output_type": "stream",
          "text": [
            "c:\\Users\\yunlo\\anaconda3\\envs\\ChatIAMs0528-2\\Lib\\site-packages\\tqdm\\auto.py:21: TqdmWarning: IProgress not found. Please update jupyter and ipywidgets. See https://ipywidgets.readthedocs.io/en/stable/user_install.html\n",
            "  from .autonotebook import tqdm as notebook_tqdm\n"
          ]
        }
      ],
      "source": [
        "import pandas as pd \n",
        "# import cohere\n",
        "from datasets import load_dataset\n",
        "import openai\n",
        "import re\n",
        "import os\n",
        "import dsp\n",
        "import transformers"
      ]
    },
    {
      "cell_type": "markdown",
      "metadata": {
        "id": "i4FR-mNlJ9rw"
      },
      "source": [
        "Now we import key variables such as API keys. Steps:\n",
        "\n",
        "1) Create a keys.txt file in the root of your /content/ folder in the Colab instance\n",
        "\n",
        "2) Define the API keys you will use \n",
        "\n",
        "3) Run the cell below to import the file"
      ]
    },
    {
      "cell_type": "code",
      "execution_count": 3,
      "metadata": {
        "id": "92qnhnLnJGmj"
      },
      "outputs": [],
      "source": [
        "# Read the contents of the file\n",
        "# with open('/content/keys.txt', 'r') as file:\n",
        "#     file_contents = file.read()\n",
        "\n",
        "# # Assign the variables\n",
        "# exec(file_contents)\n",
        "\n",
        "# os.environ[\"DSP_NOTEBOOK_CACHEDIR\"] = os.path.join(root_path, 'cache')\n",
        "# openai_key = OPENAI_API_KEY  \n",
        "# cohere_key = COHERE_API_KEY  \n",
        "\n",
        "# OpenAI API\n",
        "from getpass import getpass\n",
        "import os\n",
        "import openai\n",
        "from openai import OpenAI\n",
        "\n",
        "# from dotenv import load_dotenv, find_dotenv\n",
        "# _ = load_dotenv(find_dotenv()) # read local .env file\n",
        "new_api_key = getpass()\n",
        "\n",
        "os.environ[\"OPENAI_API_KEY\"] = new_api_key\n",
        "openai.api_key = os.environ['OPENAI_API_KEY']\n",
        "openai_key = openai.api_key\n",
        "openai_client = OpenAI()"
      ]
    },
    {
      "cell_type": "markdown",
      "metadata": {
        "id": "r4BukR4-LE_h"
      },
      "source": [
        "## Model setting\n",
        "\n",
        "Now we define a choice of LM and setup the DSP environment."
      ]
    },
    {
      "cell_type": "code",
      "execution_count": 4,
      "metadata": {
        "colab": {
          "base_uri": "https://localhost:8080/"
        },
        "id": "q11lHHwd5217",
        "outputId": "7276ba5e-a03b-42b6-b7ed-0662d2ff8d79"
      },
      "outputs": [],
      "source": [
        "# [d[\"root\"] for d in openai.Model.list(api_key=openai_key)[\"data\"]]"
      ]
    },
    {
      "cell_type": "code",
      "execution_count": 5,
      "metadata": {
        "id": "R-qXw7kxLPYp"
      },
      "outputs": [],
      "source": [
        "## Define the mode (uncomment appropriate line)\n",
        "\n",
        "# lm = dsp.GPT3(model = \"gpt-3.5-turbo\", api_key=openai_key, model_type=\"chat\")\n",
        "lm = dsp.GPT3(model = \"gpt-4-turbo\", api_key=openai_key, model_type=\"chat\")\n",
        "#lm = dsp.Cohere(model = \"command-xlarge-nightly\", api_key=cohere_key)\n",
        "\n",
        "dsp.settings.configure(lm=lm)\n",
        "dsp.settings.show_guidelines = True"
      ]
    },
    {
      "cell_type": "markdown",
      "metadata": {
        "id": "4viPCioLLwRf"
      },
      "source": [
        "### Loading the dataset\n",
        "Upload a tab separated version of the dataset to /content/."
      ]
    },
    {
      "cell_type": "code",
      "execution_count": 6,
      "metadata": {
        "colab": {
          "base_uri": "https://localhost:8080/"
        },
        "id": "OssAa2klLvzW",
        "outputId": "024110b2-5094-42c2-e819-d94c5e9baeb3"
      },
      "outputs": [
        {
          "data": {
            "text/plain": [
              "<bound method NDFrame.tail of       statement_idx     report  page_num  sent_num  \\\n",
              "3                 3    AR6_WGI        24         2   \n",
              "42               42    AR6_WGI        37        16   \n",
              "77               77    AR6_WGI        47         7   \n",
              "81               81    AR6_WGI        62         2   \n",
              "86               86    AR6_WGI        63         8   \n",
              "...             ...        ...       ...       ...   \n",
              "8024           8024  AR6_WGIII      1827        13   \n",
              "8056           8056  AR6_WGIII      2011         5   \n",
              "8067           8067  AR6_WGIII      2012         8   \n",
              "8086           8086  AR6_WGIII      2016         8   \n",
              "8093           8093  AR6_WGIII      2058        21   \n",
              "\n",
              "                                              statement confidence  score  \\\n",
              "3     Since 1750, increases in CO2 (47%) and CH4 (15...  very high      3   \n",
              "42    Over the next 2000 years, global mean sea leve...        low      0   \n",
              "77    By the end of the century, scenarios with very...       high      2   \n",
              "81    Over the past millennium, and especially since...     medium      1   \n",
              "86    The paleo context supports the assessment that...       high      2   \n",
              "...                                                 ...        ...    ...   \n",
              "8024  REDD+ can significantly contribute to climate ...       high      2   \n",
              "8056  Large-scale bioenergy projects with CCS may be...     medium      1   \n",
              "8067  Reforestation and forest restoration can have ...     medium      1   \n",
              "8086  BEVs could create jobs associated with the EV ...        low      0   \n",
              "8093  For pathways that limit warming to 2°C (>67%) ...       high      2   \n",
              "\n",
              "     split  \n",
              "3     test  \n",
              "42    test  \n",
              "77    test  \n",
              "81    test  \n",
              "86    test  \n",
              "...    ...  \n",
              "8024  test  \n",
              "8056  test  \n",
              "8067  test  \n",
              "8086  test  \n",
              "8093  test  \n",
              "\n",
              "[300 rows x 8 columns]>"
            ]
          },
          "execution_count": 6,
          "metadata": {},
          "output_type": "execute_result"
        }
      ],
      "source": [
        "df = pd.read_csv('ipcc_statements_dataset.tsv', sep='\\t', skiprows=0)\n",
        "\n",
        "train_set = df.loc[df['split'] == 'train']\n",
        "test_set = df.loc[df['split'] == 'test']\n",
        "\n",
        "test_set.tail"
      ]
    },
    {
      "cell_type": "code",
      "execution_count": 7,
      "metadata": {
        "id": "-21GN7mGX17J"
      },
      "outputs": [],
      "source": [
        "ipcc_train = [dsp.Example(input=row['statement'], label=row['confidence'], score=row['score'], report=row['report'])\n",
        "                    for _, row in train_set.iterrows()]"
      ]
    },
    {
      "cell_type": "code",
      "execution_count": 8,
      "metadata": {
        "colab": {
          "base_uri": "https://localhost:8080/"
        },
        "id": "bMrlFsaPOJU-",
        "outputId": "0f40ccd1-7202-4283-b988-74631b4d9ed1"
      },
      "outputs": [
        {
          "data": {
            "text/plain": [
              "[{'input': 'Since 2011 (measurements reported in AR5), concentrations have continued to increase in the atmosphere, reaching annual averages of 410 parts per million (ppm) for carbon dioxide (CO 2), 1866 parts per billion (ppb) for methane (CH 4), and 332 ppb for nitrous oxide (N 2O) in 2019.6 Land and ocean have taken up a near-constant proportion (globally about 56% per year) of CO 2 emissions from human activities over the past six decades, with regional differences',\n",
              "  'label': 'high',\n",
              "  'score': 2,\n",
              "  'report': 'AR6_WGI'},\n",
              " {'input': 'Mid-latitude storm tracks have likely shifted poleward in both hemispheres since the 1980s, with marked seasonality in trends',\n",
              "  'label': 'medium',\n",
              "  'score': 1,\n",
              "  'report': 'AR6_WGI'},\n",
              " {'input': 'The average rate of sea level rise was 1.3 [0.6 to 2.1] mm yr–1 between 1901 and 1971, increasing to 1.9 [0.8 to 2.9] mm yr–1 between 1971 and 2006, and further increasing to 3.7 [3.2 to 4.2] mm yr–1 between 2006 and 2018',\n",
              "  'label': 'high',\n",
              "  'score': 2,\n",
              "  'report': 'AR6_WGI'},\n",
              " {'input': 'Temperatures during the most recent decade (2011–2020) exceed those of the most recent multi-century warm period, around 6500 years ago13 [0.2°C to 1°C relative to 1850–1900]',\n",
              "  'label': 'medium',\n",
              "  'score': 1,\n",
              "  'report': 'AR6_WGI'},\n",
              " {'input': 'Prior to that, the next most recent warm period was about 125,000 years ago, when the multi-century temperature [0.5°C to 1.5°C relative to 1850–1900] overlaps the observations of the most recent decade',\n",
              "  'label': 'medium',\n",
              "  'score': 1,\n",
              "  'report': 'AR6_WGI'}]"
            ]
          },
          "execution_count": 8,
          "metadata": {},
          "output_type": "execute_result"
        }
      ],
      "source": [
        "ipcc_train[:5]"
      ]
    },
    {
      "cell_type": "markdown",
      "metadata": {
        "id": "bRFu3D9zmNck"
      },
      "source": [
        "### Perform checks on dataset\n"
      ]
    },
    {
      "cell_type": "code",
      "execution_count": 9,
      "metadata": {
        "colab": {
          "base_uri": "https://localhost:8080/"
        },
        "id": "s3tmicIyUUIj",
        "outputId": "3053035c-d7e8-45a3-d292-30ebbbca6c2b"
      },
      "outputs": [
        {
          "name": "stdout",
          "output_type": "stream",
          "text": [
            "7794\n",
            "241\n",
            "826\n",
            "4611\n"
          ]
        }
      ],
      "source": [
        "print(len(ipcc_train))\n",
        "print(len([ex for ex in ipcc_train if ex.label=='low']))\n",
        "print(len([ex for ex in ipcc_train if ex.report=='AR6_WGIII']))\n",
        "print(len([ex for ex in ipcc_train if ex.score==2]))"
      ]
    },
    {
      "cell_type": "markdown",
      "metadata": {
        "id": "gRHwZiZ-FuD8"
      },
      "source": [
        "## Split train set by confidence level"
      ]
    },
    {
      "cell_type": "code",
      "execution_count": 10,
      "metadata": {
        "colab": {
          "base_uri": "https://localhost:8080/"
        },
        "id": "ZwMRI_d-FwYt",
        "outputId": "c42190f9-0338-40f5-9312-0e5d1b8ab668"
      },
      "outputs": [
        {
          "name": "stdout",
          "output_type": "stream",
          "text": [
            "low: 241\n",
            "medium: 2415\n",
            "high: 4611\n",
            "very high: 527\n"
          ]
        }
      ],
      "source": [
        "train_ex = {}\n",
        "for confidence in ['low', 'medium', 'high', 'very high']: \n",
        "  train_ex[confidence] = [ex for ex in ipcc_train if ex.label==confidence]\n",
        "  print(f\"{confidence}: {len(train_ex[confidence])}\")"
      ]
    },
    {
      "cell_type": "markdown",
      "metadata": {
        "id": "JcN630LpOWaI"
      },
      "source": [
        "## Defining templates\n",
        "\n",
        "### Few-shot learning\n",
        "Testing how models do on the task with demonstrations."
      ]
    },
    {
      "cell_type": "code",
      "execution_count": 11,
      "metadata": {
        "id": "8oiVbQ94OYYd"
      },
      "outputs": [],
      "source": [
        "Input = dsp.Type(\n",
        "    prefix=\"Statement:\", \n",
        "    desc=\"${a short statement about climate.}\")\n",
        "\n",
        "Label = dsp.Type(\n",
        "    prefix=\"Confidence: \", \n",
        "    desc=\"${must be *only*: 'low', 'medium', 'high', 'very high'}\")\n",
        "\n",
        "few_shot_template = dsp.Template(\n",
        "    instructions=\"You are a knowledgeable climate science assistant trained to assess the confidence level associated with various statements about climate change. \\\n",
        "      \\n\\nYou will be presented with a statement about climate science, climate impacts or climate change mitigation which is retrieved or paraphrased from the IPCC AR6 WGI, WGII or WGIII assessment reports. Climate scientists have evaluated that statement as low confidence, medium confidence, high confidence, or very high confidence, based on evidence (type, amount, quantity, consistency) and agreement among their peers. What is their confidence level?  \\\n",
        "      \\n\\nRespond *only* with one of the following words: 'low', 'medium', 'high', 'very high'. If you don't know, you can respond 'I don't know'.\",\n",
        "    input=Input(),\n",
        "    label=Label())"
      ]
    },
    {
      "cell_type": "markdown",
      "metadata": {},
      "source": [
        "### Semantic Search (Few-shot statements)"
      ]
    },
    {
      "cell_type": "code",
      "execution_count": 12,
      "metadata": {},
      "outputs": [],
      "source": [
        "import json"
      ]
    },
    {
      "cell_type": "code",
      "execution_count": 13,
      "metadata": {},
      "outputs": [],
      "source": [
        "samples = train_set.copy()"
      ]
    },
    {
      "cell_type": "code",
      "execution_count": 14,
      "metadata": {},
      "outputs": [],
      "source": [
        "select_col = ['statement', 'confidence', 'score', 'report']\n",
        "samples = samples[select_col]\n",
        "samples.rename(columns={'statement': 'input', 'confidence': 'label'}, inplace=True)"
      ]
    },
    {
      "cell_type": "code",
      "execution_count": 15,
      "metadata": {},
      "outputs": [],
      "source": [
        "samples_dict = samples.to_dict(orient='records')"
      ]
    },
    {
      "cell_type": "code",
      "execution_count": 16,
      "metadata": {},
      "outputs": [],
      "source": [
        "json_list = [json.dumps(row, indent=4) for row in samples_dict]"
      ]
    },
    {
      "cell_type": "code",
      "execution_count": 17,
      "metadata": {},
      "outputs": [],
      "source": [
        "loader = json_list"
      ]
    },
    {
      "cell_type": "code",
      "execution_count": 18,
      "metadata": {},
      "outputs": [
        {
          "name": "stdout",
          "output_type": "stream",
          "text": [
            "{\n",
            "    \"input\": \"Since 2011 (measurements reported in AR5), concentrations have continued to increase in the atmosphere, reaching annual averages of 410 parts per million (ppm) for carbon dioxide (CO 2), 1866 parts per billion (ppb) for methane (CH 4), and 332 ppb for nitrous oxide (N 2O) in 2019.6 Land and ocean have taken up a near-constant proportion (globally about 56% per year) of CO 2 emissions from human activities over the past six decades, with regional differences\",\n",
            "    \"label\": \"high\",\n",
            "    \"score\": 2,\n",
            "    \"report\": \"AR6_WGI\"\n",
            "}\n",
            "7794\n"
          ]
        }
      ],
      "source": [
        "pdf_texts = loader\n",
        "print(pdf_texts[0])\n",
        "print(len(pdf_texts))\n",
        "\n",
        "texts_list = [i for i in pdf_texts]"
      ]
    },
    {
      "cell_type": "code",
      "execution_count": 19,
      "metadata": {},
      "outputs": [],
      "source": [
        "from langchain.text_splitter import RecursiveCharacterTextSplitter, SentenceTransformersTokenTextSplitter"
      ]
    },
    {
      "cell_type": "code",
      "execution_count": 20,
      "metadata": {},
      "outputs": [
        {
          "name": "stderr",
          "output_type": "stream",
          "text": [
            "c:\\Users\\yunlo\\anaconda3\\envs\\ChatIAMs0528-2\\Lib\\site-packages\\onnxruntime\\capi\\onnxruntime_validation.py:26: UserWarning: Unsupported Windows version (11). ONNX Runtime supports Windows 10 and above, only.\n",
            "  warnings.warn(\n",
            "c:\\Users\\yunlo\\anaconda3\\envs\\ChatIAMs0528-2\\Lib\\site-packages\\huggingface_hub\\file_download.py:157: UserWarning: `huggingface_hub` cache-system uses symlinks by default to efficiently store duplicated files but your machine does not support them in C:\\Users\\yunlo\\.cache\\huggingface\\hub\\models--sentence-transformers--all-MiniLM-L6-v2. Caching files will still work but in a degraded version that might require more space on your disk. This warning can be disabled by setting the `HF_HUB_DISABLE_SYMLINKS_WARNING` environment variable. For more details, see https://huggingface.co/docs/huggingface_hub/how-to-cache#limitations.\n",
            "To support symlinks on Windows, you either need to activate Developer Mode or to run Python as an administrator. In order to see activate developer mode, see this article: https://docs.microsoft.com/en-us/windows/apps/get-started/enable-your-device-for-development\n",
            "  warnings.warn(message)\n",
            "c:\\Users\\yunlo\\anaconda3\\envs\\ChatIAMs0528-2\\Lib\\site-packages\\huggingface_hub\\file_download.py:1132: FutureWarning: `resume_download` is deprecated and will be removed in version 1.0.0. Downloads always resume when possible. If you want to force a new download, use `force_download=True`.\n",
            "  warnings.warn(\n"
          ]
        },
        {
          "name": "stdout",
          "output_type": "stream",
          "text": [
            "[[0.0418105386197567, -0.027256593108177185, 0.04835323616862297, 0.020819619297981262, 0.106303870677948, -0.012819867581129074, -0.001742432126775384, 0.012875874526798725, -0.02183402143418789, 0.028026051819324493, -0.016449948772788048, -0.050131674855947495, -0.08463161438703537, 0.0023506490979343653, 0.036749087274074554, 0.08343978226184845, 0.016861747950315475, -0.11912719905376434, 0.015154861845076084, -0.02020627073943615, -0.015411678701639175, 0.10407935082912445, -0.003748079529032111, -0.024653397500514984, -0.06531666964292526, 0.0013251090422272682, -0.0859905555844307, 0.026234744116663933, 0.008446073159575462, 0.012278682552278042, 0.010306262411177158, 0.1173352375626564, 0.018455829471349716, -0.031201738864183426, -0.00922299548983574, -0.04840880632400513, 0.03477596119046211, -0.007349849212914705, 0.0067448485642671585, 0.052083130925893784, -0.03380434587597847, -0.05629609525203705, 0.030714314430952072, -0.03285849839448929, -0.0004199497343506664, 0.032251838594675064, 0.020758453756570816, -0.01072459015995264, -0.0036250802222639322, -0.0014586603501811624, 0.01300423126667738, 0.024124713614583015, -0.05009250342845917, -0.054444387555122375, 0.026789871975779533, -0.06765397638082504, -0.028070660308003426, -0.022045020014047623, 0.04471508786082268, -0.0789966732263565, 0.025225186720490456, -0.031018786132335663, -0.014259128831326962, 0.0206719059497118, 0.07832327485084534, 0.04028889909386635, 0.05968576669692993, -0.016836367547512054, -0.0003975031431764364, 0.003357511945068836, -0.06703305244445801, 0.042434826493263245, -0.039758794009685516, -0.10747665166854858, -0.038182660937309265, -0.02281803824007511, -0.04042908176779747, -0.018209805712103844, 0.17216162383556366, -0.08337341248989105, 0.051098424941301346, 0.01311323419213295, 0.008181367069482803, -0.02993692085146904, -0.024095384404063225, 0.0237442497164011, -0.014747265726327896, 0.01691107265651226, -0.07285972684621811, -0.02439490333199501, -0.09954406321048737, -0.04356750473380089, 0.17046423256397247, 0.05881289020180702, -0.08449587970972061, 0.07794410735368729, 0.039488594979047775, 0.008312198333442211, 0.010684811510145664, -0.02554621733725071, 0.01606234535574913, 0.10582661628723145, -0.07802237570285797, -0.06585239619016647, -0.04616967961192131, 0.042457714676856995, 0.048030268400907516, 0.03420904278755188, 0.04670487344264984, 0.0738975927233696, -0.05343061685562134, 0.025897175073623657, -0.05342456325888634, -0.019571740180253983, 0.08710550516843796, 0.07257788628339767, 0.11471212655305862, -0.05889362096786499, -0.028697263449430466, 0.006720345932990313, -0.028019294142723083, 0.019945664331316948, -0.04532469063997269, 0.03950592502951622, 0.002768696052953601, -0.011199078522622585, 0.016951045021414757, 3.21315650262312e-33, 0.02596215158700943, -0.0028377827256917953, 0.06832313537597656, 0.035941727459430695, -0.04028205946087837, -0.0069525763392448425, -0.12325550615787506, -0.08348599821329117, 0.05774302780628204, -0.00949800293892622, -0.06393352150917053, -0.0015925661427900195, -0.020996669307351112, 0.08230596780776978, 0.06650692224502563, -0.020937049761414528, -0.007351706735789776, 0.05798011273145676, -0.002368638291954994, 0.017040077596902847, -0.04479682818055153, -0.0015445786993950605, -0.018898669630289078, 0.07188927382230759, 0.06303467601537704, 0.048446331173181534, 0.062163613736629486, 0.0052222684025764465, -0.025371694937348366, -0.0374273806810379, 0.09221682697534561, -0.018582891672849655, -0.024336976930499077, 0.026534950360655785, 0.026235871016979218, -0.09317157417535782, 0.02278965897858143, 0.09124304354190826, -0.04545564949512482, 0.01359376311302185, -0.00262518972158432, 0.061430662870407104, -0.024382460862398148, -0.07521259784698486, 0.026319991797208786, -0.1097337082028389, 0.006967766210436821, 0.04854694753885269, 0.04309237375855446, 0.009149711579084396, -0.15122699737548828, 0.055800098925828934, -0.04067418724298477, 0.005084343254566193, 0.0270859207957983, -0.009823505766689777, 0.053382523357868195, -0.020236913114786148, 0.03575090691447258, 0.004810276906937361, -0.018432103097438812, 0.08792358636856079, 0.05165303871035576, 0.03668145835399628, 0.005596363451331854, 0.1047191247344017, 0.028035465627908707, -0.0018914869287982583, 0.0004088468267582357, 0.0989634245634079, 0.027574917301535606, -0.05179589241743088, 0.0170225091278553, 0.041378457099199295, 0.033999569714069366, -0.06883713603019714, 0.05041662976145744, -0.03773145377635956, -0.007416963577270508, 0.08261432498693466, -0.054815873503685, -0.02633977308869362, 0.059375979006290436, -0.11653123795986176, -0.04253380000591278, -0.06588026136159897, -0.02454080991446972, -0.023009132593870163, 0.043705783784389496, 0.05495886877179146, -0.003959790337830782, -0.022152554243803024, 0.001422354020178318, -0.0530562549829483, -0.02783282659947872, -4.410055503547928e-33, 0.05060948058962822, 0.06970275193452835, -0.008909635245800018, -0.068757064640522, -0.08419882506132126, -0.03735491260886192, -0.006807588040828705, 0.008676383644342422, 0.0522126704454422, 0.0009406443568877876, 0.0015968938823789358, 0.10946787893772125, 0.10351212322711945, 0.009991509839892387, 0.053499843925237656, -0.06422827392816544, -0.021581707522273064, 0.037499383091926575, 0.025042816996574402, -0.04711540415883064, -0.005312844645231962, -0.10645987093448639, 0.01261008158326149, -0.00578628946095705, -0.04835712909698486, 0.040398091077804565, -0.002206214237958193, -0.06579231470823288, 0.0440048947930336, -0.06050112843513489, -0.08718270063400269, 0.07849694788455963, -0.05076299235224724, -0.015972519293427467, -0.02798985131084919, -0.11368582397699356, 0.015626396983861923, 0.014796639792621136, -0.1072501689195633, -0.07082575559616089, -0.030895333737134933, 0.009011118672788143, 0.030375339090824127, 0.00016326268087141216, -0.01287152525037527, -0.023932671174407005, -0.015608060173690319, -0.06280691921710968, -0.01964162476360798, -0.06077609211206436, 0.06360764801502228, 0.02728973515331745, -0.1449223756790161, -0.0036803390830755234, 0.028368249535560608, 0.06361622363328934, 0.04749065637588501, 0.02650832012295723, 0.013470308855175972, -0.033816076815128326, 0.03911082446575165, 0.04837659373879433, -0.06917590647935867, 0.002874806523323059, 0.02809823304414749, -0.010363663546741009, -0.0036440794356167316, 0.02906801737844944, -0.0029762331396341324, 0.06405314058065414, 0.004693399649113417, -0.009173378348350525, -0.004004672169685364, -0.033856116235256195, -0.07492353767156601, -0.03938842937350273, -0.002896893536671996, -0.0060602216981351376, 0.04350673407316208, 0.020321421325206757, -0.036783285439014435, 0.000514573126565665, 0.008695339784026146, -0.02201157435774803, -0.028928080573678017, -0.03232841566205025, -0.04552946984767914, -0.033001381903886795, -0.020001504570245743, 0.07431396096944809, -0.111984483897686, -0.010467256419360638, -0.14979898929595947, -0.038782019168138504, -0.03578238934278488, -5.132963565301907e-08, -0.019506238400936127, 0.06576187908649445, 0.05057584494352341, 0.08068391680717468, -0.011440766043961048, 0.027769966050982475, 0.00809676293283701, 0.06091498211026192, 0.02891295589506626, 0.04900798574090004, 0.07458637654781342, 0.030709169805049896, 0.11181733757257462, -0.08420237898826599, 0.010720956139266491, -0.03658368065953255, -0.03488767519593239, -0.03305183723568916, -0.0021720007061958313, -0.022611603140830994, 0.049825094640254974, 0.024151956662535667, -0.04180675372481346, -0.030285704880952835, 0.05136069655418396, -0.012109515257179737, 0.02325103059411049, 0.06744653731584549, -0.013805127702653408, -0.058024823665618896, 0.02664872631430626, -0.03587799519300461, 0.027627186849713326, -0.10469681024551392, 0.025422943755984306, -0.0661548376083374, 0.009162446483969688, -0.008999594487249851, -0.04320532828569412, -0.019732926040887833, -0.060181666165590286, 0.005070147570222616, -0.009035274386405945, 0.0353466272354126, 0.023708445951342583, -0.0030702061485499144, -0.010583585128188133, -0.02185312658548355, 0.042135026305913925, -0.06497851759195328, -0.01637553796172142, -0.09374888986349106, -0.011720000766217709, -0.022139590233564377, 0.030554113909602165, 0.0806359350681305, -0.041878730058670044, -0.02416410855948925, -0.029538864269852638, -0.006113467738032341, 0.086592897772789, -0.04295670986175537, -0.07864861190319061, 0.027672991156578064]]\n"
          ]
        }
      ],
      "source": [
        "import chromadb\n",
        "from chromadb.utils.embedding_functions import SentenceTransformerEmbeddingFunction\n",
        "\n",
        "embedding_function = SentenceTransformerEmbeddingFunction()\n",
        "print(embedding_function([pdf_texts[0]]))"
      ]
    },
    {
      "cell_type": "code",
      "execution_count": 22,
      "metadata": {},
      "outputs": [
        {
          "data": {
            "text/plain": [
              "0"
            ]
          },
          "execution_count": 22,
          "metadata": {},
          "output_type": "execute_result"
        }
      ],
      "source": [
        "chroma_client = chromadb.Client()\n",
        "\n",
        "# chroma_client.delete_collection('ipcc_statements_train')\n",
        "\n",
        "chroma_collection = chroma_client.create_collection(\"ipcc_statements_train\", embedding_function=embedding_function)\n",
        "\n",
        "# ids = [str(i) for i in range(len(character_split_texts))]\n",
        "\n",
        "# chroma_collection.add(ids=ids, documents=character_split_texts)\n",
        "chroma_collection.count()"
      ]
    },
    {
      "cell_type": "code",
      "execution_count": 23,
      "metadata": {},
      "outputs": [
        {
          "data": {
            "text/plain": [
              "7794"
            ]
          },
          "execution_count": 23,
          "metadata": {},
          "output_type": "execute_result"
        }
      ],
      "source": [
        "\n",
        "ids = [str(i) for i in range((len(pdf_texts)))]\n",
        "\n",
        "chroma_collection.add(ids=ids, documents=texts_list)\n",
        "chroma_collection.count()"
      ]
    },
    {
      "cell_type": "code",
      "execution_count": 24,
      "metadata": {},
      "outputs": [
        {
          "name": "stdout",
          "output_type": "stream",
          "text": [
            "{\n",
            "    \"input\": \"Before the year 1300, larger disagreements between models and temperature reconstructions are expected because forcing and temperature reconstructions are increasingly uncertain further back in time, but specific causes have not been identified conclusively (Ljungqvist et al., 2019; PAGES 2k Consortium, 2019)\",\n",
            "    \"label\": \"medium\",\n",
            "    \"score\": 1,\n",
            "    \"report\": \"AR6_WGI\"\n",
            "}\n",
            "\n",
            "\n",
            "{\n",
            "    \"input\": \"Projections of multi-millennial global mean sea level rise are consistent with reconstructed levels during past warm climate periods: likely 5\\u201310 m higher than today around 125,000 years ago, when global temperatures were very likely 0.5\\u00b0C\\u20131.5\\u00b0C higher than 1850\\u20131900; and very likely 5\\u201325 m higher roughly 3 million years ago, when global temperatures were 2.5\\u00b0C\\u20134\\u00b0C higher\",\n",
            "    \"label\": \"medium\",\n",
            "    \"score\": 1,\n",
            "    \"report\": \"AR6_WGI\"\n",
            "}\n",
            "\n",
            "\n",
            "{\n",
            "    \"input\": \"Under these contrasting scenarios, discernible differences in trends of global surface temperature would begin to emerge from natural variability within around 20 years, and over longer time periods for many other climatic impact-drivers\",\n",
            "    \"label\": \"high\",\n",
            "    \"score\": 2,\n",
            "    \"report\": \"AR6_WGI\"\n",
            "}\n",
            "\n",
            "\n"
          ]
        }
      ],
      "source": [
        "query = 'Over the past millennium, and especially since about 1300 CE, simulated global surface temperature anomalies are well within the uncertainty of reconstructions'\n",
        "\n",
        "results = chroma_collection.query(query_texts=[query], n_results=3)\n",
        "retrieved_documents = results['documents'][0]\n",
        "\n",
        "for document in retrieved_documents:\n",
        "    print(document)\n",
        "    print('\\n')"
      ]
    },
    {
      "cell_type": "code",
      "execution_count": 25,
      "metadata": {},
      "outputs": [
        {
          "data": {
            "text/html": [
              "<div>\n",
              "<style scoped>\n",
              "    .dataframe tbody tr th:only-of-type {\n",
              "        vertical-align: middle;\n",
              "    }\n",
              "\n",
              "    .dataframe tbody tr th {\n",
              "        vertical-align: top;\n",
              "    }\n",
              "\n",
              "    .dataframe thead th {\n",
              "        text-align: right;\n",
              "    }\n",
              "</style>\n",
              "<table border=\"1\" class=\"dataframe\">\n",
              "  <thead>\n",
              "    <tr style=\"text-align: right;\">\n",
              "      <th></th>\n",
              "      <th>statement_idx</th>\n",
              "      <th>report</th>\n",
              "      <th>page_num</th>\n",
              "      <th>sent_num</th>\n",
              "      <th>statement</th>\n",
              "      <th>confidence</th>\n",
              "      <th>score</th>\n",
              "      <th>split</th>\n",
              "    </tr>\n",
              "  </thead>\n",
              "  <tbody>\n",
              "    <tr>\n",
              "      <th>3</th>\n",
              "      <td>3</td>\n",
              "      <td>AR6_WGI</td>\n",
              "      <td>24</td>\n",
              "      <td>2</td>\n",
              "      <td>Since 1750, increases in CO2 (47%) and CH4 (15...</td>\n",
              "      <td>very high</td>\n",
              "      <td>3</td>\n",
              "      <td>test</td>\n",
              "    </tr>\n",
              "    <tr>\n",
              "      <th>42</th>\n",
              "      <td>42</td>\n",
              "      <td>AR6_WGI</td>\n",
              "      <td>37</td>\n",
              "      <td>16</td>\n",
              "      <td>Over the next 2000 years, global mean sea leve...</td>\n",
              "      <td>low</td>\n",
              "      <td>0</td>\n",
              "      <td>test</td>\n",
              "    </tr>\n",
              "    <tr>\n",
              "      <th>77</th>\n",
              "      <td>77</td>\n",
              "      <td>AR6_WGI</td>\n",
              "      <td>47</td>\n",
              "      <td>7</td>\n",
              "      <td>By the end of the century, scenarios with very...</td>\n",
              "      <td>high</td>\n",
              "      <td>2</td>\n",
              "      <td>test</td>\n",
              "    </tr>\n",
              "    <tr>\n",
              "      <th>81</th>\n",
              "      <td>81</td>\n",
              "      <td>AR6_WGI</td>\n",
              "      <td>62</td>\n",
              "      <td>2</td>\n",
              "      <td>Over the past millennium, and especially since...</td>\n",
              "      <td>medium</td>\n",
              "      <td>1</td>\n",
              "      <td>test</td>\n",
              "    </tr>\n",
              "    <tr>\n",
              "      <th>86</th>\n",
              "      <td>86</td>\n",
              "      <td>AR6_WGI</td>\n",
              "      <td>63</td>\n",
              "      <td>8</td>\n",
              "      <td>The paleo context supports the assessment that...</td>\n",
              "      <td>high</td>\n",
              "      <td>2</td>\n",
              "      <td>test</td>\n",
              "    </tr>\n",
              "  </tbody>\n",
              "</table>\n",
              "</div>"
            ],
            "text/plain": [
              "    statement_idx   report  page_num  sent_num  \\\n",
              "3               3  AR6_WGI        24         2   \n",
              "42             42  AR6_WGI        37        16   \n",
              "77             77  AR6_WGI        47         7   \n",
              "81             81  AR6_WGI        62         2   \n",
              "86             86  AR6_WGI        63         8   \n",
              "\n",
              "                                            statement confidence  score split  \n",
              "3   Since 1750, increases in CO2 (47%) and CH4 (15...  very high      3  test  \n",
              "42  Over the next 2000 years, global mean sea leve...        low      0  test  \n",
              "77  By the end of the century, scenarios with very...       high      2  test  \n",
              "81  Over the past millennium, and especially since...     medium      1  test  \n",
              "86  The paleo context supports the assessment that...       high      2  test  "
            ]
          },
          "execution_count": 25,
          "metadata": {},
          "output_type": "execute_result"
        }
      ],
      "source": [
        "samples_test = test_set.copy()\n",
        "samples_test.head()"
      ]
    },
    {
      "cell_type": "code",
      "execution_count": 26,
      "metadata": {},
      "outputs": [
        {
          "name": "stdout",
          "output_type": "stream",
          "text": [
            "The paleo context supports the assessment that ongoing increase in ocean heat content (OHC) represents a long-term commitment, essentially irreversible on human time scales\n",
            "{'input': 'Section 3.5.1.3 assessed that it is extremely likely that human influence was the main driver of the ocean heat content increase observed since the 1970s, which extends into the deeper ocean', 'label': 'very high', 'score': 3, 'report': 'AR6_WGI'}\n",
            "\n",
            "\n",
            "{'input': 'It is extremely likely that human influence was the main driver of the ocean heat content increase observed since the 1970s, which extends into the deeper ocean', 'label': 'very high', 'score': 3, 'report': 'AR6_WGI'}\n",
            "\n",
            "\n",
            "{'input': 'Since 1971, it is virtually certain that global ocean heat content has increased for the upper (0–700 m) layer, very likely for the intermediate (700–2000 m) layer and likely below 2000 m, and is currently increasing faster than at any point since at least the last deglacial transition (18 to 11 thousand years ago)', 'label': 'medium', 'score': 1, 'report': 'AR6_WGI'}\n",
            "\n",
            "\n",
            "['{\\n    \"input\": \"Section 3.5.1.3 assessed that it is extremely likely that human influence was the main driver of the ocean heat content increase observed since the 1970s, which extends into the deeper ocean\",\\n    \"label\": \"very high\",\\n    \"score\": 3,\\n    \"report\": \"AR6_WGI\"\\n}', '{\\n    \"input\": \"It is extremely likely that human influence was the main driver of the ocean heat content increase observed since the 1970s, which extends into the deeper ocean\",\\n    \"label\": \"very high\",\\n    \"score\": 3,\\n    \"report\": \"AR6_WGI\"\\n}', '{\\n    \"input\": \"Since 1971, it is virtually certain that global ocean heat content has increased for the upper (0\\\\u2013700 m) layer, very likely for the intermediate (700\\\\u20132000 m) layer and likely below 2000 m, and is currently increasing faster than at any point since at least the last deglacial transition (18 to 11 thousand years ago)\",\\n    \"label\": \"medium\",\\n    \"score\": 1,\\n    \"report\": \"AR6_WGI\"\\n}']\n"
          ]
        }
      ],
      "source": [
        "query = samples_test['statement'][86]\n",
        "print(query)\n",
        "\n",
        "results = chroma_collection.query(query_texts=[query], n_results=3)\n",
        "retrieved_documents = results['documents'][0]\n",
        "\n",
        "for document in retrieved_documents:\n",
        "    print(json.loads(document))\n",
        "    print('\\n')\n",
        "print(retrieved_documents)"
      ]
    },
    {
      "cell_type": "code",
      "execution_count": 27,
      "metadata": {},
      "outputs": [],
      "source": [
        "few_shots_3 = []\n",
        "\n",
        "for i in samples_test['statement']:\n",
        "    query = i\n",
        "    doc = []\n",
        "    results = chroma_collection.query(query_texts=[query], n_results=3)\n",
        "    retrieved_documents = results['documents'][0]\n",
        "    for document in retrieved_documents:\n",
        "        doc.append(json.loads(document))\n",
        "    few_shots_3.append(doc)\n",
        "\n",
        "samples_test['few_shots_3'] = few_shots_3"
      ]
    },
    {
      "cell_type": "code",
      "execution_count": 28,
      "metadata": {},
      "outputs": [
        {
          "data": {
            "text/html": [
              "<div>\n",
              "<style scoped>\n",
              "    .dataframe tbody tr th:only-of-type {\n",
              "        vertical-align: middle;\n",
              "    }\n",
              "\n",
              "    .dataframe tbody tr th {\n",
              "        vertical-align: top;\n",
              "    }\n",
              "\n",
              "    .dataframe thead th {\n",
              "        text-align: right;\n",
              "    }\n",
              "</style>\n",
              "<table border=\"1\" class=\"dataframe\">\n",
              "  <thead>\n",
              "    <tr style=\"text-align: right;\">\n",
              "      <th></th>\n",
              "      <th>statement_idx</th>\n",
              "      <th>report</th>\n",
              "      <th>page_num</th>\n",
              "      <th>sent_num</th>\n",
              "      <th>statement</th>\n",
              "      <th>confidence</th>\n",
              "      <th>score</th>\n",
              "      <th>split</th>\n",
              "      <th>few_shots_3</th>\n",
              "    </tr>\n",
              "  </thead>\n",
              "  <tbody>\n",
              "    <tr>\n",
              "      <th>3</th>\n",
              "      <td>3</td>\n",
              "      <td>AR6_WGI</td>\n",
              "      <td>24</td>\n",
              "      <td>2</td>\n",
              "      <td>Since 1750, increases in CO2 (47%) and CH4 (15...</td>\n",
              "      <td>very high</td>\n",
              "      <td>3</td>\n",
              "      <td>test</td>\n",
              "      <td>[{'input': 'Since 1750, increases in CO 2 (47%...</td>\n",
              "    </tr>\n",
              "    <tr>\n",
              "      <th>42</th>\n",
              "      <td>42</td>\n",
              "      <td>AR6_WGI</td>\n",
              "      <td>37</td>\n",
              "      <td>16</td>\n",
              "      <td>Over the next 2000 years, global mean sea leve...</td>\n",
              "      <td>low</td>\n",
              "      <td>0</td>\n",
              "      <td>test</td>\n",
              "      <td>[{'input': 'The increase in global ocean heat ...</td>\n",
              "    </tr>\n",
              "    <tr>\n",
              "      <th>77</th>\n",
              "      <td>77</td>\n",
              "      <td>AR6_WGI</td>\n",
              "      <td>47</td>\n",
              "      <td>7</td>\n",
              "      <td>By the end of the century, scenarios with very...</td>\n",
              "      <td>high</td>\n",
              "      <td>2</td>\n",
              "      <td>test</td>\n",
              "      <td>[{'input': 'Limiting global average warming ha...</td>\n",
              "    </tr>\n",
              "    <tr>\n",
              "      <th>81</th>\n",
              "      <td>81</td>\n",
              "      <td>AR6_WGI</td>\n",
              "      <td>62</td>\n",
              "      <td>2</td>\n",
              "      <td>Over the past millennium, and especially since...</td>\n",
              "      <td>medium</td>\n",
              "      <td>1</td>\n",
              "      <td>test</td>\n",
              "      <td>[{'input': 'Before the year 1300, larger disag...</td>\n",
              "    </tr>\n",
              "    <tr>\n",
              "      <th>86</th>\n",
              "      <td>86</td>\n",
              "      <td>AR6_WGI</td>\n",
              "      <td>63</td>\n",
              "      <td>8</td>\n",
              "      <td>The paleo context supports the assessment that...</td>\n",
              "      <td>high</td>\n",
              "      <td>2</td>\n",
              "      <td>test</td>\n",
              "      <td>[{'input': 'Section 3.5.1.3 assessed that it i...</td>\n",
              "    </tr>\n",
              "  </tbody>\n",
              "</table>\n",
              "</div>"
            ],
            "text/plain": [
              "    statement_idx   report  page_num  sent_num  \\\n",
              "3               3  AR6_WGI        24         2   \n",
              "42             42  AR6_WGI        37        16   \n",
              "77             77  AR6_WGI        47         7   \n",
              "81             81  AR6_WGI        62         2   \n",
              "86             86  AR6_WGI        63         8   \n",
              "\n",
              "                                            statement confidence  score split  \\\n",
              "3   Since 1750, increases in CO2 (47%) and CH4 (15...  very high      3  test   \n",
              "42  Over the next 2000 years, global mean sea leve...        low      0  test   \n",
              "77  By the end of the century, scenarios with very...       high      2  test   \n",
              "81  Over the past millennium, and especially since...     medium      1  test   \n",
              "86  The paleo context supports the assessment that...       high      2  test   \n",
              "\n",
              "                                          few_shots_3  \n",
              "3   [{'input': 'Since 1750, increases in CO 2 (47%...  \n",
              "42  [{'input': 'The increase in global ocean heat ...  \n",
              "77  [{'input': 'Limiting global average warming ha...  \n",
              "81  [{'input': 'Before the year 1300, larger disag...  \n",
              "86  [{'input': 'Section 3.5.1.3 assessed that it i...  "
            ]
          },
          "execution_count": 28,
          "metadata": {},
          "output_type": "execute_result"
        }
      ],
      "source": [
        "samples_test.head()"
      ]
    },
    {
      "cell_type": "code",
      "execution_count": null,
      "metadata": {},
      "outputs": [],
      "source": []
    },
    {
      "cell_type": "markdown",
      "metadata": {
        "id": "wORGK6fTZsjC"
      },
      "source": [
        "Example:"
      ]
    },
    {
      "cell_type": "code",
      "execution_count": 29,
      "metadata": {},
      "outputs": [
        {
          "name": "stdout",
          "output_type": "stream",
          "text": [
            "You are a knowledgeable climate science assistant trained to assess the confidence level associated with various statements about climate change.       \n",
            "\n",
            "You will be presented with a statement about climate science, climate impacts or climate change mitigation which is retrieved or paraphrased from the IPCC AR6 WGI, WGII or WGIII assessment reports. Climate scientists have evaluated that statement as low confidence, medium confidence, high confidence, or very high confidence, based on evidence (type, amount, quantity, consistency) and agreement among their peers. What is their confidence level?        \n",
            "\n",
            "Respond *only* with one of the following words: 'low', 'medium', 'high', 'very high'. If you don't know, you can respond 'I don't know'.\n",
            "\n",
            "---\n",
            "\n",
            "Follow the following format.\n",
            "\n",
            "Statement: ${a short statement about climate.}\n",
            "Confidence: ${must be *only*: 'low', 'medium', 'high', 'very high'}\n",
            "\n",
            "---\n",
            "\n",
            "Statement: Since 1750, increases in CO 2 (47%) and CH 4 (156%) concentrations far exceed – and increases in N 2O (23%) are similar to – the natural multi-millennial changes between glacial and interglacial periods over at least the past 800,000 years\n",
            "Confidence: very high\n",
            "\n",
            "---\n",
            "\n",
            "Statement: The Human Perturbation of the Carbon and Biogeochemical Cycles Global mean concentrations for well-mixed GHGs (CO 2, CH 4 and N 2O) in 2019 correspond to increases of about 47%, 156%, and 23%, respectively, above the levels in 1750 (representative of the pre-industrial era)\n",
            "Confidence: high\n",
            "\n",
            "---\n",
            "\n",
            "Statement: These changes are larger than those between glacial and interglacial periods over the last 800,000 years for CO 2 and CH 4 and of comparable magnitude for N 2O\n",
            "Confidence: very high\n",
            "\n",
            "---\n",
            "\n",
            "Statement: Since 2011 (measurements reported in AR5), concentrations have continued to increase in the atmosphere, reaching annual averages of 410 parts per million (ppm) for carbon dioxide (CO 2), 1866 parts per billion (ppb) for methane (CH 4), and 332 ppb for nitrous oxide (N 2O) in 2019.6 Land and ocean have taken up a near-constant proportion (globally about 56% per year) of CO 2 emissions from human activities over the past six decades, with regional differences\n",
            "Confidence:\n"
          ]
        }
      ],
      "source": [
        "ex = dsp.Example(\n",
        "    input=ipcc_train[0]['input'], label=ipcc_train[0]['label'])\n",
        "\n",
        "ex.demos=samples_test['few_shots_3'][3]\n",
        "\n",
        "print(few_shot_template(ex))"
      ]
    },
    {
      "cell_type": "code",
      "execution_count": 30,
      "metadata": {
        "colab": {
          "base_uri": "https://localhost:8080/"
        },
        "id": "WqQ75vTGZt03",
        "outputId": "8c028ceb-de1b-4418-baca-5a6e19b49eae"
      },
      "outputs": [],
      "source": [
        "# ex = dsp.Example(\n",
        "#     input=ipcc_train[0]['input'], label=ipcc_train[0]['label'])\n",
        "\n",
        "# ex.demos=dsp.sample(ipcc_train, 3)\n",
        "\n",
        "# print(few_shot_template(ex))"
      ]
    },
    {
      "cell_type": "markdown",
      "metadata": {
        "id": "ONZfaTzxZja0"
      },
      "source": [
        "## Defining the task\n",
        "\n",
        "With zero shot we simply provide instructions and provide a format template, with no training demonstrations."
      ]
    },
    {
      "cell_type": "code",
      "execution_count": 31,
      "metadata": {
        "id": "I7VWLcOdPmXK"
      },
      "outputs": [],
      "source": [
        "import random\n",
        "\n",
        "@dsp.transformation\n",
        "def assess_certainty_with_demonstrations(example, temperature=0): \n",
        "    \n",
        "    # Sample demonstrations in train set for each confidence level\n",
        "    example.demos = []\n",
        "    for confidence in ['low', 'medium', 'high', 'very high']:\n",
        "        demo = random.choice(train_ex[confidence])\n",
        "        example.demos.append(demo)\n",
        "\n",
        "    # Call LLM\n",
        "    example, completion = dsp.generate(few_shot_template,  temperature=temperature)(example, stage='few-shot')\n",
        "\n",
        "    return completion\n",
        "\n",
        "def extract_confidence(text):\n",
        "    if re.search(r\"low\", text, re.IGNORECASE):\n",
        "        return \"low\"\n",
        "    elif re.search(r\"medium\", text, re.IGNORECASE):\n",
        "        return \"medium\"\n",
        "    elif re.search(r\"very high\", text, re.IGNORECASE):\n",
        "        return \"very high\"\n",
        "    elif re.search(r\"high\", text, re.IGNORECASE):\n",
        "        return \"high\"\n",
        "    elif re.search(r\"i don't know\", text, re.IGNORECASE):\n",
        "        return \"idk\"\n",
        "    else:\n",
        "        return \"N/A\""
      ]
    },
    {
      "cell_type": "markdown",
      "metadata": {
        "id": "VW71OwRIeqgT"
      },
      "source": [
        "Testing our task on the first sentence of the dataset: gpt3.5-turbo gets this first task right!"
      ]
    },
    {
      "cell_type": "code",
      "execution_count": 32,
      "metadata": {
        "colab": {
          "base_uri": "https://localhost:8080/",
          "height": 73
        },
        "id": "uM3jPoEEeX9_",
        "outputId": "77017753-0336-4f1f-8055-53d7491bb281"
      },
      "outputs": [
        {
          "name": "stdout",
          "output_type": "stream",
          "text": [
            "{'input': 'Since 2011 (measurements reported in AR5), concentrations have continued to increase in the atmosphere, reaching annual averages of 410 parts per million (ppm) for carbon dioxide (CO 2), 1866 parts per billion (ppb) for methane (CH 4), and 332 ppb for nitrous oxide (N 2O) in 2019.6 Land and ocean have taken up a near-constant proportion (globally about 56% per year) of CO 2 emissions from human activities over the past six decades, with regional differences', 'label': 'high', 'demos': [{'input': 'Since 1750, increases in CO 2 (47%) and CH 4 (156%) concentrations far exceed – and increases in N 2O (23%) are similar to – the natural multi-millennial changes between glacial and interglacial periods over at least the past 800,000 years', 'label': 'very high', 'score': 3, 'report': 'AR6_WGI'}, {'input': 'The Human Perturbation of the Carbon and Biogeochemical Cycles Global mean concentrations for well-mixed GHGs (CO 2, CH 4 and N 2O) in 2019 correspond to increases of about 47%, 156%, and 23%, respectively, above the levels in 1750 (representative of the pre-industrial era)', 'label': 'high', 'score': 2, 'report': 'AR6_WGI'}, {'input': 'These changes are larger than those between glacial and interglacial periods over the last 800,000 years for CO 2 and CH 4 and of comparable magnitude for N 2O', 'label': 'very high', 'score': 3, 'report': 'AR6_WGI'}]}\n"
          ]
        },
        {
          "data": {
            "text/plain": [
              "'very high'"
            ]
          },
          "execution_count": 32,
          "metadata": {},
          "output_type": "execute_result"
        }
      ],
      "source": [
        "print(ex)\n",
        "assess_certainty_with_demonstrations(ex).label"
      ]
    },
    {
      "cell_type": "code",
      "execution_count": 35,
      "metadata": {
        "colab": {
          "base_uri": "https://localhost:8080/"
        },
        "id": "LK25jd_jtNQl",
        "outputId": "d998fa71-cdab-41ac-85d2-8c48050e86b4"
      },
      "outputs": [
        {
          "name": "stdout",
          "output_type": "stream",
          "text": [
            "\n",
            "\n",
            "\n",
            "You are a knowledgeable climate science assistant trained to assess the confidence level associated with various statements about climate change.       \n",
            "\n",
            "You will be presented with a statement about climate science, climate impacts or climate change mitigation which is retrieved or paraphrased from the IPCC AR6 WGI, WGII or WGIII assessment reports. Climate scientists have evaluated that statement as low confidence, medium confidence, high confidence, or very high confidence, based on evidence (type, amount, quantity, consistency) and agreement among their peers. What is their confidence level?        \n",
            "\n",
            "Respond *only* with one of the following words: 'low', 'medium', 'high', 'very high'. If you don't know, you can respond 'I don't know'.\n",
            "\n",
            "---\n",
            "\n",
            "Follow the following format.\n",
            "\n",
            "Statement: ${a short statement about climate.}\n",
            "Confidence: ${must be *only*: 'low', 'medium', 'high', 'very high'}\n",
            "\n",
            "---\n",
            "\n",
            "Statement: Recent analysis of station data showed spatial variations in the mostly decreasing but non-significant trends in annual and extreme rainfall over the western Pacific from 1961 to 2011\n",
            "Confidence: low\n",
            "\n",
            "---\n",
            "\n",
            "Statement: Consumption of mercury-contaminated fish has been found to be linked to neurological disorders due to methyl mercury poisoning (i.e., Minamata disease) that is associated with climate change-contaminant interactions that alter the bioaccumulation and biomagnification of toxic and fat-soluble persistent organic pollutants and polychlorinated biphenyls (PCBs) (Alava et al., 2017) in seafood and marine mammals\n",
            "Confidence: medium\n",
            "\n",
            "---\n",
            "\n",
            "Statement: Practical experience has informed instrument design and helped to improve predictability, environmental effectiveness, economic efficiency, distributional goals and social acceptance\n",
            "Confidence: high\n",
            "\n",
            "---\n",
            "\n",
            "Statement: These four phases do not imply that transitions are linear, teleological processes, because set-backs or reversals may occur as a result of learning processes, conflicts, or changing coalitions\n",
            "Confidence: very high\n",
            "\n",
            "---\n",
            "\n",
            "Statement: Since 2011 (measurements reported in AR5), concentrations have continued to increase in the atmosphere, reaching annual averages of 410 parts per million (ppm) for carbon dioxide (CO 2), 1866 parts per billion (ppb) for methane (CH 4), and 332 ppb for nitrous oxide (N 2O) in 2019.6 Land and ocean have taken up a near-constant proportion (globally about 56% per year) of CO 2 emissions from human activities over the past six decades, with regional differences\n",
            "Confidence: very high\n",
            "\n",
            "\n",
            "\n"
          ]
        },
        {
          "data": {
            "text/plain": [
              "\"\\n\\n\\nYou are a knowledgeable climate science assistant trained to assess the confidence level associated with various statements about climate change.       \\n\\nYou will be presented with a statement about climate science, climate impacts or climate change mitigation which is retrieved or paraphrased from the IPCC AR6 WGI, WGII or WGIII assessment reports. Climate scientists have evaluated that statement as low confidence, medium confidence, high confidence, or very high confidence, based on evidence (type, amount, quantity, consistency) and agreement among their peers. What is their confidence level?        \\n\\nRespond *only* with one of the following words: 'low', 'medium', 'high', 'very high'. If you don't know, you can respond 'I don't know'.\\n\\n---\\n\\nFollow the following format.\\n\\nStatement: ${a short statement about climate.}\\nConfidence: ${must be *only*: 'low', 'medium', 'high', 'very high'}\\n\\n---\\n\\nStatement: Recent analysis of station data showed spatial variations in the mostly decreasing but non-significant trends in annual and extreme rainfall over the western Pacific from 1961 to 2011\\nConfidence: low\\n\\n---\\n\\nStatement: Consumption of mercury-contaminated fish has been found to be linked to neurological disorders due to methyl mercury poisoning (i.e., Minamata disease) that is associated with climate change-contaminant interactions that alter the bioaccumulation and biomagnification of toxic and fat-soluble persistent organic pollutants and polychlorinated biphenyls (PCBs) (Alava et al., 2017) in seafood and marine mammals\\nConfidence: medium\\n\\n---\\n\\nStatement: Practical experience has informed instrument design and helped to improve predictability, environmental effectiveness, economic efficiency, distributional goals and social acceptance\\nConfidence: high\\n\\n---\\n\\nStatement: These four phases do not imply that transitions are linear, teleological processes, because set-backs or reversals may occur as a result of learning processes, conflicts, or changing coalitions\\nConfidence: very high\\n\\n---\\n\\nStatement: Since 2011 (measurements reported in AR5), concentrations have continued to increase in the atmosphere, reaching annual averages of 410 parts per million (ppm) for carbon dioxide (CO 2), 1866 parts per billion (ppb) for methane (CH 4), and 332 ppb for nitrous oxide (N 2O) in 2019.6 Land and ocean have taken up a near-constant proportion (globally about 56% per year) of CO 2 emissions from human activities over the past six decades, with regional differences\\nConfidence:\\x1b[32m very high\\x1b[0m\\n\\n\\n\""
            ]
          },
          "execution_count": 35,
          "metadata": {},
          "output_type": "execute_result"
        }
      ],
      "source": [
        "lm.inspect_history(n=1)"
      ]
    },
    {
      "cell_type": "markdown",
      "metadata": {
        "id": "JPfSCzP2fAkL"
      },
      "source": [
        "# First experiment\n",
        "\n",
        "We assess the certainty level of the LM on the dataset, filter the output for extra \"confidence\" etc., then compare with ground truth."
      ]
    },
    {
      "cell_type": "code",
      "execution_count": 42,
      "metadata": {
        "colab": {
          "base_uri": "https://localhost:8080/"
        },
        "id": "rB8fieaReqPg",
        "outputId": "b778ffea-aa12-4e84-9c46-19078a00bfd0"
      },
      "outputs": [
        {
          "data": {
            "text/plain": [
              "<bound method NDFrame.head of       statement_idx     report  page_num  sent_num  \\\n",
              "3                 3    AR6_WGI        24         2   \n",
              "42               42    AR6_WGI        37        16   \n",
              "77               77    AR6_WGI        47         7   \n",
              "81               81    AR6_WGI        62         2   \n",
              "86               86    AR6_WGI        63         8   \n",
              "...             ...        ...       ...       ...   \n",
              "8024           8024  AR6_WGIII      1827        13   \n",
              "8056           8056  AR6_WGIII      2011         5   \n",
              "8067           8067  AR6_WGIII      2012         8   \n",
              "8086           8086  AR6_WGIII      2016         8   \n",
              "8093           8093  AR6_WGIII      2058        21   \n",
              "\n",
              "                                              statement confidence  score  \\\n",
              "3     Since 1750, increases in CO2 (47%) and CH4 (15...  very high      3   \n",
              "42    Over the next 2000 years, global mean sea leve...        low      0   \n",
              "77    By the end of the century, scenarios with very...       high      2   \n",
              "81    Over the past millennium, and especially since...     medium      1   \n",
              "86    The paleo context supports the assessment that...       high      2   \n",
              "...                                                 ...        ...    ...   \n",
              "8024  REDD+ can significantly contribute to climate ...       high      2   \n",
              "8056  Large-scale bioenergy projects with CCS may be...     medium      1   \n",
              "8067  Reforestation and forest restoration can have ...     medium      1   \n",
              "8086  BEVs could create jobs associated with the EV ...        low      0   \n",
              "8093  For pathways that limit warming to 2°C (>67%) ...       high      2   \n",
              "\n",
              "     split  \n",
              "3     test  \n",
              "42    test  \n",
              "77    test  \n",
              "81    test  \n",
              "86    test  \n",
              "...    ...  \n",
              "8024  test  \n",
              "8056  test  \n",
              "8067  test  \n",
              "8086  test  \n",
              "8093  test  \n",
              "\n",
              "[300 rows x 8 columns]>"
            ]
          },
          "execution_count": 42,
          "metadata": {},
          "output_type": "execute_result"
        }
      ],
      "source": [
        "samples = test_set.copy()  # Dev: train_set.sample(n=100, random_state=12).copy() | Experiment: test_set.copy()\n",
        "\n",
        "samples.head"
      ]
    },
    {
      "cell_type": "code",
      "execution_count": 43,
      "metadata": {
        "colab": {
          "base_uri": "https://localhost:8080/"
        },
        "id": "OD0cALUafsUo",
        "outputId": "a112fd32-e72d-4334-c3a1-a58106999699"
      },
      "outputs": [],
      "source": [
        "# samples['prediction'] = samples.statement.apply(\n",
        "#     lambda x: extract_confidence(assess_certainty_with_demonstrations(dsp.Example(input=x, demos=dsp.sample(ipcc_train, 0)), temperature=0).label.lower()))"
      ]
    },
    {
      "cell_type": "code",
      "execution_count": 44,
      "metadata": {
        "colab": {
          "base_uri": "https://localhost:8080/"
        },
        "id": "DBrd-4WAtCWQ",
        "outputId": "74aa185f-c68d-4941-d2c2-741d115cf245"
      },
      "outputs": [],
      "source": [
        "# lm.inspect_history(n=1)"
      ]
    },
    {
      "cell_type": "code",
      "execution_count": 45,
      "metadata": {},
      "outputs": [],
      "source": [
        "samples['few_shots_3'] = samples_test['few_shots_3']"
      ]
    },
    {
      "cell_type": "code",
      "execution_count": 46,
      "metadata": {},
      "outputs": [
        {
          "name": "stdout",
          "output_type": "stream",
          "text": [
            "3\n",
            "42\n",
            "77\n",
            "81\n",
            "86\n",
            "98\n",
            "151\n",
            "157\n",
            "162\n",
            "165\n",
            "190\n",
            "197\n",
            "233\n",
            "237\n",
            "282\n",
            "322\n",
            "361\n",
            "371\n",
            "415\n",
            "419\n",
            "467\n",
            "497\n",
            "548\n",
            "556\n",
            "572\n",
            "583\n",
            "586\n",
            "593\n",
            "602\n",
            "621\n",
            "663\n",
            "671\n",
            "679\n",
            "687\n",
            "688\n",
            "736\n",
            "741\n",
            "768\n",
            "772\n",
            "774\n",
            "783\n",
            "795\n",
            "855\n",
            "922\n",
            "941\n",
            "974\n",
            "980\n",
            "997\n",
            "1005\n",
            "1027\n",
            "1036\n",
            "1042\n",
            "1096\n",
            "1185\n",
            "1259\n",
            "1263\n",
            "1275\n",
            "1304\n",
            "1332\n",
            "1342\n",
            "1362\n",
            "1390\n",
            "1450\n",
            "1466\n",
            "1470\n",
            "1489\n",
            "1507\n",
            "1510\n",
            "1567\n",
            "1591\n",
            "1630\n",
            "1664\n",
            "1666\n",
            "1760\n",
            "1804\n",
            "1831\n",
            "1838\n",
            "1885\n",
            "1906\n",
            "1928\n",
            "1935\n",
            "1956\n",
            "1957\n",
            "2001\n",
            "2016\n",
            "2046\n",
            "2089\n",
            "2095\n",
            "2115\n",
            "2132\n",
            "2191\n",
            "2196\n",
            "2208\n",
            "2235\n",
            "2293\n",
            "2310\n",
            "2392\n",
            "2423\n",
            "2430\n",
            "2473\n",
            "2518\n",
            "2520\n",
            "2525\n",
            "2572\n",
            "2589\n",
            "2599\n",
            "2605\n",
            "2616\n",
            "2672\n",
            "2685\n",
            "2804\n",
            "2914\n",
            "2930\n",
            "2964\n",
            "3015\n",
            "3071\n",
            "3127\n",
            "3156\n",
            "3184\n",
            "3186\n",
            "3222\n",
            "3242\n",
            "3246\n",
            "3250\n",
            "3282\n",
            "3290\n",
            "3305\n",
            "3333\n",
            "3381\n",
            "3418\n",
            "3419\n",
            "3426\n",
            "3428\n",
            "3455\n",
            "3456\n",
            "3487\n",
            "3553\n",
            "3574\n",
            "3581\n",
            "3609\n",
            "3659\n",
            "3693\n",
            "3747\n",
            "3757\n",
            "3759\n",
            "3788\n",
            "3800\n",
            "3832\n",
            "3851\n",
            "3865\n",
            "3872\n",
            "3887\n",
            "3908\n",
            "3942\n",
            "3950\n",
            "3976\n",
            "4048\n",
            "4052\n",
            "4080\n",
            "4145\n",
            "4190\n",
            "4239\n",
            "4253\n",
            "4254\n",
            "4264\n",
            "4345\n",
            "4420\n",
            "4439\n",
            "4446\n",
            "4456\n",
            "4541\n",
            "4580\n",
            "4611\n",
            "4636\n",
            "4696\n",
            "4764\n",
            "4824\n",
            "4882\n",
            "4948\n",
            "4956\n",
            "4965\n",
            "4970\n",
            "5038\n",
            "5048\n",
            "5092\n",
            "5093\n",
            "5099\n",
            "5120\n",
            "5137\n",
            "5166\n",
            "5171\n",
            "5202\n",
            "5243\n",
            "5246\n",
            "5285\n",
            "5324\n",
            "5335\n",
            "5349\n",
            "5351\n",
            "5354\n",
            "5390\n",
            "5436\n",
            "5444\n",
            "5498\n",
            "5620\n",
            "5670\n",
            "5704\n",
            "5737\n",
            "5798\n",
            "5825\n",
            "5922\n",
            "5957\n",
            "5982\n",
            "5984\n",
            "5989\n",
            "6030\n",
            "6049\n",
            "6056\n",
            "6064\n",
            "6081\n",
            "6104\n",
            "6161\n",
            "6178\n",
            "6211\n",
            "6230\n",
            "6248\n",
            "6249\n",
            "6252\n",
            "6312\n",
            "6390\n",
            "6392\n",
            "6415\n",
            "6543\n",
            "6546\n",
            "6547\n",
            "6585\n",
            "6593\n",
            "6594\n",
            "6598\n",
            "6635\n",
            "6660\n",
            "6668\n",
            "6669\n",
            "6751\n",
            "6767\n",
            "6775\n",
            "6803\n",
            "6813\n",
            "6840\n",
            "6885\n",
            "6915\n",
            "6921\n",
            "6962\n",
            "7083\n",
            "7102\n",
            "7104\n",
            "7114\n",
            "7131\n",
            "7132\n",
            "7135\n",
            "7146\n",
            "7149\n",
            "7152\n",
            "7163\n",
            "7171\n",
            "7244\n",
            "7258\n",
            "7271\n",
            "7394\n",
            "7417\n",
            "7432\n",
            "7443\n",
            "7444\n",
            "7460\n",
            "7496\n",
            "7517\n",
            "7522\n",
            "7532\n",
            "7535\n",
            "7540\n",
            "7541\n",
            "7637\n",
            "7641\n",
            "7669\n",
            "7682\n",
            "7723\n",
            "7725\n",
            "7793\n",
            "7828\n",
            "7859\n",
            "7866\n",
            "7875\n",
            "7914\n",
            "7931\n",
            "8013\n",
            "8024\n",
            "8056\n",
            "8067\n",
            "8086\n",
            "8093\n"
          ]
        }
      ],
      "source": [
        "pred = []\n",
        "for i in samples.statement_idx:\n",
        "    print(i)\n",
        "    ex = dsp.Example(input=samples.statement[i])\n",
        "    ex.demos=samples['few_shots_3'][i]\n",
        "    pred.append(extract_confidence(assess_certainty_with_demonstrations(ex).label.lower()))\n",
        "\n",
        "samples['prediction'] = pred"
      ]
    },
    {
      "cell_type": "code",
      "execution_count": 47,
      "metadata": {
        "colab": {
          "base_uri": "https://localhost:8080/"
        },
        "id": "shRBi3TugMX9",
        "outputId": "961040b0-47e7-4ef2-d806-3cb43c6d38d9"
      },
      "outputs": [
        {
          "name": "stdout",
          "output_type": "stream",
          "text": [
            "Accuracy: 0.451\n",
            "'I don't know': 5\n",
            "N/A: 0\n"
          ]
        }
      ],
      "source": [
        "samples['correct'] = samples.apply(\n",
        "    lambda row: (row['confidence'] == row['prediction']), axis=1)\n",
        "\n",
        "print(f\"Accuracy: {samples['correct'].sum() / (samples.shape[0]-len(samples[samples['prediction'] == 'idk'])):.3f}\")\n",
        "print(f\"'I don't know': {len(samples[samples['prediction'] == 'idk'])}\")\n",
        "print(f\"N/A: {len(samples[samples['prediction'] == 'N/A'])}\")"
      ]
    },
    {
      "cell_type": "code",
      "execution_count": 48,
      "metadata": {
        "id": "F9TR380Bgk_S"
      },
      "outputs": [
        {
          "data": {
            "text/plain": [
              "<bound method NDFrame.head of       statement_idx     report  page_num  sent_num  \\\n",
              "42               42    AR6_WGI        37        16   \n",
              "151             151    AR6_WGI        85        31   \n",
              "322             322    AR6_WGI       122        19   \n",
              "621             621    AR6_WGI       336        10   \n",
              "687             687    AR6_WGI       378        12   \n",
              "768             768    AR6_WGI       492         1   \n",
              "974             974    AR6_WGI       735         7   \n",
              "980             980    AR6_WGI       742        14   \n",
              "997             997    AR6_WGI       762         3   \n",
              "1005           1005    AR6_WGI       779        14   \n",
              "1185           1185    AR6_WGI       969        37   \n",
              "1263           1263    AR6_WGI      1075        19   \n",
              "1510           1510    AR6_WGI      1289        12   \n",
              "1567           1567    AR6_WGI      1323        10   \n",
              "1885           1885    AR6_WGI      1826         9   \n",
              "1906           1906    AR6_WGI      1832         9   \n",
              "1928           1928    AR6_WGI      1839        27   \n",
              "1935           1935    AR6_WGI      1840        13   \n",
              "1957           1957    AR6_WGI      1848        19   \n",
              "2208           2208    AR6_WGI      2010        20   \n",
              "3290           3290   AR6_WGII       214        12   \n",
              "3333           3333   AR6_WGII       236        30   \n",
              "3418           3418   AR6_WGII       288         2   \n",
              "3428           3428   AR6_WGII       303        16   \n",
              "3693           3693   AR6_WGII       434        16   \n",
              "3757           3757   AR6_WGII       441         8   \n",
              "3759           3759   AR6_WGII       441        13   \n",
              "3800           3800   AR6_WGII       447        14   \n",
              "3851           3851   AR6_WGII       461         3   \n",
              "4439           4439   AR6_WGII       790        13   \n",
              "4764           4764   AR6_WGII      1089         9   \n",
              "5166           5166   AR6_WGII      1613         9   \n",
              "5171           5171   AR6_WGII      1614         1   \n",
              "5351           5351   AR6_WGII      1711        15   \n",
              "5436           5436   AR6_WGII      1726         4   \n",
              "5444           5444   AR6_WGII      1726        15   \n",
              "5737           5737   AR6_WGII      1852        20   \n",
              "6049           6049   AR6_WGII      1989        12   \n",
              "6056           6056   AR6_WGII      1990        17   \n",
              "6230           6230   AR6_WGII      2149         0   \n",
              "6248           6248   AR6_WGII      2154        23   \n",
              "6252           6252   AR6_WGII      2154        31   \n",
              "6547           6547   AR6_WGII      2340         6   \n",
              "6669           6669   AR6_WGII      2425        17   \n",
              "6775           6775   AR6_WGII      2476        16   \n",
              "7444           7444  AR6_WGIII       111         8   \n",
              "7723           7723  AR6_WGIII       780        14   \n",
              "7725           7725  AR6_WGIII       781        24   \n",
              "7875           7875  AR6_WGIII      1257        34   \n",
              "8086           8086  AR6_WGIII      2016         8   \n",
              "\n",
              "                                              statement confidence  score  \\\n",
              "42    Over the next 2000 years, global mean sea leve...        low      0   \n",
              "151   Model estimates suggest no significant change ...        low      0   \n",
              "322   For global warming up to 2°C above 1850–1900 l...        low      0   \n",
              "621   Given the projected future sea ice losses, the...        low      0   \n",
              "687   A small decrease in productivity is evident gl...        low      0   \n",
              "768   Nevertheless, the CMIP6 models show a somewhat...        low      0   \n",
              "974   Projected oxygen loss in the ocean is thought ...        low      0   \n",
              "980   One study inferred a multi-year net CO2 source...        low      0   \n",
              "997   Increasing ocean warming and stratification ma...        low      0   \n",
              "1005         The use of biochar reduces nutrient losses        low      0   \n",
              "1185  There is thus limited evidence and medium agre...        low      0   \n",
              "1263  The impact of SRM can affect different regions...        low      0   \n",
              "1510  Under around 2°C–3°C peak warming, complete or...        low      0   \n",
              "1567  Carbon dioxide removal, solar radiation modifi...        low      0   \n",
              "1885  In New Zealand, mean wind patterns are project...        low      0   \n",
              "1906       In NWS, a wide range of changes is projected        low      0   \n",
              "1928  Fire weather conditions have been increasing s...        low      0   \n",
              "1935  Wind stagnation events may become more frequen...        low      0   \n",
              "1957  The mean wind speeds decline in North America ...        low      0   \n",
              "2208  Under moderate future emissions overall negati...        low      0   \n",
              "3290  Many proposed adaptation measures have not bee...        low      0   \n",
              "3333  The most heat-tolerant species, such as those ...        low      0   \n",
              "3418  While this has not yet been systematically exp...        low      0   \n",
              "3428  The area of coastline suitable for Cholera, De...        low      0   \n",
              "3693  Other species, such as Posidonia oceanica in t...        low      0   \n",
              "3757  This is consistent with changes expected under...        low      0   \n",
              "3759  However, the interaction of coastal warming an...        low      0   \n",
              "3800  Projections also suggest that warming-related ...        low      0   \n",
              "3851  Owing to contradictory observations there is c...        low      0   \n",
              "4439  Mangrove reforestation efforts in Asia may hav...        low      0   \n",
              "4764  Anxiety about the potential risks of climate c...        low      0   \n",
              "5166  The depth of the Aragonite Saturation Horizon ...        low      0   \n",
              "5171  Acidification may alter sex determination (e.g...        low      0   \n",
              "5351  Significant increases in the intensity and fre...        low      0   \n",
              "5436  Large-scale agricultural growth has increased ...        low      0   \n",
              "5444  Species are projected to suffer changes in the...        low      0   \n",
              "5737  Elevated CO2 levels predicted at 4°C GWL will ...        low      0   \n",
              "6049  Climate change has been observed to affect nat...        low      0   \n",
              "6056  Pre-existing social vulnerabilities have also ...        low      0   \n",
              "6230  While forest growth is projected to potentiall...        low      0   \n",
              "6248  A national scale analysis projected climate ch...        low      0   \n",
              "6252  Coral reefs in some Indian Ocean hotspots (H23...        low      0   \n",
              "6547  Primary productivity has increased in the Paci...        low      0   \n",
              "6669  Literature suggests a larger climate-related i...        low      0   \n",
              "6775  Expert elicitation estimates that 4°C warming ...        low      0   \n",
              "7444  The production of synthetic fuels using low-ca...        low      0   \n",
              "7723  Changing wind variability may have a small-to-...        low      0   \n",
              "7725  The effect of climate change on bioenergy crop...        low      0   \n",
              "7875  The production of synthetic fuels using low-ca...        low      0   \n",
              "8086  BEVs could create jobs associated with the EV ...        low      0   \n",
              "\n",
              "     split                                        few_shots_3 prediction  \\\n",
              "42    test  [{'input': 'The increase in global ocean heat ...     medium   \n",
              "151   test  [{'input': 'Increased use of nitrogen fertiliz...     medium   \n",
              "322   test  [{'input': 'Paleoclimate reconstructions and s...     medium   \n",
              "621   test  [{'input': 'At sustained warming levels betwee...       high   \n",
              "687   test  [{'input': 'The corresponding reductions in av...     medium   \n",
              "768   test  [{'input': 'Compared with the differences betw...     medium   \n",
              "974   test  [{'input': 'Overall, there is medium confidenc...     medium   \n",
              "980   test  [{'input': 'Chapter 2 has assessed ecosystem c...        low   \n",
              "997   test  [{'input': 'Finally, although MHWs are an impo...        low   \n",
              "1005  test  [{'input': 'Biochar application improves many ...     medium   \n",
              "1185  test  [{'input': 'In contrast, the anthropogenic sig...        low   \n",
              "1263  test  [{'input': 'Solar radiation modification (SRM)...     medium   \n",
              "1510  test  [{'input': 'At sustained warming levels betwee...        low   \n",
              "1567  test  [{'input': 'Human activities were very likely ...        low   \n",
              "1885  test  [{'input': 'Due to the intensification and the...     medium   \n",
              "1906  test  [{'input': 'Projected changes in summer are hi...        low   \n",
              "1928  test  [{'input': 'With increased drying and heat com...     medium   \n",
              "1935  test  [{'input': 'Strong winds and extratropical sto...     medium   \n",
              "1957  test  [{'input': 'Mean wind speeds are expected to d...     medium   \n",
              "2208  test  [{'input': 'Water scarcity risks are projected...     medium   \n",
              "3290  test  [{'input': 'Evidence on realised co-benefits o...     medium   \n",
              "3333  test  [{'input': 'Mass population-level mortality (>...        low   \n",
              "3418  test  [{'input': 'Similarly, much of the MTEs are op...        low   \n",
              "3428  test  [{'input': 'Since 1970, mean temperature over ...        low   \n",
              "3693  test  [{'input': 'Loss of corals due to bleaching ha...        low   \n",
              "3757  test  [{'input': 'Despite the challenges of measurem...     medium   \n",
              "3759  test  [{'input': 'Ocean acidification and decrease i...        low   \n",
              "3800  test  [{'input': 'Overall, ocean warming and decreas...        idk   \n",
              "3851  test  [{'input': 'Ocean acidification and decrease i...        low   \n",
              "4439  test  [{'input': 'Adaptation measures in mangrove ec...     medium   \n",
              "4764  test  [{'input': 'Mental health impacts are expected...     medium   \n",
              "5166  test  [{'input': 'The pH of surface waters around Ne...     medium   \n",
              "5171  test  [{'input': 'Laboratory studies show that ocean...        low   \n",
              "5351  test  [{'input': 'An increase in the intensity and f...        low   \n",
              "5436  test  [{'input': 'Community-based participatory scen...       high   \n",
              "5444  test  [{'input': 'The 15% of species that did both (...       high   \n",
              "5737  test  [{'input': 'In terrestrial ecosystems, the fer...        low   \n",
              "6049  test  [{'input': 'In addition, the empirical finding...     medium   \n",
              "6056  test  [{'input': 'Profound social inequalities, urba...       high   \n",
              "6230  test  [{'input': 'Deforestation, temperature increas...     medium   \n",
              "6248  test  [{'input': 'The 15% of species that did both (...        low   \n",
              "6252  test  [{'input': 'Severe coral bleaching, together w...       high   \n",
              "6547  test  [{'input': 'CCP6.2.1.2 Ocean warming and sea i...     medium   \n",
              "6669  test  [{'input': 'A larger empirical literature offe...     medium   \n",
              "6775  test  [{'input': 'Regional level assessments of chan...     medium   \n",
              "7444  test  [{'input': 'At present hydrogen has limited ap...     medium   \n",
              "7723  test  [{'input': 'For a 4°C global warming, the chan...     medium   \n",
              "7725  test  [{'input': 'Plant breeding, fertilisation, irr...     medium   \n",
              "7875  test  [{'input': 'The biofuels supply chain may nega...     medium   \n",
              "8086  test  [{'input': 'Large-scale electrification of LDV...     medium   \n",
              "\n",
              "      correct  \n",
              "42      False  \n",
              "151     False  \n",
              "322     False  \n",
              "621     False  \n",
              "687     False  \n",
              "768     False  \n",
              "974     False  \n",
              "980      True  \n",
              "997      True  \n",
              "1005    False  \n",
              "1185     True  \n",
              "1263    False  \n",
              "1510     True  \n",
              "1567     True  \n",
              "1885    False  \n",
              "1906     True  \n",
              "1928    False  \n",
              "1935    False  \n",
              "1957    False  \n",
              "2208    False  \n",
              "3290    False  \n",
              "3333     True  \n",
              "3418     True  \n",
              "3428     True  \n",
              "3693     True  \n",
              "3757    False  \n",
              "3759     True  \n",
              "3800    False  \n",
              "3851     True  \n",
              "4439    False  \n",
              "4764    False  \n",
              "5166    False  \n",
              "5171     True  \n",
              "5351     True  \n",
              "5436    False  \n",
              "5444    False  \n",
              "5737     True  \n",
              "6049    False  \n",
              "6056    False  \n",
              "6230    False  \n",
              "6248     True  \n",
              "6252    False  \n",
              "6547    False  \n",
              "6669    False  \n",
              "6775    False  \n",
              "7444    False  \n",
              "7723    False  \n",
              "7725    False  \n",
              "7875    False  \n",
              "8086    False  >"
            ]
          },
          "execution_count": 48,
          "metadata": {},
          "output_type": "execute_result"
        }
      ],
      "source": [
        "samples.loc[samples['confidence'] == 'low'].head"
      ]
    },
    {
      "cell_type": "markdown",
      "metadata": {
        "id": "Bn-aDj9EB25L"
      },
      "source": [
        "## Saving experiment results\n",
        "\n",
        "Make sure to save the results for future analysis if needed."
      ]
    },
    {
      "cell_type": "code",
      "execution_count": 49,
      "metadata": {
        "id": "ltYVolc1H_rh"
      },
      "outputs": [],
      "source": [
        "samples.to_csv('gpt4-turbo-demos(search)-temp0-2024-06-02.csv', index=False)"
      ]
    },
    {
      "cell_type": "markdown",
      "metadata": {
        "id": "Z3NB-BQw0A5R"
      },
      "source": [
        "Alternatively, re-load a previous experiment."
      ]
    },
    {
      "cell_type": "code",
      "execution_count": 50,
      "metadata": {
        "id": "Nfj-8jAL0Bkz"
      },
      "outputs": [],
      "source": [
        "# samples = pd.read_csv('gpt4-turbo-demos-temp0-2024-05-30.csv', sep=',', skiprows=0)"
      ]
    },
    {
      "cell_type": "markdown",
      "metadata": {
        "id": "1N1C-Gy2kcce"
      },
      "source": [
        "## Precision, recall, and F1 score"
      ]
    },
    {
      "cell_type": "code",
      "execution_count": 51,
      "metadata": {
        "colab": {
          "base_uri": "https://localhost:8080/"
        },
        "id": "-j5UOZ21kekr",
        "outputId": "1bc8c1d9-92ca-4dd5-bb4a-c471b34b5d18"
      },
      "outputs": [
        {
          "name": "stdout",
          "output_type": "stream",
          "text": [
            "Macro F1 score: 0.37637524714802834\n",
            "Weighted F1 score: 0.41877486943490766\n",
            "Accuracy (total): 0.45084745762711864\n",
            "              precision    recall  f1-score   support\n",
            "\n",
            "        high     0.4870    0.5657    0.5234        99\n",
            "         low     0.4706    0.3265    0.3855        49\n",
            "      medium     0.4143    0.5979    0.4895        97\n",
            "   very high     0.5000    0.0600    0.1071        50\n",
            "\n",
            "    accuracy                         0.4508       295\n",
            "   macro avg     0.4680    0.3875    0.3764       295\n",
            "weighted avg     0.4626    0.4508    0.4188       295\n",
            "\n",
            "confidence\n",
            "high         99\n",
            "medium       97\n",
            "very high    50\n",
            "low          49\n",
            "Name: count, dtype: int64\n"
          ]
        }
      ],
      "source": [
        "from sklearn.metrics import f1_score, precision_score, recall_score, accuracy_score, classification_report\n",
        "\n",
        "true_labels = samples.loc[(samples['prediction'] != 'N/A') & (samples['prediction'] != 'idk'), 'confidence']\n",
        "predicted_labels = samples.loc[(samples['prediction'] != 'N/A') & (samples['prediction'] != 'idk'), 'prediction']\n",
        "\n",
        "# Compute macro F1 score\n",
        "f1 = f1_score(true_labels, predicted_labels, average='macro')\n",
        "print(\"Macro F1 score:\", f1)\n",
        "\n",
        "# Compute weighted F1 score\n",
        "f1 = f1_score(true_labels, predicted_labels, average='weighted')\n",
        "print(\"Weighted F1 score:\", f1)\n",
        "\n",
        "# Compute precision for each class\n",
        "precision = precision_score(true_labels, predicted_labels, average=None)\n",
        "\n",
        "# Compute recall for each class\n",
        "recall = recall_score(true_labels, predicted_labels, average=None)\n",
        "\n",
        "# Compute F1 score for each class\n",
        "f1 = f1_score(true_labels, predicted_labels, average=None)\n",
        "\n",
        "# Create a dataframe to store precision and recall for each class\n",
        "class_metrics_df = pd.DataFrame({'Precision': precision, 'Recall': recall, 'F1': f1})\n",
        "\n",
        "# Add labels to the class metrics dataframe\n",
        "class_metrics_df['Class'] = true_labels.unique().astype(str)\n",
        "\n",
        "# Sort the dataframe by class index or name\n",
        "class_metrics_df = class_metrics_df.sort_values('Class', key=lambda x: pd.Categorical(x, categories=[\"low\", \"medium\", \"high\", \"very high\"]))\n",
        "\n",
        "# Print class metrics dataframe\n",
        "#print(class_metrics_df)\n",
        "\n",
        "# Compute accuracy for the whole system\n",
        "accuracy = accuracy_score(true_labels, predicted_labels)\n",
        "\n",
        "# Compute accuracy by class\n",
        "\n",
        "print(\"Accuracy (total):\", accuracy)\n",
        "\n",
        "report = classification_report(true_labels, predicted_labels, digits=4)\n",
        "print(report)\n",
        "\n",
        "# Count classes\n",
        "category_counts = true_labels.value_counts()\n",
        "print(category_counts)\n",
        "\n"
      ]
    },
    {
      "cell_type": "markdown",
      "metadata": {
        "id": "ZZN3I0fxoRTc"
      },
      "source": [
        "## Over/under confidence assessment"
      ]
    },
    {
      "cell_type": "code",
      "execution_count": 52,
      "metadata": {
        "colab": {
          "base_uri": "https://localhost:8080/"
        },
        "id": "s1B3CwhEk87v",
        "outputId": "7cdaef97-8fca-4ff5-ca5d-49a47fe5c12e"
      },
      "outputs": [
        {
          "name": "stderr",
          "output_type": "stream",
          "text": [
            "C:\\Users\\yunlo\\AppData\\Local\\Temp\\ipykernel_31212\\201967900.py:7: SettingWithCopyWarning: \n",
            "A value is trying to be set on a copy of a slice from a DataFrame.\n",
            "Try using .loc[row_indexer,col_indexer] = value instead\n",
            "\n",
            "See the caveats in the documentation: https://pandas.pydata.org/pandas-docs/stable/user_guide/indexing.html#returning-a-view-versus-a-copy\n",
            "  fs['predicted_score'] = fs.prediction.apply(\n"
          ]
        },
        {
          "name": "stdout",
          "output_type": "stream",
          "text": [
            "=== All AR6 reports===\n",
            "Average ground truth score: 1.5\n",
            "Average predicted score: 1.3152542372881355\n",
            "Average scores per category: {'low': 0.7755102040816326, 'medium': 1.1443298969072164, 'high': 1.5858585858585859, 'very high': 1.64}\n",
            "\n",
            "=== AR6 WGI report ===\n",
            "Average ground truth score: 1.3157894736842106\n",
            "Average predicted score: 1.3870967741935485\n",
            "Average scores per category: {'low': 0.75, 'medium': 1.2424242424242424, 'high': 1.7666666666666666, 'very high': 2.0}\n",
            "\n",
            "=== AR6 WGII/III reports ===\n",
            "Average ground truth score: 1.5853658536585367\n",
            "Average predicted score: 1.2821782178217822\n",
            "Average scores per category: {'low': 0.7931034482758621, 'medium': 1.09375, 'high': 1.5072463768115942, 'very high': 1.55}\n",
            "\n"
          ]
        }
      ],
      "source": [
        "# Filter samples\n",
        "fs = samples.loc[(samples['prediction'] != 'N/A') & (samples['prediction'] != 'idk')] \n",
        "\n",
        "# Compute a certainty score\n",
        "value_map = {'low': 0, 'medium': 1, 'high': 2, 'very high': 3}\n",
        "\n",
        "fs['predicted_score'] = fs.prediction.apply(\n",
        "    lambda x: value_map[x])\n",
        "\n",
        "# Break down scores\n",
        "scores_all = {\n",
        "    \"low\": fs.loc[fs['score'] == 0, 'predicted_score'].mean(),\n",
        "    \"medium\": fs.loc[fs['score'] == 1, 'predicted_score'].mean(),\n",
        "    \"high\": fs.loc[fs['score'] == 2, 'predicted_score'].mean(),\n",
        "    \"very high\": fs.loc[fs['score'] == 3, 'predicted_score'].mean()\n",
        "}\n",
        "\n",
        "scores_wg1 = {\n",
        "    \"low\": fs.loc[(fs['score'] == 0) & (fs['report'] == 'AR6_WGI'), 'predicted_score'].mean(),\n",
        "    \"medium\": fs.loc[(fs['score'] == 1) & (fs['report'] == 'AR6_WGI'), 'predicted_score'].mean(),\n",
        "    \"high\": fs.loc[(fs['score'] == 2) & (fs['report'] == 'AR6_WGI'), 'predicted_score'].mean(),\n",
        "    \"very high\": fs.loc[(fs['score'] == 3) & (fs['report'] == 'AR6_WGI'), 'predicted_score'].mean()\n",
        "}\n",
        "\n",
        "scores_wg23 = {\n",
        "    \"low\": fs.loc[(fs['score'] == 0) & (fs['report'] != 'AR6_WGI'), 'predicted_score'].mean(),\n",
        "    \"medium\": fs.loc[(fs['score'] == 1) & (fs['report'] != 'AR6_WGI'), 'predicted_score'].mean(),\n",
        "    \"high\": fs.loc[(fs['score'] == 2) & (fs['report'] != 'AR6_WGI'), 'predicted_score'].mean(),\n",
        "    \"very high\": fs.loc[(fs['score'] == 3) & (fs['report'] != 'AR6_WGI'), 'predicted_score'].mean()\n",
        "}\n",
        "\n",
        "print(\"=== All AR6 reports===\")\n",
        "print(f\"Average ground truth score: {samples['score'].mean()}\")\n",
        "print(f\"Average predicted score: {fs['predicted_score'].mean()}\")\n",
        "print(f\"Average scores per category: {scores_all}\\n\")\n",
        "\n",
        "print(\"=== AR6 WGI report ===\")\n",
        "print(f\"Average ground truth score: {samples.loc[samples['report'] == 'AR6_WGI', 'score'].mean()}\")\n",
        "print(f\"Average predicted score: {fs.loc[fs['report'] == 'AR6_WGI', 'predicted_score'].mean()}\")\n",
        "print(f\"Average scores per category: {scores_wg1}\\n\")\n",
        "\n",
        "print(\"=== AR6 WGII/III reports ===\")\n",
        "print(f\"Average ground truth score: {samples.loc[samples['report'] != 'AR6_WGI', 'score'].mean()}\")\n",
        "print(f\"Average predicted score: {fs.loc[fs['report'] != 'AR6_WGI', 'predicted_score'].mean()}\")\n",
        "print(f\"Average scores per category: {scores_wg23}\\n\")"
      ]
    },
    {
      "cell_type": "code",
      "execution_count": 53,
      "metadata": {
        "colab": {
          "base_uri": "https://localhost:8080/",
          "height": 410
        },
        "id": "itj9eDZhBvns",
        "outputId": "6e9efc61-df12-4a3b-ebf2-6bfd819e369d"
      },
      "outputs": [
        {
          "name": "stderr",
          "output_type": "stream",
          "text": [
            "c:\\Users\\yunlo\\anaconda3\\envs\\ChatIAMs0528-2\\Lib\\site-packages\\seaborn\\_oldcore.py:1119: FutureWarning: use_inf_as_na option is deprecated and will be removed in a future version. Convert inf values to NaN before operating instead.\n",
            "  with pd.option_context('mode.use_inf_as_na', True):\n",
            "c:\\Users\\yunlo\\anaconda3\\envs\\ChatIAMs0528-2\\Lib\\site-packages\\seaborn\\_oldcore.py:1119: FutureWarning: use_inf_as_na option is deprecated and will be removed in a future version. Convert inf values to NaN before operating instead.\n",
            "  with pd.option_context('mode.use_inf_as_na', True):\n",
            "c:\\Users\\yunlo\\anaconda3\\envs\\ChatIAMs0528-2\\Lib\\site-packages\\seaborn\\_oldcore.py:1119: FutureWarning: use_inf_as_na option is deprecated and will be removed in a future version. Convert inf values to NaN before operating instead.\n",
            "  with pd.option_context('mode.use_inf_as_na', True):\n",
            "c:\\Users\\yunlo\\anaconda3\\envs\\ChatIAMs0528-2\\Lib\\site-packages\\seaborn\\_oldcore.py:1119: FutureWarning: use_inf_as_na option is deprecated and will be removed in a future version. Convert inf values to NaN before operating instead.\n",
            "  with pd.option_context('mode.use_inf_as_na', True):\n",
            "c:\\Users\\yunlo\\anaconda3\\envs\\ChatIAMs0528-2\\Lib\\site-packages\\seaborn\\_oldcore.py:1119: FutureWarning: use_inf_as_na option is deprecated and will be removed in a future version. Convert inf values to NaN before operating instead.\n",
            "  with pd.option_context('mode.use_inf_as_na', True):\n",
            "c:\\Users\\yunlo\\anaconda3\\envs\\ChatIAMs0528-2\\Lib\\site-packages\\seaborn\\_oldcore.py:1119: FutureWarning: use_inf_as_na option is deprecated and will be removed in a future version. Convert inf values to NaN before operating instead.\n",
            "  with pd.option_context('mode.use_inf_as_na', True):\n"
          ]
        },
        {
          "data": {
            "image/png": "[encoded data removed]",
            "text/plain": [
              "<Figure size 500x400 with 1 Axes>"
            ]
          },
          "metadata": {},
          "output_type": "display_data"
        }
      ],
      "source": [
        "import seaborn as sns\n",
        "import matplotlib.pyplot as plt\n",
        "import numpy as np\n",
        "\n",
        "# Define the data\n",
        "\n",
        "# Extract labels and values from the data dictionary\n",
        "labels = list(scores_all.keys())\n",
        "values_all = list(scores_all.values())\n",
        "values_wg1 = list(scores_wg1.values())\n",
        "values_wg23 = list(scores_wg23.values())\n",
        "\n",
        "# Define the custom labels for the x-axis\n",
        "x_labels = ['0 (Low)', '1 (Medium)', '2 (High)', '3 (Very high)']\n",
        "\n",
        "plt.figure(figsize=(5, 4))\n",
        "\n",
        "# Create the line plot with labeled curve\n",
        "sns.lineplot(x=labels, y=values_all, label='All reports')\n",
        "sns.lineplot(x=labels, y=values_wg1, linestyle='--', color=\"steelblue\", label='WG1 report')\n",
        "sns.lineplot(x=labels, y=values_wg23, linestyle='dotted', color=\"steelblue\", label='WG2 & WG3 report')\n",
        "\n",
        "\n",
        "# Add the ground truth line (y = x)\n",
        "x = np.arange(len(labels))\n",
        "plt.plot(x, x, linestyle='--', color='red', label='Ground truth')\n",
        "\n",
        "# Customize the x-axis tick labels\n",
        "plt.xticks(labels, x_labels)\n",
        "\n",
        "# Set the y-axis limits\n",
        "plt.ylim(0, 3)\n",
        "\n",
        "# Set the title and labels\n",
        "plt.title(\"Average predicted confidence level\")\n",
        "plt.xlabel(\"Ground truth\")\n",
        "plt.ylabel(\"Prediction\")\n",
        "\n",
        "\n",
        "# Show the legend\n",
        "plt.legend()\n",
        "\n",
        "# Show the plot\n",
        "plt.savefig(\"gpt3.5-fewshot.png\", dpi=500)\n",
        "plt.show()"
      ]
    },
    {
      "cell_type": "code",
      "execution_count": null,
      "metadata": {},
      "outputs": [],
      "source": []
    },
    {
      "cell_type": "code",
      "execution_count": null,
      "metadata": {},
      "outputs": [],
      "source": []
    }
  ],
  "metadata": {
    "colab": {
      "provenance": []
    },
    "kernelspec": {
      "display_name": "Python 3",
      "name": "python3"
    },
    "language_info": {
      "codemirror_mode": {
        "name": "ipython",
        "version": 3
      },
      "file_extension": ".py",
      "mimetype": "text/x-python",
      "name": "python",
      "nbconvert_exporter": "python",
      "pygments_lexer": "ipython3",
      "version": "3.12.3"
    }
  },
  "nbformat": 4,
  "nbformat_minor": 0
}
